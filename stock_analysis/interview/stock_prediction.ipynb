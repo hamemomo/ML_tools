{
 "cells": [
  {
   "cell_type": "code",
   "execution_count": 1,
   "metadata": {},
   "outputs": [
    {
     "name": "stderr",
     "output_type": "stream",
     "text": [
      "C:\\Users\\jim83\\AppData\\Local\\Continuum\\anaconda3\\lib\\site-packages\\h5py\\__init__.py:36: FutureWarning: Conversion of the second argument of issubdtype from `float` to `np.floating` is deprecated. In future, it will be treated as `np.float64 == np.dtype(float).type`.\n",
      "  from ._conv import register_converters as _register_converters\n",
      "Using TensorFlow backend.\n"
     ]
    }
   ],
   "source": [
    "import numpy as np\n",
    "import pandas as pd\n",
    "import keras\n",
    "from keras.models import Model\n",
    "from keras.layers import Input,Dense,Flatten\n",
    "from keras.layers import LSTM\n",
    "from numpy import array\n"
   ]
  },
  {
   "cell_type": "markdown",
   "metadata": {},
   "source": [
    "# function"
   ]
  },
  {
   "cell_type": "code",
   "execution_count": 2,
   "metadata": {},
   "outputs": [],
   "source": [
    "#define normalization\n",
    "def normalize(train):\n",
    "    train_norm = train.apply(lambda x: (x - np.mean(x)) / (np.max(x) - np.min(x)))\n",
    "    return train_norm\n",
    "\n",
    "#define the feature and label\n",
    "def train_(df, ref_day, predict_day):\n",
    "    X_train, Y_train = [], []\n",
    "    for i in range(df.shape[0]+predict_day-ref_day):\n",
    "        X_train.append(np.array(df.iloc[i:i+ref_day,0:4]))\n",
    "        Y_train.append(np.array(df.iloc[i+ref_day : i+ref_day+predict_day,4]))\n",
    "    return np.array(X_train), np.array(Y_train)\n",
    "\n",
    "#define the denormalization\n",
    "def denormalize(train):\n",
    "    denorm = train*(np.max(data_train['TWA00']['收盤價'])-np.min(data_train['TWA00']['收盤價']))+np.mean(data_train['TWA00']['收盤價'])\n",
    "    return denorm"
   ]
  },
  {
   "cell_type": "markdown",
   "metadata": {},
   "source": [
    "## read data from .csv"
   ]
  },
  {
   "cell_type": "code",
   "execution_count": 3,
   "metadata": {},
   "outputs": [],
   "source": [
    "df_train = pd.read_csv('./Train_X.csv',encoding= 'cp950')\n",
    "df_test = pd.read_csv('./Test_X.csv',encoding= 'cp950')"
   ]
  },
  {
   "cell_type": "code",
   "execution_count": 4,
   "metadata": {},
   "outputs": [],
   "source": [
    "data_train = {}\n",
    "data_test ={}"
   ]
  },
  {
   "cell_type": "markdown",
   "metadata": {},
   "source": [
    "# feature engineering\n",
    "\n",
    "### 使用 開盤價 最高價 最低價 成交量來當作 feature"
   ]
  },
  {
   "cell_type": "code",
   "execution_count": 5,
   "metadata": {},
   "outputs": [],
   "source": [
    "df_train = df_train.sort_values('日期')\n",
    "df_test = df_test.sort_values('日期')\n",
    "stock_list_train = (df_train['股票代號'].unique()).tolist()\n",
    "\n",
    "for name in stock_list_train:\n",
    "    data_test[name]=df_test[df_test['股票代號']==name].loc[:,['開盤價', '最高價','最低價','成交量.股.','收盤價']]\n",
    "for name in stock_list_train:\n",
    "    data_train[name]=df_train[df_train['股票代號']==name].loc[:,['開盤價', '最高價','最低價','成交量.股.','收盤價']]\n",
    "    \n",
    "TWA00_test= normalize(data_test['TWA00'])\n",
    "TWA00_train= normalize(data_train['TWA00'])\n"
   ]
  },
  {
   "cell_type": "markdown",
   "metadata": {},
   "source": [
    "# setting data for training\n",
    "### 每5天做成一筆training data 預測第6天"
   ]
  },
  {
   "cell_type": "code",
   "execution_count": 7,
   "metadata": {},
   "outputs": [],
   "source": [
    "X_train,Y_train=train_(TWA00_train,5,1)\n",
    "X_test,Y_test=train_(TWA00_test,5,1)\n",
    "\n",
    "\n",
    "x_train = np.delete(X_train,232,0)\n",
    "y_train = np.empty([232,1,1], dtype=float)\n",
    "for k in range(232):\n",
    "    y_train[k] = Y_train[k]\n",
    "\n",
    "\n",
    "y_train = y_train.reshape(232,1)\n",
    "\n",
    "real_price = denormalize(TWA00_test['收盤價']).tolist()"
   ]
  },
  {
   "cell_type": "markdown",
   "metadata": {},
   "source": [
    "# # define model"
   ]
  },
  {
   "cell_type": "code",
   "execution_count": 8,
   "metadata": {},
   "outputs": [],
   "source": [
    "# define model\n",
    "\n",
    "units = 50\n",
    "inputs1 = Input(shape=(X_train.shape[1], X_train.shape[2]))\n",
    "lstm1=LSTM(units, activation='relu', recurrent_activation='hard_sigmoid',return_sequences=True,dropout=0.3)(inputs1)\n",
    "lstm2=LSTM(units, activation='relu', recurrent_activation='hard_sigmoid',return_sequences=True,dropout=0.3)(lstm1)\n",
    "lstm3=LSTM(units, activation='relu', recurrent_activation='hard_sigmoid',return_sequences=True,dropout=0.3)(lstm2)\n",
    "final=LSTM(1, activation='tanh', recurrent_activation='hard_sigmoid',return_sequences = False)(lstm3)\n",
    "adam = keras.optimizers.Adam(lr=0.001, beta_1=0.99, beta_2=0.999, amsgrad=False)\n",
    "\n",
    "model = Model(inputs=inputs1, outputs=final)\n",
    "model.compile(optimizer=adam, loss='mean_squared_error')"
   ]
  },
  {
   "cell_type": "markdown",
   "metadata": {},
   "source": [
    "# model training"
   ]
  },
  {
   "cell_type": "code",
   "execution_count": 9,
   "metadata": {},
   "outputs": [
    {
     "name": "stderr",
     "output_type": "stream",
     "text": [
      "WARNING: Logging before flag parsing goes to stderr.\n",
      "W0317 21:43:45.215007  8816 deprecation.py:323] From C:\\Users\\jim83\\AppData\\Local\\Continuum\\anaconda3\\lib\\site-packages\\tensorflow\\python\\ops\\math_grad.py:1250: add_dispatch_support.<locals>.wrapper (from tensorflow.python.ops.array_ops) is deprecated and will be removed in a future version.\n",
      "Instructions for updating:\n",
      "Use tf.where in 2.0, which has the same broadcast rule as np.where\n",
      "W0317 21:43:51.425096  8816 deprecation_wrapper.py:119] From C:\\Users\\jim83\\AppData\\Local\\Continuum\\anaconda3\\lib\\site-packages\\keras\\backend\\tensorflow_backend.py:422: The name tf.global_variables is deprecated. Please use tf.compat.v1.global_variables instead.\n",
      "\n"
     ]
    },
    {
     "name": "stdout",
     "output_type": "stream",
     "text": [
      "Epoch 1/100\n",
      "232/232 [==============================] - 4s 16ms/step - loss: 0.0521\n",
      "Epoch 2/100\n",
      "232/232 [==============================] - 0s 1ms/step - loss: 0.0486\n",
      "Epoch 3/100\n",
      "232/232 [==============================] - 0s 1ms/step - loss: 0.0430\n",
      "Epoch 4/100\n",
      "232/232 [==============================] - 0s 1ms/step - loss: 0.0327\n",
      "Epoch 5/100\n",
      "232/232 [==============================] - 0s 1ms/step - loss: 0.0216\n",
      "Epoch 6/100\n",
      "232/232 [==============================] - 0s 1ms/step - loss: 0.0180\n",
      "Epoch 7/100\n",
      "232/232 [==============================] - 0s 1ms/step - loss: 0.0193\n",
      "Epoch 8/100\n",
      "232/232 [==============================] - 0s 1ms/step - loss: 0.0233\n",
      "Epoch 9/100\n",
      "232/232 [==============================] - 0s 1ms/step - loss: 0.0156\n",
      "Epoch 10/100\n",
      "232/232 [==============================] - 0s 1ms/step - loss: 0.0159\n",
      "Epoch 11/100\n",
      "232/232 [==============================] - 0s 1ms/step - loss: 0.0141\n",
      "Epoch 12/100\n",
      "232/232 [==============================] - 0s 1ms/step - loss: 0.0158\n",
      "Epoch 13/100\n",
      "232/232 [==============================] - 0s 1ms/step - loss: 0.0156\n",
      "Epoch 14/100\n",
      "232/232 [==============================] - 0s 1ms/step - loss: 0.0173\n",
      "Epoch 15/100\n",
      "232/232 [==============================] - 0s 1ms/step - loss: 0.0168\n",
      "Epoch 16/100\n",
      "232/232 [==============================] - 0s 1ms/step - loss: 0.0144\n",
      "Epoch 17/100\n",
      "232/232 [==============================] - 0s 1ms/step - loss: 0.0145\n",
      "Epoch 18/100\n",
      "232/232 [==============================] - 0s 1ms/step - loss: 0.0139\n",
      "Epoch 19/100\n",
      "232/232 [==============================] - 0s 1ms/step - loss: 0.0150\n",
      "Epoch 20/100\n",
      "232/232 [==============================] - 0s 1ms/step - loss: 0.0140\n",
      "Epoch 21/100\n",
      "232/232 [==============================] - 0s 1ms/step - loss: 0.0162\n",
      "Epoch 22/100\n",
      "232/232 [==============================] - 0s 1ms/step - loss: 0.0158\n",
      "Epoch 23/100\n",
      "232/232 [==============================] - 0s 943us/step - loss: 0.0137\n",
      "Epoch 24/100\n",
      "232/232 [==============================] - 0s 1ms/step - loss: 0.0131\n",
      "Epoch 25/100\n",
      "232/232 [==============================] - 0s 1ms/step - loss: 0.0123\n",
      "Epoch 26/100\n",
      "232/232 [==============================] - 0s 2ms/step - loss: 0.0129\n",
      "Epoch 27/100\n",
      "232/232 [==============================] - 0s 1ms/step - loss: 0.0136\n",
      "Epoch 28/100\n",
      "232/232 [==============================] - 0s 2ms/step - loss: 0.0143\n",
      "Epoch 29/100\n",
      "232/232 [==============================] - 0s 1ms/step - loss: 0.0127\n",
      "Epoch 30/100\n",
      "232/232 [==============================] - 0s 1ms/step - loss: 0.0126\n",
      "Epoch 31/100\n",
      "232/232 [==============================] - 0s 1ms/step - loss: 0.0120\n",
      "Epoch 32/100\n",
      "232/232 [==============================] - 0s 2ms/step - loss: 0.0121\n",
      "Epoch 33/100\n",
      "232/232 [==============================] - 0s 2ms/step - loss: 0.0130\n",
      "Epoch 34/100\n",
      "232/232 [==============================] - 0s 1ms/step - loss: 0.0108\n",
      "Epoch 35/100\n",
      "232/232 [==============================] - 0s 2ms/step - loss: 0.0114\n",
      "Epoch 36/100\n",
      "232/232 [==============================] - 0s 2ms/step - loss: 0.0118\n",
      "Epoch 37/100\n",
      "232/232 [==============================] - 0s 2ms/step - loss: 0.0120\n",
      "Epoch 38/100\n",
      "232/232 [==============================] - 0s 2ms/step - loss: 0.0118\n",
      "Epoch 39/100\n",
      "232/232 [==============================] - 0s 2ms/step - loss: 0.0122\n",
      "Epoch 40/100\n",
      "232/232 [==============================] - 0s 2ms/step - loss: 0.0112\n",
      "Epoch 41/100\n",
      "232/232 [==============================] - 0s 2ms/step - loss: 0.0110\n",
      "Epoch 42/100\n",
      "232/232 [==============================] - 0s 2ms/step - loss: 0.0137\n",
      "Epoch 43/100\n",
      "232/232 [==============================] - 0s 2ms/step - loss: 0.0125\n",
      "Epoch 44/100\n",
      "232/232 [==============================] - 0s 2ms/step - loss: 0.0118\n",
      "Epoch 45/100\n",
      "232/232 [==============================] - 0s 1ms/step - loss: 0.0125\n",
      "Epoch 46/100\n",
      "232/232 [==============================] - 0s 1ms/step - loss: 0.0108\n",
      "Epoch 47/100\n",
      "232/232 [==============================] - 0s 1ms/step - loss: 0.0114\n",
      "Epoch 48/100\n",
      "232/232 [==============================] - 0s 1ms/step - loss: 0.0099\n",
      "Epoch 49/100\n",
      "232/232 [==============================] - 0s 1ms/step - loss: 0.0108\n",
      "Epoch 50/100\n",
      "232/232 [==============================] - 0s 1ms/step - loss: 0.0132\n",
      "Epoch 51/100\n",
      "232/232 [==============================] - 0s 1ms/step - loss: 0.0102\n",
      "Epoch 52/100\n",
      "232/232 [==============================] - 0s 1ms/step - loss: 0.0119\n",
      "Epoch 53/100\n",
      "232/232 [==============================] - 0s 1ms/step - loss: 0.0104\n",
      "Epoch 54/100\n",
      "232/232 [==============================] - 0s 1ms/step - loss: 0.0100\n",
      "Epoch 55/100\n",
      "232/232 [==============================] - 0s 1ms/step - loss: 0.0118\n",
      "Epoch 56/100\n",
      "232/232 [==============================] - 0s 1ms/step - loss: 0.0108\n",
      "Epoch 57/100\n",
      "232/232 [==============================] - 0s 2ms/step - loss: 0.0100\n",
      "Epoch 58/100\n",
      "232/232 [==============================] - 0s 2ms/step - loss: 0.0095\n",
      "Epoch 59/100\n",
      "232/232 [==============================] - 0s 1ms/step - loss: 0.0091\n",
      "Epoch 60/100\n",
      "232/232 [==============================] - 0s 1ms/step - loss: 0.0105\n",
      "Epoch 61/100\n",
      "232/232 [==============================] - 0s 1ms/step - loss: 0.0111\n",
      "Epoch 62/100\n",
      "232/232 [==============================] - 0s 1ms/step - loss: 0.0111\n",
      "Epoch 63/100\n",
      "232/232 [==============================] - 0s 1ms/step - loss: 0.0091\n",
      "Epoch 64/100\n",
      "232/232 [==============================] - 0s 1ms/step - loss: 0.0099\n",
      "Epoch 65/100\n",
      "232/232 [==============================] - 0s 1ms/step - loss: 0.0089\n",
      "Epoch 66/100\n",
      "232/232 [==============================] - 0s 1ms/step - loss: 0.0108\n",
      "Epoch 67/100\n",
      "232/232 [==============================] - 0s 1ms/step - loss: 0.0109\n",
      "Epoch 68/100\n",
      "232/232 [==============================] - 0s 1ms/step - loss: 0.0086\n",
      "Epoch 69/100\n",
      "232/232 [==============================] - 0s 1ms/step - loss: 0.0094\n",
      "Epoch 70/100\n",
      "232/232 [==============================] - 0s 1ms/step - loss: 0.0100\n",
      "Epoch 71/100\n",
      "232/232 [==============================] - 0s 1ms/step - loss: 0.0092\n",
      "Epoch 72/100\n",
      "232/232 [==============================] - 0s 1ms/step - loss: 0.0086\n",
      "Epoch 73/100\n",
      "232/232 [==============================] - 0s 1ms/step - loss: 0.0087\n",
      "Epoch 74/100\n",
      "232/232 [==============================] - 0s 1ms/step - loss: 0.0087\n",
      "Epoch 75/100\n",
      "232/232 [==============================] - 0s 1ms/step - loss: 0.0079\n",
      "Epoch 76/100\n",
      "232/232 [==============================] - 0s 1ms/step - loss: 0.0093\n",
      "Epoch 77/100\n",
      "232/232 [==============================] - 0s 1ms/step - loss: 0.0080\n",
      "Epoch 78/100\n",
      "232/232 [==============================] - 0s 1ms/step - loss: 0.0094\n",
      "Epoch 79/100\n",
      "232/232 [==============================] - 0s 1ms/step - loss: 0.0083\n",
      "Epoch 80/100\n",
      "232/232 [==============================] - 0s 1ms/step - loss: 0.0100\n",
      "Epoch 81/100\n",
      "232/232 [==============================] - 0s 1ms/step - loss: 0.0086\n",
      "Epoch 82/100\n",
      "232/232 [==============================] - 0s 1ms/step - loss: 0.0087\n",
      "Epoch 83/100\n",
      "232/232 [==============================] - 0s 1ms/step - loss: 0.0086\n",
      "Epoch 84/100\n",
      "232/232 [==============================] - 0s 1ms/step - loss: 0.0088\n",
      "Epoch 85/100\n",
      "232/232 [==============================] - 0s 1ms/step - loss: 0.0073\n",
      "Epoch 86/100\n",
      "232/232 [==============================] - 0s 1ms/step - loss: 0.0071\n",
      "Epoch 87/100\n",
      "232/232 [==============================] - 0s 1ms/step - loss: 0.0078\n",
      "Epoch 88/100\n",
      "232/232 [==============================] - 0s 1ms/step - loss: 0.0076\n",
      "Epoch 89/100\n",
      "232/232 [==============================] - 0s 1ms/step - loss: 0.0073\n",
      "Epoch 90/100\n",
      "232/232 [==============================] - 0s 1ms/step - loss: 0.0075\n",
      "Epoch 91/100\n",
      "232/232 [==============================] - 0s 1ms/step - loss: 0.0066\n",
      "Epoch 92/100\n",
      "232/232 [==============================] - 0s 1ms/step - loss: 0.0074\n",
      "Epoch 93/100\n",
      "232/232 [==============================] - 0s 1ms/step - loss: 0.0066\n",
      "Epoch 94/100\n",
      "232/232 [==============================] - 0s 1ms/step - loss: 0.0089\n",
      "Epoch 95/100\n",
      "232/232 [==============================] - 0s 1ms/step - loss: 0.0063A: 0s - loss: 0.006\n",
      "Epoch 96/100\n",
      "232/232 [==============================] - 0s 1ms/step - loss: 0.0069\n",
      "Epoch 97/100\n",
      "232/232 [==============================] - 0s 1ms/step - loss: 0.0067\n",
      "Epoch 98/100\n",
      "232/232 [==============================] - 0s 1ms/step - loss: 0.0077\n",
      "Epoch 99/100\n"
     ]
    },
    {
     "name": "stdout",
     "output_type": "stream",
     "text": [
      "232/232 [==============================] - 0s 1ms/step - loss: 0.0058\n",
      "Epoch 100/100\n",
      "232/232 [==============================] - 0s 1ms/step - loss: 0.0069\n"
     ]
    },
    {
     "data": {
      "text/plain": [
       "<keras.callbacks.callbacks.History at 0x1eed40ecef0>"
      ]
     },
     "execution_count": 9,
     "metadata": {},
     "output_type": "execute_result"
    }
   ],
   "source": [
    "model.fit(x_train,y_train,epochs = 100, batch_size = 20)"
   ]
  },
  {
   "attachments": {
    "image.png": {
     "image/png": "[encoded data removed]"
    }
   },
   "cell_type": "markdown",
   "metadata": {},
   "source": [
    "\n",
    "![image.png](attachment:image.png)\n",
    "\n",
    "### 利用前五天來預測第六天的數據，因此需要使用到training data 的部分數據(12/12-12/17 不含六日的五筆數據)"
   ]
  },
  {
   "cell_type": "code",
   "execution_count": 28,
   "metadata": {},
   "outputs": [],
   "source": [
    "matrix = np.zeros((1,5,4))\n",
    "trans = x_train[-1].reshape(1,5,4)\n",
    "result= []\n",
    "for i in range(10):\n",
    "    if i<=4 :\n",
    "        result.append(denormalize(model.predict(trans))[0][0])\n",
    "        #print('i = ',i ,\"\\n\",trans)\n",
    "        matrix[0][0:4] = trans[0][1:5]\n",
    "        matrix[0][4] = X_test[0][i]\n",
    "        trans = matrix\n",
    "    else:\n",
    "        #print('i = ',i ,\"\\n\",X_test[i-5])\n",
    "        result.append(denormalize(model.predict(X_test[i-5].reshape(1,5,4)))[0][0])"
   ]
  },
  {
   "cell_type": "code",
   "execution_count": 29,
   "metadata": {},
   "outputs": [
    {
     "name": "stdout",
     "output_type": "stream",
     "text": [
      "232/232 [==============================] - 0s 203us/step\n"
     ]
    },
    {
     "data": {
      "text/plain": [
       "0.005978415832565776"
      ]
     },
     "execution_count": 29,
     "metadata": {},
     "output_type": "execute_result"
    }
   ],
   "source": [
    "model.evaluate(x_train,y_train)"
   ]
  },
  {
   "cell_type": "code",
   "execution_count": 31,
   "metadata": {
    "scrolled": true
   },
   "outputs": [
    {
     "data": {
      "image/png": "[encoded data removed]",
      "text/plain": [
       "<matplotlib.figure.Figure at 0x1eee8db5a90>"
      ]
     },
     "metadata": {},
     "output_type": "display_data"
    }
   ],
   "source": [
    "import matplotlib.pyplot as plt \n",
    "plt.plot(range(10),real_price, color = 'red', label = 'Real Price')  # 紅線表示真實股價\n",
    "plt.plot(range(10),Predicted_Price, color = 'blue', label = 'Predicted Price')  # 藍線表示預測股價\n",
    "plt.title('Price Prediction')\n",
    "plt.xlabel('Time')\n",
    "plt.ylabel('Stock Price')\n",
    "plt.legend()\n",
    "plt.show()"
   ]
  },
  {
   "cell_type": "code",
   "execution_count": 36,
   "metadata": {},
   "outputs": [],
   "source": [
    "def MSE(forecast, prediction):\n",
    "    mse = np.mean((forecast - prediction)**2) \n",
    "    return mse"
   ]
  },
  {
   "cell_type": "code",
   "execution_count": 37,
   "metadata": {},
   "outputs": [
    {
     "ename": "TypeError",
     "evalue": "unsupported operand type(s) for -: 'list' and 'list'",
     "output_type": "error",
     "traceback": [
      "\u001b[1;31m---------------------------------------------------------------------------\u001b[0m",
      "\u001b[1;31mTypeError\u001b[0m                                 Traceback (most recent call last)",
      "\u001b[1;32m<ipython-input-37-8d0d30abd05c>\u001b[0m in \u001b[0;36m<module>\u001b[1;34m()\u001b[0m\n\u001b[1;32m----> 1\u001b[1;33m \u001b[0ma\u001b[0m \u001b[1;33m=\u001b[0m \u001b[0mMSE\u001b[0m\u001b[1;33m(\u001b[0m\u001b[0mreal_price\u001b[0m\u001b[1;33m,\u001b[0m\u001b[0mPredicted_Price\u001b[0m\u001b[1;33m)\u001b[0m\u001b[1;33m\u001b[0m\u001b[0m\n\u001b[0m",
      "\u001b[1;32m<ipython-input-36-748764fa7d50>\u001b[0m in \u001b[0;36mMSE\u001b[1;34m(forecast, prediction)\u001b[0m\n\u001b[0;32m      1\u001b[0m \u001b[1;32mdef\u001b[0m \u001b[0mMSE\u001b[0m\u001b[1;33m(\u001b[0m\u001b[0mforecast\u001b[0m\u001b[1;33m,\u001b[0m \u001b[0mprediction\u001b[0m\u001b[1;33m)\u001b[0m\u001b[1;33m:\u001b[0m\u001b[1;33m\u001b[0m\u001b[0m\n\u001b[1;32m----> 2\u001b[1;33m     \u001b[0mmse\u001b[0m \u001b[1;33m=\u001b[0m \u001b[0mnp\u001b[0m\u001b[1;33m.\u001b[0m\u001b[0mmean\u001b[0m\u001b[1;33m(\u001b[0m\u001b[1;33m(\u001b[0m\u001b[0mforecast\u001b[0m \u001b[1;33m-\u001b[0m \u001b[0mprediction\u001b[0m\u001b[1;33m)\u001b[0m\u001b[1;33m**\u001b[0m\u001b[1;36m2\u001b[0m\u001b[1;33m)\u001b[0m\u001b[1;33m\u001b[0m\u001b[0m\n\u001b[0m\u001b[0;32m      3\u001b[0m     \u001b[1;32mreturn\u001b[0m \u001b[0mmse\u001b[0m\u001b[1;33m\u001b[0m\u001b[0m\n",
      "\u001b[1;31mTypeError\u001b[0m: unsupported operand type(s) for -: 'list' and 'list'"
     ]
    }
   ],
   "source": [
    "a = MSE(real_price,Predicted_Price)"
   ]
  },
  {
   "cell_type": "code",
   "execution_count": null,
   "metadata": {},
   "outputs": [],
   "source": []
  }
 ],
 "metadata": {
  "kernelspec": {
   "display_name": "Python 3",
   "language": "python",
   "name": "python3"
  },
  "language_info": {
   "codemirror_mode": {
    "name": "ipython",
    "version": 3
   },
   "file_extension": ".py",
   "mimetype": "text/x-python",
   "name": "python",
   "nbconvert_exporter": "python",
   "pygments_lexer": "ipython3",
   "version": "3.6.4"
  }
 },
 "nbformat": 4,
 "nbformat_minor": 2
}
