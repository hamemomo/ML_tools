{
 "cells": [
  {
   "cell_type": "code",
   "execution_count": 159,
   "metadata": {},
   "outputs": [],
   "source": [
    "import numpy as np\n",
    "import pandas as pd\n",
    "from keras.models import Model\n",
    "from keras.layers import Input,Dense,Flatten\n",
    "from keras.layers import LSTM\n",
    "from numpy import array"
   ]
  },
  {
   "cell_type": "code",
   "execution_count": 160,
   "metadata": {},
   "outputs": [],
   "source": [
    "df_train = pd.read_csv('./Train_X.csv',encoding= 'cp950')\n"
   ]
  },
  {
   "cell_type": "code",
   "execution_count": 161,
   "metadata": {},
   "outputs": [],
   "source": [
    "data_train = {}\n",
    "data_test ={}"
   ]
  },
  {
   "cell_type": "code",
   "execution_count": null,
   "metadata": {},
   "outputs": [],
   "source": []
  },
  {
   "cell_type": "code",
   "execution_count": null,
   "metadata": {},
   "outputs": [],
   "source": []
  },
  {
   "cell_type": "code",
   "execution_count": 162,
   "metadata": {},
   "outputs": [],
   "source": [
    "df_train = df_train.sort_values('日期')\n",
    "df_test = df_test.sort_values('日期')\n",
    "stock_list_train = (df_train['股票代號'].unique()).tolist()\n",
    "\n",
    "for name in stock_list_train:\n",
    "    data_train[name]=df_train[df_train['股票代號']==name].loc[:,['開盤價', '最高價','最低價','成交量.股.','收盤價']]"
   ]
  },
  {
   "cell_type": "code",
   "execution_count": 163,
   "metadata": {},
   "outputs": [],
   "source": [
    "columns = data_train['TWA00'].columns"
   ]
  },
  {
   "cell_type": "code",
   "execution_count": 164,
   "metadata": {},
   "outputs": [],
   "source": [
    "#定義正規化函式\n",
    "def normalize(train):\n",
    "    train_norm = train.apply(lambda x: (x - np.mean(x)) / (np.max(x) - np.min(x)))\n",
    "    return train_norm\n",
    "\n",
    "#定義餵入的feature跟label序列\n",
    "def train_(df, ref_day, predict_day):\n",
    "    X_train, Y_train = [], []\n",
    "    for i in range(df.shape[0]+predict_day-ref_day):\n",
    "        X_train.append(np.array(df.iloc[i:i+ref_day,0:4]))\n",
    "        Y_train.append(np.array(df.iloc[i+ref_day : i+ref_day+predict_day,4]))\n",
    "    return np.array(X_train), np.array(Y_train)\n",
    "\n",
    "TWA00_train= normalize(data_train['TWA00'])\n",
    "\n",
    "def denormalize_col0(train,i):\n",
    "    denorm = train*(np.max(data_train['TWA00'][columns[i]])-np.min(data_train['TWA00'][columns[i]]))+np.mean(data_train['TWA00'][columns[i]])\n",
    "    return denorm"
   ]
  },
  {
   "cell_type": "code",
   "execution_count": 165,
   "metadata": {},
   "outputs": [],
   "source": [
    "X_train,Y_train=train_(TWA00_train,5,1)"
   ]
  },
  {
   "cell_type": "code",
   "execution_count": 166,
   "metadata": {},
   "outputs": [],
   "source": [
    "x_train = np.delete(X_train,232,0)\n",
    "y_train = np.empty([232,1,1], dtype=float)\n",
    "for k in range(232):\n",
    "    y_train[k] = Y_train[k]\n",
    "\n",
    "y_train = y_train.reshape(232,1)"
   ]
  },
  {
   "cell_type": "code",
   "execution_count": 167,
   "metadata": {},
   "outputs": [],
   "source": [
    "# define model\n",
    "import keras\n",
    "units = 50\n",
    "inputs1 = Input(shape=(X_train.shape[1], X_train.shape[2]))\n",
    "lstm1=LSTM(units, activation='relu', recurrent_activation='hard_sigmoid',return_sequences=True,dropout=0.3)(inputs1)\n",
    "lstm2=LSTM(units, activation='relu', recurrent_activation='hard_sigmoid',return_sequences=True,dropout=0.3)(lstm1)\n",
    "lstm3=LSTM(units, activation='relu', recurrent_activation='hard_sigmoid',return_sequences=True,dropout=0.3)(lstm2)\n",
    "final=LSTM(1, activation='tanh', recurrent_activation='hard_sigmoid',return_sequences = False)(lstm3)\n",
    "adam = keras.optimizers.Adam(lr=0.001, beta_1=0.99, beta_2=0.999, amsgrad=False)\n",
    "\n",
    "model = Model(inputs=inputs1, outputs=final)\n",
    "model.compile(optimizer=adam, loss='mean_squared_error')\n",
    "model.fit(x_train,y_train,epochs = 100, batch_size = 20)"
   ]
  },
  {
   "cell_type": "code",
   "execution_count": 171,
   "metadata": {},
   "outputs": [],
   "source": [
    "df_test = pd.read_csv('./Test_X.csv',encoding= 'cp950')\n",
    "\n",
    "for name in stock_list_train:\n",
    "    data_test[name]=df_test[df_test['股票代號']==name].loc[:,['開盤價', '最高價','最低價','成交量.股.','收盤價']]\n",
    "TWA00_test= normalize(data_test['TWA00'])\n",
    "\n",
    "\n",
    "def denormalize(train):\n",
    "    denorm = train*(np.max(data_train['TWA00']['收盤價'])-np.min(data_train['TWA00']['收盤價']))+np.mean(data_train['TWA00']['收盤價'])\n",
    "    return denorm"
   ]
  },
  {
   "cell_type": "code",
   "execution_count": 172,
   "metadata": {},
   "outputs": [],
   "source": [
    "X_test,Y_test=train_(TWA00_test,5,1)\n",
    "#test_y = pd.DataFrame(TWA00_test)\n",
    "a = denormalize(TWA00_test)\n",
    "#z = denormalize(predict_y)"
   ]
  },
  {
   "cell_type": "code",
   "execution_count": 179,
   "metadata": {},
   "outputs": [],
   "source": [
    "matrix = np.zeros((1,5,4))\n",
    "trans = x_train[-1].reshape(1,5,4)\n",
    "result= []\n",
    "for i in range(10):\n",
    "    if i<=4 :\n",
    "        result.append(denormalize(model.predict(trans)))\n",
    "        #print('i = ',i ,\"\\n\",trans)\n",
    "        matrix[0][0:4] = trans[0][1:5]\n",
    "        matrix[0][4] = X_test[0][i]\n",
    "        trans = matrix\n",
    "    else:\n",
    "        #print('i = ',i ,\"\\n\",X_test[i-5])\n",
    "        result.append(denormalize(model.predict(X_test[i-5].reshape(1,5,4))))"
   ]
  },
  {
   "cell_type": "code",
   "execution_count": 174,
   "metadata": {},
   "outputs": [],
   "source": [
    "re= []\n",
    "for i in range(10):\n",
    "    re.append(result[i][0][0])"
   ]
  },
  {
   "cell_type": "code",
   "execution_count": 175,
   "metadata": {},
   "outputs": [],
   "source": [
    "#c = denormalize(model.predict(X_test))\n",
    "#b= denormalize(Y_test)"
   ]
  },
  {
   "cell_type": "code",
   "execution_count": 176,
   "metadata": {},
   "outputs": [],
   "source": [
    "a = denormalize(TWA00_test['收盤價']).tolist()"
   ]
  },
  {
   "cell_type": "code",
   "execution_count": 177,
   "metadata": {},
   "outputs": [
    {
     "data": {
      "text/plain": [
       "[9394.496448738962,\n",
       " 9451.625644127163,\n",
       " 9234.694727409389,\n",
       " 9220.516445304642,\n",
       " 9043.30392157105,\n",
       " 9131.254077832547,\n",
       " 8848.104502706825,\n",
       " 8839.431106656293,\n",
       " 8533.845920344509,\n",
       " 8146.935644127163]"
      ]
     },
     "execution_count": 177,
     "metadata": {},
     "output_type": "execute_result"
    }
   ],
   "source": [
    "a"
   ]
  },
  {
   "cell_type": "code",
   "execution_count": 178,
   "metadata": {
    "scrolled": true
   },
   "outputs": [
    {
     "data": {
      "image/png": "[encoded data removed]",
      "text/plain": [
       "<matplotlib.figure.Figure at 0x2c583b8c780>"
      ]
     },
     "metadata": {},
     "output_type": "display_data"
    }
   ],
   "source": [
    "import matplotlib.pyplot as plt \n",
    "plt.plot(range(10),a, color = 'red', label = 'Real Price')  # 紅線表示真實股價\n",
    "plt.plot(range(10),re, color = 'blue', label = 'Predicted Price')  # 藍線表示預測股價\n",
    "plt.title('Price Prediction')\n",
    "plt.xlabel('Time')\n",
    "plt.ylabel('Stock Price')\n",
    "plt.legend()\n",
    "plt.show()"
   ]
  },
  {
   "cell_type": "code",
   "execution_count": null,
   "metadata": {},
   "outputs": [],
   "source": []
  }
 ],
 "metadata": {
  "kernelspec": {
   "display_name": "Python 3",
   "language": "python",
   "name": "python3"
  },
  "language_info": {
   "codemirror_mode": {
    "name": "ipython",
    "version": 3
   },
   "file_extension": ".py",
   "mimetype": "text/x-python",
   "name": "python",
   "nbconvert_exporter": "python",
   "pygments_lexer": "ipython3",
   "version": "3.6.4"
  }
 },
 "nbformat": 4,
 "nbformat_minor": 2
}
