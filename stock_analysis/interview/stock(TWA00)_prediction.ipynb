{
 "cells": [
  {
   "cell_type": "code",
   "execution_count": 69,
   "metadata": {},
   "outputs": [],
   "source": [
    "import numpy as np\n",
    "import pandas as pd\n",
    "import keras\n",
    "from keras.models import Model\n",
    "from keras.layers import Input,Dense,Flatten\n",
    "from keras.layers import LSTM\n",
    "from numpy import array\n",
    "import matplotlib.pyplot as plt "
   ]
  },
  {
   "cell_type": "markdown",
   "metadata": {},
   "source": [
    "# function"
   ]
  },
  {
   "cell_type": "code",
   "execution_count": 2,
   "metadata": {},
   "outputs": [],
   "source": [
    "#define normalization\n",
    "def normalize(train):\n",
    "    train_norm = train.apply(lambda x: (x - np.mean(x)) / (np.max(x) - np.min(x)))\n",
    "    return train_norm\n",
    "\n",
    "#define the feature and label\n",
    "def train_(df, ref_day, predict_day):\n",
    "    X_train, Y_train = [], []\n",
    "    for i in range(df.shape[0]+predict_day-ref_day):\n",
    "        X_train.append(np.array(df.iloc[i:i+ref_day,0:4]))\n",
    "        Y_train.append(np.array(df.iloc[i+ref_day : i+ref_day+predict_day,4]))\n",
    "    return np.array(X_train), np.array(Y_train)\n",
    "\n",
    "#define the denormalization\n",
    "def denormalize(train):\n",
    "    denorm = train*(np.max(data_train['TWA00']['收盤價'])-np.min(data_train['TWA00']['收盤價']))+np.mean(data_train['TWA00']['收盤價'])\n",
    "    return denorm"
   ]
  },
  {
   "cell_type": "markdown",
   "metadata": {},
   "source": [
    "## read data from .csv"
   ]
  },
  {
   "cell_type": "code",
   "execution_count": 3,
   "metadata": {},
   "outputs": [],
   "source": [
    "df_train = pd.read_csv('./Train_X.csv',encoding= 'cp950')\n",
    "df_test = pd.read_csv('./Test_X.csv',encoding= 'cp950')"
   ]
  },
  {
   "cell_type": "code",
   "execution_count": 4,
   "metadata": {},
   "outputs": [],
   "source": [
    "data_train = {}\n",
    "data_test ={}"
   ]
  },
  {
   "cell_type": "markdown",
   "metadata": {},
   "source": [
    "# feature engineering\n",
    "\n",
    "### 使用 開盤價 最高價 最低價 成交量來當作 feature"
   ]
  },
  {
   "cell_type": "code",
   "execution_count": 5,
   "metadata": {},
   "outputs": [],
   "source": [
    "df_train = df_train.sort_values('日期')\n",
    "df_test = df_test.sort_values('日期')\n",
    "stock_list_train = (df_train['股票代號'].unique()).tolist()\n",
    "\n",
    "\n",
    "#collect data for dictionary format\n",
    "for name in stock_list_train:\n",
    "    data_test[name]=df_test[df_test['股票代號']==name].loc[:,['開盤價', '最高價','最低價','成交量.股.','收盤價']]\n",
    "\n",
    "    for name in stock_list_train:\n",
    "    data_train[name]=df_train[df_train['股票代號']==name].loc[:,['開盤價', '最高價','最低價','成交量.股.','收盤價']]\n",
    "    \n",
    "TWA00_test= normalize(data_test['TWA00'])\n",
    "TWA00_train= normalize(data_train['TWA00'])\n"
   ]
  },
  {
   "cell_type": "markdown",
   "metadata": {},
   "source": [
    "# setting data for training\n",
    "### 每5天做成一筆training data 預測第6天"
   ]
  },
  {
   "cell_type": "code",
   "execution_count": 6,
   "metadata": {},
   "outputs": [],
   "source": [
    "X_train,Y_train=train_(TWA00_train,5,1)\n",
    "X_test,Y_test=train_(TWA00_test,5,1)\n",
    "\n",
    "\n",
    "x_train = np.delete(X_train,232,0)\n",
    "y_train = np.empty([232,1,1], dtype=float)\n",
    "for k in range(232):\n",
    "    y_train[k] = Y_train[k]\n",
    "\n",
    "\n",
    "y_train = y_train.reshape(232,1)\n",
    "\n",
    "real_price = denormalize(TWA00_test['收盤價']).tolist()"
   ]
  },
  {
   "cell_type": "markdown",
   "metadata": {},
   "source": [
    "# # define model"
   ]
  },
  {
   "cell_type": "code",
   "execution_count": 47,
   "metadata": {},
   "outputs": [],
   "source": [
    "# define model\n",
    "\n",
    "units = 500\n",
    "inputs1 = Input(shape=(X_train.shape[1], X_train.shape[2]))\n",
    "lstm1=LSTM(units, activation='relu', recurrent_activation='hard_sigmoid',return_sequences=True,dropout=0.3)(inputs1)\n",
    "lstm2=LSTM(units, activation='relu', recurrent_activation='hard_sigmoid',return_sequences=True,dropout=0.3)(lstm1)\n",
    "lstm3=LSTM(units, activation='relu', recurrent_activation='hard_sigmoid',return_sequences=True,dropout=0.3)(lstm2)\n",
    "final=LSTM(1, activation='tanh', recurrent_activation='hard_sigmoid',return_sequences = False)(lstm3)\n",
    "adam = keras.optimizers.Adam(lr=0.001, beta_1=0.99, beta_2=0.999, amsgrad=False)\n",
    "\n",
    "model = Model(inputs=inputs1, outputs=final)\n",
    "model.compile(optimizer=adam, loss='mean_squared_error')"
   ]
  },
  {
   "cell_type": "markdown",
   "metadata": {},
   "source": [
    "# model training"
   ]
  },
  {
   "cell_type": "code",
   "execution_count": 48,
   "metadata": {},
   "outputs": [
    {
     "name": "stdout",
     "output_type": "stream",
     "text": [
      "Epoch 1/200\n",
      "232/232 [==============================] - 9s 38ms/step - loss: 0.0423\n",
      "Epoch 2/200\n",
      "232/232 [==============================] - 4s 18ms/step - loss: 0.0180\n",
      "Epoch 3/200\n",
      "232/232 [==============================] - 4s 18ms/step - loss: 0.0148\n",
      "Epoch 4/200\n",
      "232/232 [==============================] - 4s 19ms/step - loss: 0.0156\n",
      "Epoch 5/200\n",
      "232/232 [==============================] - 4s 18ms/step - loss: 0.0117\n",
      "Epoch 6/200\n",
      "232/232 [==============================] - 4s 18ms/step - loss: 0.0128\n",
      "Epoch 7/200\n",
      "232/232 [==============================] - 4s 18ms/step - loss: 0.0121\n",
      "Epoch 8/200\n",
      "232/232 [==============================] - 5s 20ms/step - loss: 0.0104\n",
      "Epoch 9/200\n",
      "232/232 [==============================] - 4s 19ms/step - loss: 0.0112\n",
      "Epoch 10/200\n",
      "232/232 [==============================] - 5s 20ms/step - loss: 0.0108\n",
      "Epoch 11/200\n",
      "232/232 [==============================] - 5s 20ms/step - loss: 0.0096\n",
      "Epoch 12/200\n",
      "232/232 [==============================] - 5s 20ms/step - loss: 0.0091\n",
      "Epoch 13/200\n",
      "232/232 [==============================] - 5s 20ms/step - loss: 0.0102\n",
      "Epoch 14/200\n",
      "232/232 [==============================] - 5s 20ms/step - loss: 0.0097\n",
      "Epoch 15/200\n",
      "232/232 [==============================] - 5s 20ms/step - loss: 0.0086\n",
      "Epoch 16/200\n",
      "232/232 [==============================] - 5s 20ms/step - loss: 0.0107\n",
      "Epoch 17/200\n",
      "232/232 [==============================] - 5s 20ms/step - loss: 0.0084\n",
      "Epoch 18/200\n",
      "232/232 [==============================] - 5s 20ms/step - loss: 0.0093\n",
      "Epoch 19/200\n",
      "232/232 [==============================] - 5s 20ms/step - loss: 0.0083\n",
      "Epoch 20/200\n",
      "232/232 [==============================] - 5s 20ms/step - loss: 0.0075\n",
      "Epoch 21/200\n",
      "232/232 [==============================] - 5s 20ms/step - loss: 0.0076\n",
      "Epoch 22/200\n",
      "232/232 [==============================] - 5s 20ms/step - loss: 0.0077\n",
      "Epoch 23/200\n",
      "232/232 [==============================] - 5s 20ms/step - loss: 0.0061\n",
      "Epoch 24/200\n",
      "232/232 [==============================] - 4s 19ms/step - loss: 0.0081\n",
      "Epoch 25/200\n",
      "232/232 [==============================] - 5s 19ms/step - loss: 0.0058\n",
      "Epoch 26/200\n",
      "232/232 [==============================] - 4s 19ms/step - loss: 0.0065\n",
      "Epoch 27/200\n",
      "232/232 [==============================] - 5s 20ms/step - loss: 0.0060\n",
      "Epoch 28/200\n",
      "232/232 [==============================] - 5s 20ms/step - loss: 0.0076\n",
      "Epoch 29/200\n",
      "232/232 [==============================] - 5s 20ms/step - loss: 0.0069\n",
      "Epoch 30/200\n",
      "232/232 [==============================] - 5s 19ms/step - loss: 0.0053\n",
      "Epoch 31/200\n",
      "232/232 [==============================] - 5s 20ms/step - loss: 0.0057\n",
      "Epoch 32/200\n",
      "232/232 [==============================] - 5s 19ms/step - loss: 0.0056\n",
      "Epoch 33/200\n",
      "232/232 [==============================] - 5s 19ms/step - loss: 0.0053\n",
      "Epoch 34/200\n",
      "232/232 [==============================] - 5s 20ms/step - loss: 0.0066\n",
      "Epoch 35/200\n",
      "232/232 [==============================] - 5s 20ms/step - loss: 0.0072\n",
      "Epoch 36/200\n",
      "232/232 [==============================] - 4s 19ms/step - loss: 0.0061\n",
      "Epoch 37/200\n",
      "232/232 [==============================] - 4s 19ms/step - loss: 0.0060\n",
      "Epoch 38/200\n",
      "232/232 [==============================] - 4s 19ms/step - loss: 0.0056\n",
      "Epoch 39/200\n",
      "232/232 [==============================] - 5s 19ms/step - loss: 0.0068\n",
      "Epoch 40/200\n",
      "232/232 [==============================] - 4s 19ms/step - loss: 0.0055\n",
      "Epoch 41/200\n",
      "232/232 [==============================] - 4s 19ms/step - loss: 0.0055\n",
      "Epoch 42/200\n",
      "232/232 [==============================] - 4s 19ms/step - loss: 0.0058\n",
      "Epoch 43/200\n",
      "232/232 [==============================] - 4s 19ms/step - loss: 0.0050\n",
      "Epoch 44/200\n",
      "232/232 [==============================] - 4s 19ms/step - loss: 0.0059\n",
      "Epoch 45/200\n",
      "232/232 [==============================] - 4s 19ms/step - loss: 0.0055\n",
      "Epoch 46/200\n",
      "232/232 [==============================] - 4s 19ms/step - loss: 0.0050\n",
      "Epoch 47/200\n",
      "232/232 [==============================] - 4s 19ms/step - loss: 0.0045\n",
      "Epoch 48/200\n",
      "232/232 [==============================] - 4s 19ms/step - loss: 0.0051\n",
      "Epoch 49/200\n",
      "232/232 [==============================] - 5s 19ms/step - loss: 0.0053\n",
      "Epoch 50/200\n",
      "232/232 [==============================] - 4s 19ms/step - loss: 0.0038\n",
      "Epoch 51/200\n",
      "232/232 [==============================] - 4s 19ms/step - loss: 0.0051\n",
      "Epoch 52/200\n",
      "232/232 [==============================] - 4s 19ms/step - loss: 0.0046\n",
      "Epoch 53/200\n",
      "232/232 [==============================] - 5s 19ms/step - loss: 0.0037\n",
      "Epoch 54/200\n",
      "232/232 [==============================] - 4s 19ms/step - loss: 0.0038\n",
      "Epoch 55/200\n",
      "232/232 [==============================] - 4s 19ms/step - loss: 0.0038\n",
      "Epoch 56/200\n",
      "232/232 [==============================] - 4s 19ms/step - loss: 0.0059\n",
      "Epoch 57/200\n",
      "232/232 [==============================] - 5s 20ms/step - loss: 0.0044\n",
      "Epoch 58/200\n",
      "232/232 [==============================] - 5s 21ms/step - loss: 0.0053\n",
      "Epoch 59/200\n",
      "232/232 [==============================] - 5s 22ms/step - loss: 0.0047\n",
      "Epoch 60/200\n",
      "232/232 [==============================] - 5s 20ms/step - loss: 0.0051\n",
      "Epoch 61/200\n",
      "232/232 [==============================] - 5s 21ms/step - loss: 0.0047\n",
      "Epoch 62/200\n",
      "232/232 [==============================] - 5s 21ms/step - loss: 0.0047\n",
      "Epoch 63/200\n",
      "232/232 [==============================] - 5s 21ms/step - loss: 0.0040\n",
      "Epoch 64/200\n",
      "232/232 [==============================] - 5s 21ms/step - loss: 0.0052\n",
      "Epoch 65/200\n",
      "232/232 [==============================] - 5s 22ms/step - loss: 0.0039\n",
      "Epoch 66/200\n",
      "232/232 [==============================] - 5s 21ms/step - loss: 0.0039\n",
      "Epoch 67/200\n",
      "232/232 [==============================] - 4s 19ms/step - loss: 0.0041\n",
      "Epoch 68/200\n",
      "232/232 [==============================] - 4s 19ms/step - loss: 0.0052\n",
      "Epoch 69/200\n",
      "232/232 [==============================] - 4s 19ms/step - loss: 0.0037\n",
      "Epoch 70/200\n",
      "232/232 [==============================] - 4s 19ms/step - loss: 0.0030\n",
      "Epoch 71/200\n",
      "232/232 [==============================] - 4s 19ms/step - loss: 0.0037\n",
      "Epoch 72/200\n",
      "232/232 [==============================] - 4s 19ms/step - loss: 0.0042\n",
      "Epoch 73/200\n",
      "232/232 [==============================] - 4s 19ms/step - loss: 0.0040\n",
      "Epoch 74/200\n",
      "232/232 [==============================] - 5s 20ms/step - loss: 0.0041\n",
      "Epoch 75/200\n",
      "232/232 [==============================] - 4s 19ms/step - loss: 0.0043\n",
      "Epoch 76/200\n",
      "232/232 [==============================] - 5s 19ms/step - loss: 0.0042\n",
      "Epoch 77/200\n",
      "232/232 [==============================] - 4s 19ms/step - loss: 0.0042\n",
      "Epoch 78/200\n",
      "232/232 [==============================] - 4s 19ms/step - loss: 0.0055\n",
      "Epoch 79/200\n",
      "232/232 [==============================] - 4s 19ms/step - loss: 0.0040\n",
      "Epoch 80/200\n",
      "232/232 [==============================] - 4s 19ms/step - loss: 0.0045\n",
      "Epoch 81/200\n",
      "232/232 [==============================] - 4s 19ms/step - loss: 0.0045\n",
      "Epoch 82/200\n",
      "232/232 [==============================] - 4s 19ms/step - loss: 0.0036\n",
      "Epoch 83/200\n",
      "232/232 [==============================] - 4s 19ms/step - loss: 0.0045\n",
      "Epoch 84/200\n",
      "232/232 [==============================] - 4s 19ms/step - loss: 0.0038\n",
      "Epoch 85/200\n",
      "232/232 [==============================] - 4s 19ms/step - loss: 0.0039\n",
      "Epoch 86/200\n",
      "232/232 [==============================] - 4s 19ms/step - loss: 0.0036\n",
      "Epoch 87/200\n",
      "232/232 [==============================] - 5s 20ms/step - loss: 0.0043\n",
      "Epoch 88/200\n",
      "232/232 [==============================] - 4s 19ms/step - loss: 0.0038\n",
      "Epoch 89/200\n",
      "232/232 [==============================] - 4s 19ms/step - loss: 0.0042\n",
      "Epoch 90/200\n",
      "232/232 [==============================] - 5s 20ms/step - loss: 0.0040\n",
      "Epoch 91/200\n",
      "232/232 [==============================] - 5s 19ms/step - loss: 0.0037\n",
      "Epoch 92/200\n",
      "232/232 [==============================] - 4s 19ms/step - loss: 0.0039\n",
      "Epoch 93/200\n",
      "232/232 [==============================] - 4s 19ms/step - loss: 0.0037\n",
      "Epoch 94/200\n",
      "232/232 [==============================] - 5s 19ms/step - loss: 0.0031\n",
      "Epoch 95/200\n",
      "232/232 [==============================] - 5s 19ms/step - loss: 0.0035\n",
      "Epoch 96/200\n",
      "232/232 [==============================] - 4s 19ms/step - loss: 0.0037\n",
      "Epoch 97/200\n",
      "232/232 [==============================] - 4s 19ms/step - loss: 0.0039\n",
      "Epoch 98/200\n",
      "232/232 [==============================] - 4s 19ms/step - loss: 0.0034\n",
      "Epoch 99/200\n",
      "232/232 [==============================] - 4s 19ms/step - loss: 0.0045\n",
      "Epoch 100/200\n",
      "232/232 [==============================] - 4s 19ms/step - loss: 0.0037\n",
      "Epoch 101/200\n",
      "232/232 [==============================] - 4s 19ms/step - loss: 0.0041\n",
      "Epoch 102/200\n",
      "232/232 [==============================] - 4s 19ms/step - loss: 0.0028\n",
      "Epoch 103/200\n",
      "232/232 [==============================] - 4s 19ms/step - loss: 0.0034\n",
      "Epoch 104/200\n",
      "232/232 [==============================] - 4s 19ms/step - loss: 0.0032\n",
      "Epoch 105/200\n",
      "232/232 [==============================] - 4s 19ms/step - loss: 0.0033\n",
      "Epoch 106/200\n",
      "232/232 [==============================] - 4s 19ms/step - loss: 0.0033\n",
      "Epoch 107/200\n",
      "232/232 [==============================] - 4s 19ms/step - loss: 0.0028\n",
      "Epoch 108/200\n",
      "232/232 [==============================] - 4s 19ms/step - loss: 0.0027\n",
      "Epoch 109/200\n",
      "232/232 [==============================] - 4s 19ms/step - loss: 0.0029\n",
      "Epoch 110/200\n",
      "232/232 [==============================] - 4s 19ms/step - loss: 0.0030\n",
      "Epoch 111/200\n",
      "232/232 [==============================] - 4s 19ms/step - loss: 0.0028\n",
      "Epoch 112/200\n",
      "232/232 [==============================] - 4s 19ms/step - loss: 0.0032\n",
      "Epoch 113/200\n",
      "232/232 [==============================] - 4s 19ms/step - loss: 0.0030\n",
      "Epoch 114/200\n",
      "232/232 [==============================] - 5s 20ms/step - loss: 0.0034\n",
      "Epoch 115/200\n",
      "232/232 [==============================] - 4s 19ms/step - loss: 0.0033\n",
      "Epoch 116/200\n",
      "232/232 [==============================] - 4s 19ms/step - loss: 0.0034\n",
      "Epoch 117/200\n",
      "232/232 [==============================] - 4s 19ms/step - loss: 0.0031\n",
      "Epoch 118/200\n",
      "232/232 [==============================] - 4s 19ms/step - loss: 0.0035\n",
      "Epoch 119/200\n",
      "232/232 [==============================] - 4s 19ms/step - loss: 0.0029\n",
      "Epoch 120/200\n",
      "232/232 [==============================] - 5s 20ms/step - loss: 0.0027\n",
      "Epoch 121/200\n",
      "232/232 [==============================] - 5s 19ms/step - loss: 0.0029\n",
      "Epoch 122/200\n",
      "232/232 [==============================] - 4s 19ms/step - loss: 0.0030\n",
      "Epoch 123/200\n",
      "232/232 [==============================] - 4s 19ms/step - loss: 0.0036\n",
      "Epoch 124/200\n",
      "232/232 [==============================] - 4s 19ms/step - loss: 0.0031\n",
      "Epoch 125/200\n",
      "232/232 [==============================] - 4s 19ms/step - loss: 0.0036\n",
      "Epoch 126/200\n",
      "232/232 [==============================] - 4s 19ms/step - loss: 0.0030\n",
      "Epoch 127/200\n",
      "232/232 [==============================] - 4s 19ms/step - loss: 0.0031\n",
      "Epoch 128/200\n",
      "232/232 [==============================] - 5s 19ms/step - loss: 0.0031\n",
      "Epoch 129/200\n",
      "232/232 [==============================] - 5s 19ms/step - loss: 0.0025\n",
      "Epoch 130/200\n",
      "232/232 [==============================] - 5s 20ms/step - loss: 0.0032\n",
      "Epoch 131/200\n",
      "232/232 [==============================] - 4s 19ms/step - loss: 0.0029\n",
      "Epoch 132/200\n",
      "232/232 [==============================] - 4s 19ms/step - loss: 0.0029\n",
      "Epoch 133/200\n",
      "232/232 [==============================] - 4s 19ms/step - loss: 0.0033\n",
      "Epoch 134/200\n",
      "232/232 [==============================] - 4s 19ms/step - loss: 0.0028\n",
      "Epoch 135/200\n",
      "232/232 [==============================] - 4s 19ms/step - loss: 0.0025\n",
      "Epoch 136/200\n",
      "232/232 [==============================] - 5s 20ms/step - loss: 0.0029\n",
      "Epoch 137/200\n",
      "232/232 [==============================] - 5s 20ms/step - loss: 0.0030\n",
      "Epoch 138/200\n",
      "232/232 [==============================] - 5s 21ms/step - loss: 0.0026\n",
      "Epoch 139/200\n",
      "232/232 [==============================] - 5s 20ms/step - loss: 0.0025\n",
      "Epoch 140/200\n",
      "232/232 [==============================] - 4s 19ms/step - loss: 0.0023\n",
      "Epoch 141/200\n",
      "232/232 [==============================] - 5s 20ms/step - loss: 0.0029\n",
      "Epoch 142/200\n",
      "232/232 [==============================] - 4s 19ms/step - loss: 0.0027\n",
      "Epoch 143/200\n",
      "232/232 [==============================] - 4s 19ms/step - loss: 0.0027\n",
      "Epoch 144/200\n",
      "232/232 [==============================] - 4s 19ms/step - loss: 0.0027\n",
      "Epoch 145/200\n",
      "232/232 [==============================] - 4s 19ms/step - loss: 0.0030\n",
      "Epoch 146/200\n",
      "232/232 [==============================] - 4s 19ms/step - loss: 0.0027\n",
      "Epoch 147/200\n",
      "232/232 [==============================] - 4s 19ms/step - loss: 0.0033\n",
      "Epoch 148/200\n",
      "232/232 [==============================] - 4s 19ms/step - loss: 0.0029\n",
      "Epoch 149/200\n",
      "232/232 [==============================] - 4s 19ms/step - loss: 0.0030\n",
      "Epoch 150/200\n",
      "232/232 [==============================] - 4s 19ms/step - loss: 0.0026\n",
      "Epoch 151/200\n",
      "232/232 [==============================] - 4s 19ms/step - loss: 0.0027\n",
      "Epoch 152/200\n",
      "232/232 [==============================] - 4s 19ms/step - loss: 0.0031\n",
      "Epoch 153/200\n",
      "232/232 [==============================] - 4s 19ms/step - loss: 0.0032\n",
      "Epoch 154/200\n",
      "232/232 [==============================] - 4s 19ms/step - loss: 0.0026\n",
      "Epoch 155/200\n",
      "232/232 [==============================] - 4s 19ms/step - loss: 0.0030\n",
      "Epoch 156/200\n",
      "232/232 [==============================] - 4s 19ms/step - loss: 0.0027\n",
      "Epoch 157/200\n",
      "232/232 [==============================] - 4s 19ms/step - loss: 0.0026\n",
      "Epoch 158/200\n",
      "232/232 [==============================] - 4s 19ms/step - loss: 0.0028\n",
      "Epoch 159/200\n",
      "232/232 [==============================] - 4s 19ms/step - loss: 0.0027\n",
      "Epoch 160/200\n",
      "232/232 [==============================] - 4s 19ms/step - loss: 0.0026\n",
      "Epoch 161/200\n",
      "232/232 [==============================] - 4s 19ms/step - loss: 0.0028\n",
      "Epoch 162/200\n",
      "232/232 [==============================] - 4s 19ms/step - loss: 0.0028\n",
      "Epoch 163/200\n",
      "232/232 [==============================] - 4s 19ms/step - loss: 0.0029\n",
      "Epoch 164/200\n",
      "232/232 [==============================] - 4s 19ms/step - loss: 0.0026\n",
      "Epoch 165/200\n",
      "232/232 [==============================] - 4s 19ms/step - loss: 0.0025\n",
      "Epoch 166/200\n",
      "232/232 [==============================] - 4s 19ms/step - loss: 0.0025\n",
      "Epoch 167/200\n",
      "232/232 [==============================] - 4s 19ms/step - loss: 0.0024\n",
      "Epoch 168/200\n",
      "232/232 [==============================] - 5s 20ms/step - loss: 0.0027\n",
      "Epoch 169/200\n",
      "232/232 [==============================] - 4s 19ms/step - loss: 0.0025\n",
      "Epoch 170/200\n",
      "232/232 [==============================] - 4s 19ms/step - loss: 0.0025\n",
      "Epoch 171/200\n",
      "232/232 [==============================] - 4s 19ms/step - loss: 0.0025\n",
      "Epoch 172/200\n",
      "232/232 [==============================] - 4s 19ms/step - loss: 0.0028\n",
      "Epoch 173/200\n",
      "232/232 [==============================] - 4s 19ms/step - loss: 0.0023\n",
      "Epoch 174/200\n",
      "232/232 [==============================] - 4s 19ms/step - loss: 0.0024\n",
      "Epoch 175/200\n",
      "232/232 [==============================] - 4s 19ms/step - loss: 0.0031\n",
      "Epoch 176/200\n",
      "232/232 [==============================] - 4s 19ms/step - loss: 0.0027\n",
      "Epoch 177/200\n",
      "232/232 [==============================] - 4s 19ms/step - loss: 0.0025\n",
      "Epoch 178/200\n",
      "232/232 [==============================] - 4s 19ms/step - loss: 0.0024\n",
      "Epoch 179/200\n",
      "232/232 [==============================] - 4s 19ms/step - loss: 0.0029\n",
      "Epoch 180/200\n",
      "232/232 [==============================] - 4s 19ms/step - loss: 0.0022\n",
      "Epoch 181/200\n",
      "232/232 [==============================] - 4s 19ms/step - loss: 0.0028\n",
      "Epoch 182/200\n",
      "232/232 [==============================] - 4s 19ms/step - loss: 0.0026\n",
      "Epoch 183/200\n",
      "232/232 [==============================] - 4s 19ms/step - loss: 0.0027\n",
      "Epoch 184/200\n",
      "232/232 [==============================] - 5s 19ms/step - loss: 0.0020\n",
      "Epoch 185/200\n",
      "232/232 [==============================] - 4s 19ms/step - loss: 0.0024\n",
      "Epoch 186/200\n",
      "232/232 [==============================] - 4s 19ms/step - loss: 0.0024\n",
      "Epoch 187/200\n",
      "232/232 [==============================] - 4s 19ms/step - loss: 0.0026\n",
      "Epoch 188/200\n",
      "232/232 [==============================] - 4s 19ms/step - loss: 0.0024\n",
      "Epoch 189/200\n",
      "232/232 [==============================] - 5s 19ms/step - loss: 0.0023\n",
      "Epoch 190/200\n",
      "232/232 [==============================] - 5s 19ms/step - loss: 0.0025\n",
      "Epoch 191/200\n",
      "232/232 [==============================] - 5s 19ms/step - loss: 0.0027\n",
      "Epoch 192/200\n",
      "232/232 [==============================] - 4s 19ms/step - loss: 0.0027\n",
      "Epoch 193/200\n",
      "232/232 [==============================] - 4s 19ms/step - loss: 0.0025\n",
      "Epoch 194/200\n"
     ]
    },
    {
     "name": "stdout",
     "output_type": "stream",
     "text": [
      "232/232 [==============================] - 4s 19ms/step - loss: 0.0027\n",
      "Epoch 195/200\n",
      "232/232 [==============================] - 5s 19ms/step - loss: 0.0024\n",
      "Epoch 196/200\n",
      "232/232 [==============================] - 4s 19ms/step - loss: 0.0024\n",
      "Epoch 197/200\n",
      "232/232 [==============================] - 4s 19ms/step - loss: 0.0024\n",
      "Epoch 198/200\n",
      "232/232 [==============================] - 4s 19ms/step - loss: 0.0023\n",
      "Epoch 199/200\n",
      "232/232 [==============================] - 4s 19ms/step - loss: 0.0023\n",
      "Epoch 200/200\n",
      "232/232 [==============================] - 4s 19ms/step - loss: 0.0022\n"
     ]
    },
    {
     "data": {
      "text/plain": [
       "<keras.callbacks.History at 0x25e658187b8>"
      ]
     },
     "execution_count": 48,
     "metadata": {},
     "output_type": "execute_result"
    }
   ],
   "source": [
    "model.fit(x_train,y_train,epochs = 200, batch_size = 20)"
   ]
  },
  {
   "cell_type": "markdown",
   "metadata": {},
   "source": [
    "# compare with training data and predicted data(from training data)"
   ]
  },
  {
   "cell_type": "code",
   "execution_count": 66,
   "metadata": {},
   "outputs": [],
   "source": [
    "training_data_x = (denormalize(model.predict(x_train)))\n",
    "train_data_y= (denormalize((y_train)))"
   ]
  },
  {
   "cell_type": "code",
   "execution_count": 67,
   "metadata": {},
   "outputs": [
    {
     "data": {
      "image/png": "[encoded data removed]",
      "text/plain": [
       "<matplotlib.figure.Figure at 0x25e0025ae10>"
      ]
     },
     "metadata": {},
     "output_type": "display_data"
    }
   ],
   "source": [
    "plt.plot(range(len(train_data_y)),train_data_y, color = 'red', label = 'Real Price')  # 紅線表示真實股價\n",
    "plt.plot(range(len(training_data_x)),training_data_x, color = 'blue', label = 'Predicted Price')  # 藍線表示預測股價\n",
    "plt.title('Price Prediction')\n",
    "plt.xlabel('Time')\n",
    "plt.ylabel('Stock Price')\n",
    "plt.legend()\n",
    "plt.show()"
   ]
  },
  {
   "cell_type": "markdown",
   "metadata": {},
   "source": [
    "### 利用前五天來預測第六天的數據，由於需預測12/18-12/31\n",
    "### 因此需要使用到training data 的部分數據(12/12-12/17 不含六日的五筆數據)\n",
    "### 藍色部分為新填補的資料"
   ]
  },
  {
   "attachments": {
    "image.png": {
     "image/png": "[encoded data removed]"
    }
   },
   "cell_type": "markdown",
   "metadata": {},
   "source": [
    "![image.png](attachment:image.png)"
   ]
  },
  {
   "cell_type": "code",
   "execution_count": 70,
   "metadata": {},
   "outputs": [],
   "source": [
    "matrix = np.zeros((1,5,4))\n",
    "trans = X_train[-1].reshape(1,5,4)\n",
    "Predicted_Price= []\n",
    "for i in range(10):\n",
    "    if i<=4 :\n",
    "        Predicted_Price.append(denormalize(model.predict(trans))[0][0])\n",
    "        #print('i = ',i ,\"\\n\",trans)\n",
    "        matrix[0][0:4] = trans[0][1:5] #last data from training data to shift each row to above\n",
    "        matrix[0][4] = X_test[0][i]\n",
    "        trans = matrix\n",
    "    else:\n",
    "        #print('i = ',i ,\"\\n\",X_test[i-5])\n",
    "        Predicted_Price.append(denormalize(model.predict(X_test[i-5].reshape(1,5,4)))[0][0])"
   ]
  },
  {
   "cell_type": "code",
   "execution_count": 72,
   "metadata": {
    "scrolled": true
   },
   "outputs": [
    {
     "data": {
      "image/png": "[encoded data removed]",
      "text/plain": [
       "<matplotlib.figure.Figure at 0x25e00383898>"
      ]
     },
     "metadata": {},
     "output_type": "display_data"
    }
   ],
   "source": [
    "\n",
    "plt.plot(range(10),real_price, color = 'red', label = 'Real Price')  # 紅線表示真實股價\n",
    "plt.plot(range(10),Predicted_Price, color = 'blue', label = 'Predicted Price')  # 藍線表示預測股價\n",
    "plt.title('Price Prediction for 12/18-12/30 (10 days)')\n",
    "plt.xlabel('Time')\n",
    "plt.ylabel('Stock Price')\n",
    "plt.legend()\n",
    "plt.show()"
   ]
  },
  {
   "cell_type": "code",
   "execution_count": 81,
   "metadata": {},
   "outputs": [
    {
     "data": {
      "text/plain": [
       "[8836.261,\n",
       " 8489.476,\n",
       " 8544.733,\n",
       " 8980.321,\n",
       " 9000.42,\n",
       " 9048.021,\n",
       " 9103.553,\n",
       " 9089.687,\n",
       " 9186.118,\n",
       " 9268.353]"
      ]
     },
     "execution_count": 81,
     "metadata": {},
     "output_type": "execute_result"
    }
   ],
   "source": [
    "Predicted_Price"
   ]
  },
  {
   "cell_type": "code",
   "execution_count": null,
   "metadata": {},
   "outputs": [],
   "source": []
  },
  {
   "cell_type": "code",
   "execution_count": 75,
   "metadata": {},
   "outputs": [],
   "source": [
    "error = np.array(Predicted_Price)-np.array(real_price)"
   ]
  },
  {
   "cell_type": "code",
   "execution_count": 80,
   "metadata": {},
   "outputs": [
    {
     "data": {
      "image/png": "[encoded data removed]",
      "text/plain": [
       "<matplotlib.figure.Figure at 0x25e00708cc0>"
      ]
     },
     "metadata": {},
     "output_type": "display_data"
    }
   ],
   "source": [
    "plt.plot(range(len(error)),error, 'r-', label = 'Predicted Price')  # 藍線表示預測股價\n",
    "plt.title('Price Prediction')\n",
    "plt.xlabel('Time')\n",
    "plt.ylabel('Stock Price')\n",
    "plt.legend()\n",
    "plt.show()"
   ]
  },
  {
   "cell_type": "markdown",
   "metadata": {},
   "source": [
    "# 由上圖可知，雖然於12/18 日時預測數據較為不準，相差接近600點\n",
    "## 可能原因如下 : \n",
    "##     training data 之間過於正相關，由於採用的feature為前五日的最高價與最低價，\n",
    "##     大部分與收盤價有正相關，因此會造成訓練LSTM 4個 gate時較容易訓練產生誤差\n",
    "\n",
    "# --------------------------------------------------------------------------------------------------\n",
    "\n",
    "\n",
    "## 未來可改進部分 : \n",
    "## 1. 找出與權指較為相關的股票資料，並取出其法人買賣超加入feature\n",
    "## 2. 利用Binary classification 做股票分類，將與權指有相關的股票抽出，                                                並選擇其買賣量或者其他資料加入feature"
   ]
  },
  {
   "cell_type": "code",
   "execution_count": null,
   "metadata": {},
   "outputs": [],
   "source": []
  }
 ],
 "metadata": {
  "kernelspec": {
   "display_name": "Python 3",
   "language": "python",
   "name": "python3"
  },
  "language_info": {
   "codemirror_mode": {
    "name": "ipython",
    "version": 3
   },
   "file_extension": ".py",
   "mimetype": "text/x-python",
   "name": "python",
   "nbconvert_exporter": "python",
   "pygments_lexer": "ipython3",
   "version": "3.6.4"
  }
 },
 "nbformat": 4,
 "nbformat_minor": 2
}
