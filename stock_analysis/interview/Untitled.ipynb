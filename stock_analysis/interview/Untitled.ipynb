{
 "cells": [
  {
   "cell_type": "code",
   "execution_count": 70,
   "metadata": {},
   "outputs": [],
   "source": [
    "import numpy as np\n",
    "import pandas as pd\n",
    "from keras.models import Model\n",
    "from keras.layers import Input,Dense,Flatten\n",
    "from keras.layers import LSTM\n",
    "from numpy import array"
   ]
  },
  {
   "cell_type": "code",
   "execution_count": 71,
   "metadata": {},
   "outputs": [],
   "source": [
    "df_train = pd.read_csv('./Train_X.csv',encoding= 'cp950')"
   ]
  },
  {
   "cell_type": "code",
   "execution_count": 72,
   "metadata": {},
   "outputs": [],
   "source": [
    "df_train = df_train.sort_values('日期')\n",
    "df_test = df_test.sort_values('日期')\n",
    "\n",
    "stock_list_train = (df_train['股票代號'].unique()).tolist()\n",
    "stock_list_test = (df_test['股票代號'].unique()).tolist()\n",
    "data_train = {}\n",
    "data_test ={}\n",
    "for name in stock_list_train:\n",
    "    data_train[name]=df_train[df_train['股票代號']==name].loc[:,['開盤價', '最高價','最低價','收盤價','成交量.股.']]"
   ]
  },
  {
   "cell_type": "code",
   "execution_count": 91,
   "metadata": {},
   "outputs": [],
   "source": [
    "#定義正規化函式\n",
    "def normalize(train):\n",
    "    train_norm = train.apply(lambda x: (x - np.mean(x)) / (np.max(x) - np.min(x)))\n",
    "    return train_norm\n",
    "\n",
    "#定義餵入的feature跟label序列\n",
    "def train_(df, ref_day=10, predict_day=1):\n",
    "    X_train, Y_train = [], []\n",
    "    for i in range(df.shape[0]-predict_day-ref_day):\n",
    "        X_train.append(np.array(df.iloc[i:i+ref_day,:]))\n",
    "        Y_train.append(np.array(df.iloc[i+ref_day:i+ref_day+predict_day,:]))#['收盤價']))\n",
    "    return np.array(X_train), np.array(Y_train)\n",
    "\n",
    "TWA00_train= normalize(data_train['TWA00'])\n"
   ]
  },
  {
   "cell_type": "code",
   "execution_count": 92,
   "metadata": {},
   "outputs": [],
   "source": [
    "X_train,Y_train=train_(TWA00_train,7,1)"
   ]
  },
  {
   "cell_type": "code",
   "execution_count": 96,
   "metadata": {},
   "outputs": [
    {
     "ename": "ValueError",
     "evalue": "cannot reshape array of size 8015 into shape (229,5)",
     "output_type": "error",
     "traceback": [
      "\u001b[1;31m---------------------------------------------------------------------------\u001b[0m",
      "\u001b[1;31mValueError\u001b[0m                                Traceback (most recent call last)",
      "\u001b[1;32m<ipython-input-96-2835fc95248a>\u001b[0m in \u001b[0;36m<module>\u001b[1;34m()\u001b[0m\n\u001b[1;32m----> 1\u001b[1;33m \u001b[0ma\u001b[0m \u001b[1;33m=\u001b[0m \u001b[0mX_train\u001b[0m\u001b[1;33m.\u001b[0m\u001b[0mreshape\u001b[0m\u001b[1;33m(\u001b[0m\u001b[1;36m229\u001b[0m\u001b[1;33m,\u001b[0m\u001b[1;36m5\u001b[0m\u001b[1;33m)\u001b[0m\u001b[1;33m\u001b[0m\u001b[0m\n\u001b[0m",
      "\u001b[1;31mValueError\u001b[0m: cannot reshape array of size 8015 into shape (229,5)"
     ]
    }
   ],
   "source": [
    "X_train.shape"
   ]
  },
  {
   "cell_type": "code",
   "execution_count": 97,
   "metadata": {},
   "outputs": [],
   "source": [
    "a = Y_train.reshape(229,5)"
   ]
  },
  {
   "cell_type": "code",
   "execution_count": 89,
   "metadata": {},
   "outputs": [],
   "source": [
    "# define model\n",
    "import keras\n",
    "units = 50\n",
    "inputs1 = Input(shape=(X_train.shape[1], X_train.shape[2]))\n",
    "lstm1=LSTM(units, activation='relu', recurrent_activation='hard_sigmoid',return_sequences=True)(inputs1)\n",
    "lstm2=LSTM(units, activation='relu', recurrent_activation='hard_sigmoid',return_sequences=True)(lstm1)\n",
    "lstm3=LSTM(units, activation='relu', recurrent_activation='hard_sigmoid',return_sequences=True)(lstm2)\n",
    "final=LSTM(5, activation='tanh', recurrent_activation='hard_sigmoid',return_sequences = False)(lstm3)\n",
    "adam = keras.optimizers.Adam(lr=0.01, beta_1=0.99, beta_2=0.999, amsgrad=False)\n",
    "\n",
    "model = Model(inputs=inputs1, outputs=final)\n",
    "model.compile(optimizer=adam, loss='mean_squared_error')\n"
   ]
  },
  {
   "cell_type": "code",
   "execution_count": 98,
   "metadata": {
    "scrolled": true
   },
   "outputs": [
    {
     "name": "stdout",
     "output_type": "stream",
     "text": [
      "Epoch 1/100\n",
      "229/229 [==============================] - 4s 20ms/step - loss: 0.0342\n",
      "Epoch 2/100\n",
      "229/229 [==============================] - 0s 2ms/step - loss: 0.0158\n",
      "Epoch 3/100\n",
      "229/229 [==============================] - 0s 2ms/step - loss: 0.0134\n",
      "Epoch 4/100\n",
      "229/229 [==============================] - 0s 2ms/step - loss: 0.0124\n",
      "Epoch 5/100\n",
      "229/229 [==============================] - 0s 2ms/step - loss: 0.0134\n",
      "Epoch 6/100\n",
      "229/229 [==============================] - 0s 2ms/step - loss: 0.0121\n",
      "Epoch 7/100\n",
      "229/229 [==============================] - 0s 2ms/step - loss: 0.0115\n",
      "Epoch 8/100\n",
      "229/229 [==============================] - 0s 2ms/step - loss: 0.0105\n",
      "Epoch 9/100\n",
      "229/229 [==============================] - 0s 2ms/step - loss: 0.0104\n",
      "Epoch 10/100\n",
      "229/229 [==============================] - 0s 2ms/step - loss: 0.0100\n",
      "Epoch 11/100\n",
      "229/229 [==============================] - 0s 2ms/step - loss: 0.0091\n",
      "Epoch 12/100\n",
      "229/229 [==============================] - 0s 2ms/step - loss: 0.0091\n",
      "Epoch 13/100\n",
      "229/229 [==============================] - 0s 2ms/step - loss: 0.0084\n",
      "Epoch 14/100\n",
      "229/229 [==============================] - 0s 2ms/step - loss: 0.0084\n",
      "Epoch 15/100\n",
      "229/229 [==============================] - 0s 2ms/step - loss: 0.0076\n",
      "Epoch 16/100\n",
      "229/229 [==============================] - 0s 2ms/step - loss: 0.0076\n",
      "Epoch 17/100\n",
      "229/229 [==============================] - 0s 2ms/step - loss: 0.0068A: 0s - loss: 0.0\n",
      "Epoch 18/100\n",
      "229/229 [==============================] - 0s 2ms/step - loss: 0.0067\n",
      "Epoch 19/100\n",
      "229/229 [==============================] - 0s 2ms/step - loss: 0.0067\n",
      "Epoch 20/100\n",
      "229/229 [==============================] - 0s 2ms/step - loss: 0.0064\n",
      "Epoch 21/100\n",
      "229/229 [==============================] - 0s 2ms/step - loss: 0.0061\n",
      "Epoch 22/100\n",
      "229/229 [==============================] - 0s 2ms/step - loss: 0.0058\n",
      "Epoch 23/100\n",
      "229/229 [==============================] - 0s 2ms/step - loss: 0.0057\n",
      "Epoch 24/100\n",
      "229/229 [==============================] - 0s 2ms/step - loss: 0.0056\n",
      "Epoch 25/100\n",
      "229/229 [==============================] - 0s 2ms/step - loss: 0.0055\n",
      "Epoch 26/100\n",
      "229/229 [==============================] - 0s 2ms/step - loss: 0.0057\n",
      "Epoch 27/100\n",
      "229/229 [==============================] - 0s 2ms/step - loss: 0.0056\n",
      "Epoch 28/100\n",
      "229/229 [==============================] - 0s 1ms/step - loss: 0.0056A: 0s - loss: 0.\n",
      "Epoch 29/100\n",
      "229/229 [==============================] - 0s 2ms/step - loss: 0.0054\n",
      "Epoch 30/100\n",
      "229/229 [==============================] - 0s 2ms/step - loss: 0.0054\n",
      "Epoch 31/100\n",
      "229/229 [==============================] - 0s 2ms/step - loss: 0.0053\n",
      "Epoch 32/100\n",
      "229/229 [==============================] - 0s 2ms/step - loss: 0.0053\n",
      "Epoch 33/100\n",
      "229/229 [==============================] - 0s 2ms/step - loss: 0.0053\n",
      "Epoch 34/100\n",
      "229/229 [==============================] - 0s 2ms/step - loss: 0.0052\n",
      "Epoch 35/100\n",
      "229/229 [==============================] - 0s 2ms/step - loss: 0.0052\n",
      "Epoch 36/100\n",
      "229/229 [==============================] - 0s 2ms/step - loss: 0.0052\n",
      "Epoch 37/100\n",
      "229/229 [==============================] - 0s 2ms/step - loss: 0.0052\n",
      "Epoch 38/100\n",
      "229/229 [==============================] - 0s 2ms/step - loss: 0.0051\n",
      "Epoch 39/100\n",
      "229/229 [==============================] - 0s 2ms/step - loss: 0.0052\n",
      "Epoch 40/100\n",
      "229/229 [==============================] - 0s 2ms/step - loss: 0.0051\n",
      "Epoch 41/100\n",
      "229/229 [==============================] - 0s 2ms/step - loss: 0.0051\n",
      "Epoch 42/100\n",
      "229/229 [==============================] - 0s 2ms/step - loss: 0.0050\n",
      "Epoch 43/100\n",
      "229/229 [==============================] - 0s 2ms/step - loss: 0.0051\n",
      "Epoch 44/100\n",
      "229/229 [==============================] - 0s 2ms/step - loss: 0.0051\n",
      "Epoch 45/100\n",
      "229/229 [==============================] - 0s 2ms/step - loss: 0.0049\n",
      "Epoch 46/100\n",
      "229/229 [==============================] - 0s 2ms/step - loss: 0.0049\n",
      "Epoch 47/100\n",
      "229/229 [==============================] - 0s 2ms/step - loss: 0.0050\n",
      "Epoch 48/100\n",
      "229/229 [==============================] - 0s 2ms/step - loss: 0.0048\n",
      "Epoch 49/100\n",
      "229/229 [==============================] - 0s 2ms/step - loss: 0.0048\n",
      "Epoch 50/100\n",
      "229/229 [==============================] - 0s 2ms/step - loss: 0.0048\n",
      "Epoch 51/100\n",
      "229/229 [==============================] - 0s 2ms/step - loss: 0.0048\n",
      "Epoch 52/100\n",
      "229/229 [==============================] - 0s 1ms/step - loss: 0.0048\n",
      "Epoch 53/100\n",
      "229/229 [==============================] - 0s 2ms/step - loss: 0.0046\n",
      "Epoch 54/100\n",
      "229/229 [==============================] - 0s 2ms/step - loss: 0.0046\n",
      "Epoch 55/100\n",
      "229/229 [==============================] - 0s 1ms/step - loss: 0.0046\n",
      "Epoch 56/100\n",
      "229/229 [==============================] - 0s 2ms/step - loss: 0.0045\n",
      "Epoch 57/100\n",
      "229/229 [==============================] - 0s 2ms/step - loss: 0.0044\n",
      "Epoch 58/100\n",
      "229/229 [==============================] - 0s 2ms/step - loss: 0.0043\n",
      "Epoch 59/100\n",
      "229/229 [==============================] - 0s 2ms/step - loss: 0.0042\n",
      "Epoch 60/100\n",
      "229/229 [==============================] - 0s 2ms/step - loss: 0.0040\n",
      "Epoch 61/100\n",
      "229/229 [==============================] - 0s 1ms/step - loss: 0.0040\n",
      "Epoch 62/100\n",
      "229/229 [==============================] - 0s 2ms/step - loss: 0.0040\n",
      "Epoch 63/100\n",
      "229/229 [==============================] - 0s 2ms/step - loss: 0.0041\n",
      "Epoch 64/100\n",
      "229/229 [==============================] - 0s 2ms/step - loss: 0.0039\n",
      "Epoch 65/100\n",
      "229/229 [==============================] - 0s 2ms/step - loss: 0.0037\n",
      "Epoch 66/100\n",
      "229/229 [==============================] - 0s 2ms/step - loss: 0.0037\n",
      "Epoch 67/100\n",
      "229/229 [==============================] - 0s 2ms/step - loss: 0.0036\n",
      "Epoch 68/100\n",
      "229/229 [==============================] - 0s 2ms/step - loss: 0.0037\n",
      "Epoch 69/100\n",
      "229/229 [==============================] - 0s 2ms/step - loss: 0.0036\n",
      "Epoch 70/100\n",
      "229/229 [==============================] - 0s 2ms/step - loss: 0.0036\n",
      "Epoch 71/100\n",
      "229/229 [==============================] - 0s 2ms/step - loss: 0.0035\n",
      "Epoch 72/100\n",
      "229/229 [==============================] - 0s 2ms/step - loss: 0.0037\n",
      "Epoch 73/100\n",
      "229/229 [==============================] - 0s 2ms/step - loss: 0.0036\n",
      "Epoch 74/100\n",
      "229/229 [==============================] - 0s 2ms/step - loss: 0.0034\n",
      "Epoch 75/100\n",
      "229/229 [==============================] - 0s 2ms/step - loss: 0.0035\n",
      "Epoch 76/100\n",
      "229/229 [==============================] - 0s 2ms/step - loss: 0.0036\n",
      "Epoch 77/100\n",
      "229/229 [==============================] - 0s 1ms/step - loss: 0.0036\n",
      "Epoch 78/100\n",
      "229/229 [==============================] - 0s 2ms/step - loss: 0.0035\n",
      "Epoch 79/100\n",
      "229/229 [==============================] - 0s 1ms/step - loss: 0.0034\n",
      "Epoch 80/100\n",
      "229/229 [==============================] - 0s 2ms/step - loss: 0.0034\n",
      "Epoch 81/100\n",
      "229/229 [==============================] - 0s 2ms/step - loss: 0.0033\n",
      "Epoch 82/100\n",
      "229/229 [==============================] - 0s 1ms/step - loss: 0.0031\n",
      "Epoch 83/100\n",
      "229/229 [==============================] - 0s 2ms/step - loss: 0.0032\n",
      "Epoch 84/100\n",
      "229/229 [==============================] - 0s 1ms/step - loss: 0.0029\n",
      "Epoch 85/100\n",
      "229/229 [==============================] - 0s 2ms/step - loss: 0.0029\n",
      "Epoch 86/100\n",
      "229/229 [==============================] - 0s 2ms/step - loss: 0.0031\n",
      "Epoch 87/100\n",
      "229/229 [==============================] - 0s 1ms/step - loss: 0.0030\n",
      "Epoch 88/100\n",
      "229/229 [==============================] - 0s 2ms/step - loss: 0.0028\n",
      "Epoch 89/100\n",
      "229/229 [==============================] - 0s 1ms/step - loss: 0.0027\n",
      "Epoch 90/100\n",
      "229/229 [==============================] - 0s 2ms/step - loss: 0.0027\n",
      "Epoch 91/100\n",
      "229/229 [==============================] - 0s 1ms/step - loss: 0.0028A: 0s - loss: 0.00\n",
      "Epoch 92/100\n",
      "229/229 [==============================] - 0s 1ms/step - loss: 0.0027\n",
      "Epoch 93/100\n",
      "229/229 [==============================] - 0s 2ms/step - loss: 0.0025\n",
      "Epoch 94/100\n",
      "229/229 [==============================] - 0s 1ms/step - loss: 0.0025\n",
      "Epoch 95/100\n",
      "229/229 [==============================] - 0s 1ms/step - loss: 0.0024\n",
      "Epoch 96/100\n",
      "229/229 [==============================] - 0s 1ms/step - loss: 0.0024\n",
      "Epoch 97/100\n",
      "229/229 [==============================] - 0s 1ms/step - loss: 0.0024\n",
      "Epoch 98/100\n",
      "229/229 [==============================] - 0s 2ms/step - loss: 0.0023\n",
      "Epoch 99/100\n"
     ]
    },
    {
     "name": "stdout",
     "output_type": "stream",
     "text": [
      "229/229 [==============================] - 0s 1ms/step - loss: 0.0023\n",
      "Epoch 100/100\n",
      "229/229 [==============================] - 0s 2ms/step - loss: 0.0022\n"
     ]
    },
    {
     "data": {
      "text/plain": [
       "<keras.callbacks.callbacks.History at 0x2832d18db70>"
      ]
     },
     "execution_count": 98,
     "metadata": {},
     "output_type": "execute_result"
    }
   ],
   "source": [
    "model.fit(X_train, a, epochs = 100, batch_size = 20)"
   ]
  },
  {
   "cell_type": "code",
   "execution_count": 100,
   "metadata": {},
   "outputs": [],
   "source": [
    "df_test = pd.read_csv('./Test_X.csv',encoding= 'cp950')\n",
    "\n",
    "\n",
    "for name in stock_list_train:\n",
    "    data_test[name]=df_test[df_test['股票代號']==name].loc[:,['開盤價', '最高價','最低價','收盤價','成交量.股.']]\n",
    "TWA00_test= normalize(data_test['TWA00'])\n",
    "X_test,Y_test=train_(TWA00_test,7,1)"
   ]
  },
  {
   "cell_type": "code",
   "execution_count": null,
   "metadata": {},
   "outputs": [],
   "source": []
  },
  {
   "cell_type": "code",
   "execution_count": null,
   "metadata": {},
   "outputs": [],
   "source": []
  },
  {
   "cell_type": "code",
   "execution_count": null,
   "metadata": {},
   "outputs": [],
   "source": []
  },
  {
   "cell_type": "code",
   "execution_count": null,
   "metadata": {},
   "outputs": [],
   "source": []
  },
  {
   "cell_type": "code",
   "execution_count": null,
   "metadata": {},
   "outputs": [],
   "source": []
  },
  {
   "cell_type": "code",
   "execution_count": null,
   "metadata": {},
   "outputs": [],
   "source": [
    "predict_y = model.predict(a)"
   ]
  },
  {
   "cell_type": "code",
   "execution_count": null,
   "metadata": {},
   "outputs": [],
   "source": [
    "predict_y"
   ]
  },
  {
   "cell_type": "code",
   "execution_count": null,
   "metadata": {},
   "outputs": [],
   "source": [
    "def denormalize(train):\n",
    "    denorm = train*(np.max(data_train['TWA00']['收盤價'])-np.min(data_train['TWA00']['收盤價']))+np.mean(data_train['TWA00']['收盤價'])\n",
    "    return denorm"
   ]
  },
  {
   "cell_type": "code",
   "execution_count": null,
   "metadata": {},
   "outputs": [],
   "source": [
    "Y_test = pd.DataFrame(Y_test)\n",
    "test_y = denormalize(Y_test)\n",
    "z = denormalize(predict_y)"
   ]
  },
  {
   "cell_type": "code",
   "execution_count": null,
   "metadata": {},
   "outputs": [],
   "source": [
    "test_y"
   ]
  },
  {
   "cell_type": "code",
   "execution_count": null,
   "metadata": {},
   "outputs": [],
   "source": [
    "import matplotlib.pyplot as plt \n",
    "plt.plot(test_y, color = 'red', label = 'Real Price')  # 紅線表示真實股價\n",
    "plt.plot(z, color = 'blue', label = 'Predicted Price')  # 藍線表示預測股價\n",
    "plt.title('Price Prediction')\n",
    "plt.xlabel('Time')\n",
    "plt.ylabel('Stock Price')\n",
    "plt.legend()\n",
    "plt.show()"
   ]
  },
  {
   "cell_type": "code",
   "execution_count": null,
   "metadata": {},
   "outputs": [],
   "source": []
  }
 ],
 "metadata": {
  "kernelspec": {
   "display_name": "Python 3",
   "language": "python",
   "name": "python3"
  },
  "language_info": {
   "codemirror_mode": {
    "name": "ipython",
    "version": 3
   },
   "file_extension": ".py",
   "mimetype": "text/x-python",
   "name": "python",
   "nbconvert_exporter": "python",
   "pygments_lexer": "ipython3",
   "version": "3.6.4"
  }
 },
 "nbformat": 4,
 "nbformat_minor": 2
}
