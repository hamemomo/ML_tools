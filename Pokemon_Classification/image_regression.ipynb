{
 "cells": [
  {
   "cell_type": "code",
   "execution_count": null,
   "metadata": {},
   "outputs": [],
   "source": [
    "import cv2 as  cv\n",
    "import numpy as np\n",
    " \n",
    "width = 50\n",
    "height = 50\n",
    "qipan_cell = 100\n",
    " \n",
    "width_pix = (width + 1) * qipan_cell + qipan_cell  # add extra  qipan_cell  for reserve blank\n",
    "height_pix = (height + 1) * qipan_cell + qipan_cell\n",
    " \n",
    "#white = (255,255,255)\n",
    "#black =  (0,0,0)\n",
    " \n",
    "image = np.zeros((height_pix, width_pix, 3), dtype=np.uint8)\n",
    "image.fill(255)\n",
    " \n",
    "#创建显示窗口\n",
    "win_name = \"qipan\"\n",
    "cv.namedWindow(\"qipan\",cv.WINDOW_AUTOSIZE)\n",
    "cv.imshow(win_name, image)\n",
    "color = (255,255,255)\n",
    " \n",
    "y0 = 0\n",
    "fill_color = 0\n",
    "for j in range(0,height + 1):\n",
    "    y = j * qipan_cell\n",
    "    for i in range(0,width+1):\n",
    "        #rint(i)\n",
    "        x0 = i *qipan_cell\n",
    "        y0 = y\n",
    "        rect_start = (x0,y0)\n",
    " \n",
    "        x1 = x0 + qipan_cell\n",
    "        y1 = y0 + qipan_cell\n",
    "        rect_end = (x1,y1)\n",
    "        print(x0,y0,x1,y1, fill_color)\n",
    "        cv.rectangle(image, rect_start, rect_end,color, 1, 0)\n",
    "        #print(fill_color)\n",
    "        image[y0:y1,x0:x1] = fill_color\n",
    "        if width % 2: \n",
    "            if i != width:\n",
    "                fill_color = (0 if ( fill_color == 255) else 255)\n",
    "        else:\n",
    "            if i != width + 1:\n",
    "                fill_color = (0 if ( fill_color == 255) else 255)\n",
    "   \n",
    " \n",
    " \n",
    " \n",
    "#image[0:20,0:20] = 0\n",
    "#image[40:60,0:20] = 0\n",
    " \n",
    "cv.imwrite(\"qipan_%d_W_%d_H.jpg\"%(width, height),image)\n",
    "cv.imshow(win_name, image)\n",
    " \n",
    "cv.waitKey()\n"
   ]
  },
  {
   "cell_type": "code",
   "execution_count": null,
   "metadata": {},
   "outputs": [],
   "source": []
  },
  {
   "cell_type": "code",
   "execution_count": null,
   "metadata": {},
   "outputs": [],
   "source": []
  },
  {
   "cell_type": "code",
   "execution_count": null,
   "metadata": {},
   "outputs": [],
   "source": []
  }
 ],
 "metadata": {
  "kernelspec": {
   "display_name": "Python 3",
   "language": "python",
   "name": "python3"
  },
  "language_info": {
   "codemirror_mode": {
    "name": "ipython",
    "version": 3
   },
   "file_extension": ".py",
   "mimetype": "text/x-python",
   "name": "python",
   "nbconvert_exporter": "python",
   "pygments_lexer": "ipython3",
   "version": "3.6.4"
  }
 },
 "nbformat": 4,
 "nbformat_minor": 2
}
