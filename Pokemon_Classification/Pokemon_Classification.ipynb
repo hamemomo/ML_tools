{
 "cells": [
  {
   "cell_type": "code",
   "execution_count": 726,
   "metadata": {},
   "outputs": [],
   "source": [
    "import numpy as np\n",
    "import pandas as pd\n",
    "import matplotlib as plt\n",
    "import math"
   ]
  },
  {
   "cell_type": "code",
   "execution_count": 727,
   "metadata": {},
   "outputs": [],
   "source": [
    "df = pd.read_csv('./Pokemon.csv')"
   ]
  },
  {
   "cell_type": "code",
   "execution_count": 728,
   "metadata": {},
   "outputs": [
    {
     "data": {
      "text/html": [
       "<div>\n",
       "<style scoped>\n",
       "    .dataframe tbody tr th:only-of-type {\n",
       "        vertical-align: middle;\n",
       "    }\n",
       "\n",
       "    .dataframe tbody tr th {\n",
       "        vertical-align: top;\n",
       "    }\n",
       "\n",
       "    .dataframe thead th {\n",
       "        text-align: right;\n",
       "    }\n",
       "</style>\n",
       "<table border=\"1\" class=\"dataframe\">\n",
       "  <thead>\n",
       "    <tr style=\"text-align: right;\">\n",
       "      <th></th>\n",
       "      <th>#</th>\n",
       "      <th>Name</th>\n",
       "      <th>Type 1</th>\n",
       "      <th>Type 2</th>\n",
       "      <th>Total</th>\n",
       "      <th>HP</th>\n",
       "      <th>Attack</th>\n",
       "      <th>Defense</th>\n",
       "      <th>Sp. Atk</th>\n",
       "      <th>Sp. Def</th>\n",
       "      <th>Speed</th>\n",
       "      <th>Generation</th>\n",
       "      <th>Legendary</th>\n",
       "    </tr>\n",
       "  </thead>\n",
       "  <tbody>\n",
       "    <tr>\n",
       "      <th>0</th>\n",
       "      <td>1</td>\n",
       "      <td>Bulbasaur</td>\n",
       "      <td>Grass</td>\n",
       "      <td>Poison</td>\n",
       "      <td>318</td>\n",
       "      <td>45</td>\n",
       "      <td>49</td>\n",
       "      <td>49</td>\n",
       "      <td>65</td>\n",
       "      <td>65</td>\n",
       "      <td>45</td>\n",
       "      <td>1</td>\n",
       "      <td>False</td>\n",
       "    </tr>\n",
       "    <tr>\n",
       "      <th>1</th>\n",
       "      <td>2</td>\n",
       "      <td>Ivysaur</td>\n",
       "      <td>Grass</td>\n",
       "      <td>Poison</td>\n",
       "      <td>405</td>\n",
       "      <td>60</td>\n",
       "      <td>62</td>\n",
       "      <td>63</td>\n",
       "      <td>80</td>\n",
       "      <td>80</td>\n",
       "      <td>60</td>\n",
       "      <td>1</td>\n",
       "      <td>False</td>\n",
       "    </tr>\n",
       "    <tr>\n",
       "      <th>2</th>\n",
       "      <td>3</td>\n",
       "      <td>Venusaur</td>\n",
       "      <td>Grass</td>\n",
       "      <td>Poison</td>\n",
       "      <td>525</td>\n",
       "      <td>80</td>\n",
       "      <td>82</td>\n",
       "      <td>83</td>\n",
       "      <td>100</td>\n",
       "      <td>100</td>\n",
       "      <td>80</td>\n",
       "      <td>1</td>\n",
       "      <td>False</td>\n",
       "    </tr>\n",
       "    <tr>\n",
       "      <th>3</th>\n",
       "      <td>3</td>\n",
       "      <td>VenusaurMega Venusaur</td>\n",
       "      <td>Grass</td>\n",
       "      <td>Poison</td>\n",
       "      <td>625</td>\n",
       "      <td>80</td>\n",
       "      <td>100</td>\n",
       "      <td>123</td>\n",
       "      <td>122</td>\n",
       "      <td>120</td>\n",
       "      <td>80</td>\n",
       "      <td>1</td>\n",
       "      <td>False</td>\n",
       "    </tr>\n",
       "    <tr>\n",
       "      <th>4</th>\n",
       "      <td>4</td>\n",
       "      <td>Charmander</td>\n",
       "      <td>Fire</td>\n",
       "      <td>NaN</td>\n",
       "      <td>309</td>\n",
       "      <td>39</td>\n",
       "      <td>52</td>\n",
       "      <td>43</td>\n",
       "      <td>60</td>\n",
       "      <td>50</td>\n",
       "      <td>65</td>\n",
       "      <td>1</td>\n",
       "      <td>False</td>\n",
       "    </tr>\n",
       "  </tbody>\n",
       "</table>\n",
       "</div>"
      ],
      "text/plain": [
       "   #                   Name Type 1  Type 2  Total  HP  Attack  Defense  \\\n",
       "0  1              Bulbasaur  Grass  Poison    318  45      49       49   \n",
       "1  2                Ivysaur  Grass  Poison    405  60      62       63   \n",
       "2  3               Venusaur  Grass  Poison    525  80      82       83   \n",
       "3  3  VenusaurMega Venusaur  Grass  Poison    625  80     100      123   \n",
       "4  4             Charmander   Fire     NaN    309  39      52       43   \n",
       "\n",
       "   Sp. Atk  Sp. Def  Speed  Generation  Legendary  \n",
       "0       65       65     45           1      False  \n",
       "1       80       80     60           1      False  \n",
       "2      100      100     80           1      False  \n",
       "3      122      120     80           1      False  \n",
       "4       60       50     65           1      False  "
      ]
     },
     "execution_count": 728,
     "metadata": {},
     "output_type": "execute_result"
    }
   ],
   "source": [
    "df.head()"
   ]
  },
  {
   "cell_type": "code",
   "execution_count": 729,
   "metadata": {
    "scrolled": true
   },
   "outputs": [
    {
     "name": "stdout",
     "output_type": "stream",
     "text": [
      "<class 'pandas.core.frame.DataFrame'>\n",
      "RangeIndex: 400 entries, 0 to 399\n",
      "Data columns (total 13 columns):\n",
      "#             400 non-null int64\n",
      "Name          400 non-null object\n",
      "Type 1        400 non-null object\n",
      "Type 2        199 non-null object\n",
      "Total         400 non-null int64\n",
      "HP            400 non-null int64\n",
      "Attack        400 non-null int64\n",
      "Defense       400 non-null int64\n",
      "Sp. Atk       400 non-null int64\n",
      "Sp. Def       400 non-null int64\n",
      "Speed         400 non-null int64\n",
      "Generation    400 non-null int64\n",
      "Legendary     400 non-null bool\n",
      "dtypes: bool(1), int64(9), object(3)\n",
      "memory usage: 38.0+ KB\n"
     ]
    }
   ],
   "source": [
    "df = df.iloc[0:400]\n",
    "df.info()"
   ]
  },
  {
   "cell_type": "code",
   "execution_count": 730,
   "metadata": {},
   "outputs": [
    {
     "data": {
      "text/plain": [
       "#             57\n",
       "Name          57\n",
       "Type 1        57\n",
       "Type 2        19\n",
       "Total         57\n",
       "HP            57\n",
       "Attack        57\n",
       "Defense       57\n",
       "Sp. Atk       57\n",
       "Sp. Def       57\n",
       "Speed         57\n",
       "Generation    57\n",
       "Legendary     57\n",
       "dtype: int64"
      ]
     },
     "execution_count": 730,
     "metadata": {},
     "output_type": "execute_result"
    }
   ],
   "source": [
    "df[df['Type 1'] == 'Normal'].count()"
   ]
  },
  {
   "cell_type": "code",
   "execution_count": 731,
   "metadata": {},
   "outputs": [],
   "source": [
    "import matplotlib.pyplot as plt\n",
    "%matplotlib inline"
   ]
  },
  {
   "cell_type": "code",
   "execution_count": 732,
   "metadata": {},
   "outputs": [
    {
     "data": {
      "text/plain": [
       "[<matplotlib.lines.Line2D at 0x24d02852c88>,\n",
       " <matplotlib.lines.Line2D at 0x24d02852d68>]"
      ]
     },
     "execution_count": 732,
     "metadata": {},
     "output_type": "execute_result"
    },
    {
     "data": {
      "image/png": "[encoded data removed]",
      "text/plain": [
       "<matplotlib.figure.Figure at 0x24d0282a780>"
      ]
     },
     "metadata": {},
     "output_type": "display_data"
    }
   ],
   "source": [
    "plt.plot(df[df['Type 1'] == 'Normal']['Defense'],df[df['Type 1'] == 'Normal']['Sp. Def'],'r.',\n",
    "         df[df['Type 1'] == 'Water']['Defense'],df[df['Type 1'] == 'Water']['Sp. Def'],'b.')"
   ]
  },
  {
   "cell_type": "code",
   "execution_count": 733,
   "metadata": {},
   "outputs": [
    {
     "data": {
      "text/plain": [
       "[73.31884057971014, 69.08695652173913]"
      ]
     },
     "execution_count": 733,
     "metadata": {},
     "output_type": "execute_result"
    }
   ],
   "source": [
    "matrix_mean = [df.loc[df['Type 1'] == 'Water','Defense'].mean(),df.loc[df['Type 1'] == 'Water','Sp. Def'].mean()]\n",
    "Sp_Def_mean = df.loc[df['Type 1'] == 'Water','Sp. Def'].mean()\n",
    "matrix_mean"
   ]
  },
  {
   "cell_type": "code",
   "execution_count": 734,
   "metadata": {},
   "outputs": [
    {
     "name": "stdout",
     "output_type": "stream",
     "text": [
      "56.12280701754386\n",
      "69.08695652173913\n"
     ]
    }
   ],
   "source": [
    "Defense_matrix = np.array(df[df['Type 1'] == 'Water']['Defense']-Defense_mean)\n",
    "Sp_Def_matrix = np.array(df[df['Type 1'] == 'Water']['Sp. Def']-Sp_Def_mean)\n",
    "print(Defense_mean)\n",
    "print(Sp_Def_mean)"
   ]
  },
  {
   "cell_type": "code",
   "execution_count": 735,
   "metadata": {},
   "outputs": [
    {
     "data": {
      "text/plain": [
       "matrix([[ 78.80455525, -45.15789474],\n",
       "        [-45.15789474,  25.87712665]])"
      ]
     },
     "execution_count": 735,
     "metadata": {},
     "output_type": "execute_result"
    }
   ],
   "source": [
    "combined = np.vstack((Defense_matrix, Sp_Def_matrix)).T\n",
    "x_matrix = np.mat(combined[0])\n",
    "np.dot(x_matrix.T,x_matrix)"
   ]
  },
  {
   "cell_type": "code",
   "execution_count": 736,
   "metadata": {},
   "outputs": [
    {
     "data": {
      "text/plain": [
       "matrix([[1199.51495443,  329.03024575],\n",
       "        [ 329.03024575,  854.05040958]])"
      ]
     },
     "execution_count": 736,
     "metadata": {},
     "output_type": "execute_result"
    }
   ],
   "source": [
    "x_matrix_total = a = np.zeros([2, 2]) \n",
    "for i in range(combined.shape[0]) : \n",
    "    \n",
    "    x_matrix = np.mat(combined[i])\n",
    "    x_matrix_total = x_matrix_total + np.dot(x_matrix.T,x_matrix)\n",
    "x_matrix_total = x_matrix_total/combined.shape[0]\n",
    "x_matrix_total"
   ]
  },
  {
   "cell_type": "markdown",
   "metadata": {},
   "source": [
    "# P(x|C1)"
   ]
  },
  {
   "cell_type": "code",
   "execution_count": 737,
   "metadata": {},
   "outputs": [
    {
     "name": "stdout",
     "output_type": "stream",
     "text": [
      "0.0005894315735112215\n"
     ]
    },
    {
     "data": {
      "text/plain": [
       "matrix([[0.]])"
      ]
     },
     "execution_count": 737,
     "metadata": {},
     "output_type": "execute_result"
    }
   ],
   "source": [
    "Defense_matrix = np.array(df[df['Type 1'] == 'Water']['Defense']-Defense_mean)\n",
    "Sp_Def_matrix = np.array(df[df['Type 1'] == 'Water']['Sp. Def']-Sp_Def_mean)\n",
    "combined = np.vstack((Defense_matrix, Sp_Def_matrix)).T\n",
    "x_matrix = np.mat(combined[0])\n",
    "np.dot(x_matrix.T,x_matrix)\n",
    "x_matrix_total = a = np.zeros([2, 2]) \n",
    "for i in range(combined.shape[0]) : \n",
    "    \n",
    "    x_matrix = np.mat(combined[i])\n",
    "    x_matrix_total = x_matrix_total + np.dot(x_matrix.T,x_matrix)\n",
    "x_matrix_total = x_matrix_total/combined.shape[0]\n",
    "x_matrix_total\n",
    "inverse = np.linalg.inv(x_matrix_total)\n",
    "inverse\n",
    "x_test = np.mat([73.31884057971014,69.08695652173913])\n",
    "\n",
    "matrix = np.dot(np.dot((x_test-matrix_mean),inverse),(x_test-matrix_mean).T)\n",
    "P_x_C1 = math.exp(-0.5*matrix)/((np.linalg.det(x_matrix_total)**0.5)*(math.pi)**0.5)\n",
    "\n",
    "print(P_x_C1)\n",
    "matrix"
   ]
  },
  {
   "cell_type": "markdown",
   "metadata": {},
   "source": [
    "# P(x|C2)"
   ]
  },
  {
   "cell_type": "code",
   "execution_count": 738,
   "metadata": {},
   "outputs": [
    {
     "name": "stdout",
     "output_type": "stream",
     "text": [
      "0.0010970936472325288\n"
     ]
    },
    {
     "data": {
      "text/plain": [
       "matrix([[0.]])"
      ]
     },
     "execution_count": 738,
     "metadata": {},
     "output_type": "execute_result"
    }
   ],
   "source": [
    "Defense_matrix = np.array(df[df['Type 1'] == 'Normal']['Defense']-Defense_mean)\n",
    "Sp_Def_matrix = np.array(df[df['Type 1'] == 'Normal']['Sp. Def']-Sp_Def_mean)\n",
    "combined = np.vstack((Defense_matrix, Sp_Def_matrix)).T\n",
    "x_matrix = np.mat(combined[0])\n",
    "np.dot(x_matrix.T,x_matrix)\n",
    "x_matrix_total = a = np.zeros([2, 2]) \n",
    "for i in range(combined.shape[0]) : \n",
    "    \n",
    "    x_matrix = np.mat(combined[i])\n",
    "    x_matrix_total = x_matrix_total + np.dot(x_matrix.T,x_matrix)\n",
    "x_matrix_total = x_matrix_total/combined.shape[0]\n",
    "x_matrix_total\n",
    "inverse = np.linalg.inv(x_matrix_total)\n",
    "inverse\n",
    "x_test = np.mat([73.31884057971014,69.08695652173913])\n",
    "\n",
    "matrix = np.dot(np.dot((x_test-matrix_mean),inverse),(x_test-matrix_mean).T)\n",
    "P_x_C2 = math.exp(-0.5*matrix)/((np.linalg.det(x_matrix_total)**0.5)*(math.pi)**0.5)\n",
    "\n",
    "print(P_x_C2)\n",
    "matrix"
   ]
  },
  {
   "cell_type": "code",
   "execution_count": null,
   "metadata": {},
   "outputs": [],
   "source": []
  },
  {
   "cell_type": "code",
   "execution_count": null,
   "metadata": {},
   "outputs": [],
   "source": []
  },
  {
   "cell_type": "code",
   "execution_count": 739,
   "metadata": {},
   "outputs": [],
   "source": [
    "a = np.array(df[df['Type 1'] == 'Normal']['Attack'])"
   ]
  },
  {
   "cell_type": "code",
   "execution_count": 740,
   "metadata": {},
   "outputs": [],
   "source": [
    "Total_mean = df.loc[df['Type 1'] == 'Normal','Total'].mean()\n",
    "HP_mean = df.loc[df['Type 1'] == 'Normal','HP'].mean()\n",
    "Attack_mean = df.loc[df['Type 1'] == 'Normal','Attack'].mean()\n",
    "Defense_mean = df.loc[df['Type 1'] == 'Normal','Defense'].mean()\n",
    "Sp_Atk_mean = df.loc[df['Type 1'] == 'Normal','Sp. Atk'].mean()\n",
    "Sp_Def_mean = df.loc[df['Type 1'] == 'Normal','Sp. Def'].mean()\n",
    "Speed_mean = df.loc[df['Type 1'] == 'Normal','Speed'].mean()"
   ]
  },
  {
   "cell_type": "code",
   "execution_count": null,
   "metadata": {},
   "outputs": [],
   "source": []
  },
  {
   "cell_type": "code",
   "execution_count": 741,
   "metadata": {},
   "outputs": [
    {
     "data": {
      "text/plain": [
       "array([-72.24561404, -87.10526316])"
      ]
     },
     "execution_count": 741,
     "metadata": {},
     "output_type": "execute_result"
    }
   ],
   "source": [
    "z"
   ]
  },
  {
   "cell_type": "code",
   "execution_count": null,
   "metadata": {},
   "outputs": [],
   "source": []
  }
 ],
 "metadata": {
  "kernelspec": {
   "display_name": "Python 3",
   "language": "python",
   "name": "python3"
  },
  "language_info": {
   "codemirror_mode": {
    "name": "ipython",
    "version": 3
   },
   "file_extension": ".py",
   "mimetype": "text/x-python",
   "name": "python",
   "nbconvert_exporter": "python",
   "pygments_lexer": "ipython3",
   "version": "3.6.4"
  }
 },
 "nbformat": 4,
 "nbformat_minor": 2
}
