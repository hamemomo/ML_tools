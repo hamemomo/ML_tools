{
 "cells": [
  {
   "cell_type": "code",
   "execution_count": 251,
   "metadata": {},
   "outputs": [],
   "source": [
    "import numpy as np\n",
    "import pandas as pd\n",
    "import matplotlib as plt\n",
    "import math"
   ]
  },
  {
   "cell_type": "code",
   "execution_count": 252,
   "metadata": {},
   "outputs": [],
   "source": [
    "df = pd.read_csv('./Pokemon.csv')"
   ]
  },
  {
   "cell_type": "code",
   "execution_count": 253,
   "metadata": {},
   "outputs": [
    {
     "data": {
      "text/html": [
       "<div>\n",
       "<style scoped>\n",
       "    .dataframe tbody tr th:only-of-type {\n",
       "        vertical-align: middle;\n",
       "    }\n",
       "\n",
       "    .dataframe tbody tr th {\n",
       "        vertical-align: top;\n",
       "    }\n",
       "\n",
       "    .dataframe thead th {\n",
       "        text-align: right;\n",
       "    }\n",
       "</style>\n",
       "<table border=\"1\" class=\"dataframe\">\n",
       "  <thead>\n",
       "    <tr style=\"text-align: right;\">\n",
       "      <th></th>\n",
       "      <th>#</th>\n",
       "      <th>Name</th>\n",
       "      <th>Type 1</th>\n",
       "      <th>Type 2</th>\n",
       "      <th>Total</th>\n",
       "      <th>HP</th>\n",
       "      <th>Attack</th>\n",
       "      <th>Defense</th>\n",
       "      <th>Sp. Atk</th>\n",
       "      <th>Sp. Def</th>\n",
       "      <th>Speed</th>\n",
       "      <th>Generation</th>\n",
       "      <th>Legendary</th>\n",
       "    </tr>\n",
       "  </thead>\n",
       "  <tbody>\n",
       "    <tr>\n",
       "      <th>0</th>\n",
       "      <td>1</td>\n",
       "      <td>Bulbasaur</td>\n",
       "      <td>Grass</td>\n",
       "      <td>Poison</td>\n",
       "      <td>318</td>\n",
       "      <td>45</td>\n",
       "      <td>49</td>\n",
       "      <td>49</td>\n",
       "      <td>65</td>\n",
       "      <td>65</td>\n",
       "      <td>45</td>\n",
       "      <td>1</td>\n",
       "      <td>False</td>\n",
       "    </tr>\n",
       "    <tr>\n",
       "      <th>1</th>\n",
       "      <td>2</td>\n",
       "      <td>Ivysaur</td>\n",
       "      <td>Grass</td>\n",
       "      <td>Poison</td>\n",
       "      <td>405</td>\n",
       "      <td>60</td>\n",
       "      <td>62</td>\n",
       "      <td>63</td>\n",
       "      <td>80</td>\n",
       "      <td>80</td>\n",
       "      <td>60</td>\n",
       "      <td>1</td>\n",
       "      <td>False</td>\n",
       "    </tr>\n",
       "    <tr>\n",
       "      <th>2</th>\n",
       "      <td>3</td>\n",
       "      <td>Venusaur</td>\n",
       "      <td>Grass</td>\n",
       "      <td>Poison</td>\n",
       "      <td>525</td>\n",
       "      <td>80</td>\n",
       "      <td>82</td>\n",
       "      <td>83</td>\n",
       "      <td>100</td>\n",
       "      <td>100</td>\n",
       "      <td>80</td>\n",
       "      <td>1</td>\n",
       "      <td>False</td>\n",
       "    </tr>\n",
       "    <tr>\n",
       "      <th>3</th>\n",
       "      <td>3</td>\n",
       "      <td>VenusaurMega Venusaur</td>\n",
       "      <td>Grass</td>\n",
       "      <td>Poison</td>\n",
       "      <td>625</td>\n",
       "      <td>80</td>\n",
       "      <td>100</td>\n",
       "      <td>123</td>\n",
       "      <td>122</td>\n",
       "      <td>120</td>\n",
       "      <td>80</td>\n",
       "      <td>1</td>\n",
       "      <td>False</td>\n",
       "    </tr>\n",
       "    <tr>\n",
       "      <th>4</th>\n",
       "      <td>4</td>\n",
       "      <td>Charmander</td>\n",
       "      <td>Fire</td>\n",
       "      <td>NaN</td>\n",
       "      <td>309</td>\n",
       "      <td>39</td>\n",
       "      <td>52</td>\n",
       "      <td>43</td>\n",
       "      <td>60</td>\n",
       "      <td>50</td>\n",
       "      <td>65</td>\n",
       "      <td>1</td>\n",
       "      <td>False</td>\n",
       "    </tr>\n",
       "  </tbody>\n",
       "</table>\n",
       "</div>"
      ],
      "text/plain": [
       "   #                   Name Type 1  Type 2  Total  HP  Attack  Defense  \\\n",
       "0  1              Bulbasaur  Grass  Poison    318  45      49       49   \n",
       "1  2                Ivysaur  Grass  Poison    405  60      62       63   \n",
       "2  3               Venusaur  Grass  Poison    525  80      82       83   \n",
       "3  3  VenusaurMega Venusaur  Grass  Poison    625  80     100      123   \n",
       "4  4             Charmander   Fire     NaN    309  39      52       43   \n",
       "\n",
       "   Sp. Atk  Sp. Def  Speed  Generation  Legendary  \n",
       "0       65       65     45           1      False  \n",
       "1       80       80     60           1      False  \n",
       "2      100      100     80           1      False  \n",
       "3      122      120     80           1      False  \n",
       "4       60       50     65           1      False  "
      ]
     },
     "execution_count": 253,
     "metadata": {},
     "output_type": "execute_result"
    }
   ],
   "source": [
    "df.head()"
   ]
  },
  {
   "cell_type": "code",
   "execution_count": 254,
   "metadata": {
    "scrolled": true
   },
   "outputs": [
    {
     "name": "stdout",
     "output_type": "stream",
     "text": [
      "<class 'pandas.core.frame.DataFrame'>\n",
      "RangeIndex: 400 entries, 0 to 399\n",
      "Data columns (total 13 columns):\n",
      "#             400 non-null int64\n",
      "Name          400 non-null object\n",
      "Type 1        400 non-null object\n",
      "Type 2        199 non-null object\n",
      "Total         400 non-null int64\n",
      "HP            400 non-null int64\n",
      "Attack        400 non-null int64\n",
      "Defense       400 non-null int64\n",
      "Sp. Atk       400 non-null int64\n",
      "Sp. Def       400 non-null int64\n",
      "Speed         400 non-null int64\n",
      "Generation    400 non-null int64\n",
      "Legendary     400 non-null bool\n",
      "dtypes: bool(1), int64(9), object(3)\n",
      "memory usage: 38.0+ KB\n"
     ]
    }
   ],
   "source": [
    "df = df.iloc[0:400]\n",
    "df.info()"
   ]
  },
  {
   "cell_type": "markdown",
   "metadata": {},
   "source": [
    "Total_mean = df.loc[df['Type 1'] == 'Normal','Total'].mean()\n",
    "HP_mean = df.loc[df['Type 1'] == 'Normal','HP'].mean()\n",
    "Attack_mean = df.loc[df['Type 1'] == 'Normal','Attack'].mean()\n",
    "Defense_mean = df.loc[df['Type 1'] == 'Normal','Defense'].mean()\n",
    "Sp_Atk_mean = df.loc[df['Type 1'] == 'Normal','Sp. Atk'].mean()\n",
    "Sp_Def_mean = df.loc[df['Type 1'] == 'Normal','Sp. Def'].mean()\n",
    "Speed_mean = df.loc[df['Type 1'] == 'Normal','Speed'].mean()"
   ]
  },
  {
   "cell_type": "code",
   "execution_count": 256,
   "metadata": {},
   "outputs": [],
   "source": [
    "import matplotlib.pyplot as plt\n",
    "%matplotlib inline"
   ]
  },
  {
   "cell_type": "code",
   "execution_count": 292,
   "metadata": {},
   "outputs": [
    {
     "data": {
      "text/plain": [
       "[<matplotlib.lines.Line2D at 0x160e1aea828>,\n",
       " <matplotlib.lines.Line2D at 0x160e2147e10>]"
      ]
     },
     "execution_count": 292,
     "metadata": {},
     "output_type": "execute_result"
    },
    {
     "data": {
      "image/png": "[encoded data removed]",
      "text/plain": [
       "<matplotlib.figure.Figure at 0x160e20ba400>"
      ]
     },
     "metadata": {},
     "output_type": "display_data"
    }
   ],
   "source": [
    "matrix_mean_water = [df.loc[df['Type 1'] == 'Water','Defense'].mean(),df.loc[df['Type 1'] == 'Water','Sp. Def'].mean()]\n",
    "matrix_mean_normal= [df.loc[df['Type 1'] == 'Normal','Defense'].mean(),df.loc[df['Type 1'] == 'Normal','Sp. Def'].mean()]\n",
    "\n",
    "plt.plot(df[df['Type 1'] == 'Normal']['Defense'],df[df['Type 1'] == 'Normal']['Sp. Def'],'r.',\n",
    "         df[df['Type 1'] == 'Water']['Defense'],df[df['Type 1'] == 'Water']['Sp. Def'],'b.',\n",
    "       )\n",
    "\n",
    "plt.plot(matrix_mean_water[0],matrix_mean_water[1],'bd',\n",
    "         matrix_mean_normal[0],matrix_mean_normal[1],'rd',markersize=19,\n",
    "        )"
   ]
  },
  {
   "cell_type": "code",
   "execution_count": 258,
   "metadata": {},
   "outputs": [],
   "source": [
    "matrix_mean_water = [df.loc[df['Type 1'] == 'Water','Defense'].mean(),df.loc[df['Type 1'] == 'Water','Sp. Def'].mean()]\n",
    "matrix_mean_normal= [df.loc[df['Type 1'] == 'Normal','Defense'].mean(),df.loc[df['Type 1'] == 'Normal','Sp. Def'].mean()]"
   ]
  },
  {
   "cell_type": "code",
   "execution_count": 259,
   "metadata": {},
   "outputs": [
    {
     "name": "stdout",
     "output_type": "stream",
     "text": [
      "water mean [73.31884057971014, 69.08695652173913]\n",
      "Normal mean [56.12280701754386, 61.05263157894737]\n"
     ]
    }
   ],
   "source": [
    "print('water mean',matrix_mean_water)\n",
    "print('Normal mean',matrix_mean_normal)"
   ]
  },
  {
   "cell_type": "code",
   "execution_count": 260,
   "metadata": {},
   "outputs": [
    {
     "data": {
      "text/plain": [
       "matrix([[69.20310859, 42.31758034],\n",
       "        [42.31758034, 25.87712665]])"
      ]
     },
     "execution_count": 260,
     "metadata": {},
     "output_type": "execute_result"
    }
   ],
   "source": [
    "combined = np.vstack((Defense_matrix, Sp_Def_matrix)).T\n",
    "x_matrix = np.mat(combined[0])\n",
    "np.dot(x_matrix.T,x_matrix)"
   ]
  },
  {
   "cell_type": "code",
   "execution_count": 261,
   "metadata": {},
   "outputs": [
    {
     "data": {
      "text/plain": [
       "matrix([[903.81138416, 329.03024575],\n",
       "        [329.03024575, 854.05040958]])"
      ]
     },
     "execution_count": 261,
     "metadata": {},
     "output_type": "execute_result"
    }
   ],
   "source": [
    "x_matrix_total = a = np.zeros([2, 2]) \n",
    "for i in range(combined.shape[0]) : \n",
    "    \n",
    "    x_matrix = np.mat(combined[i])\n",
    "    x_matrix_total = x_matrix_total + np.dot(x_matrix.T,x_matrix)\n",
    "x_matrix_total = x_matrix_total/combined.shape[0]\n",
    "x_matrix_total"
   ]
  },
  {
   "cell_type": "code",
   "execution_count": 262,
   "metadata": {},
   "outputs": [
    {
     "name": "stdout",
     "output_type": "stream",
     "text": [
      "0.5476190476190477\n",
      "0.4523809523809524\n"
     ]
    }
   ],
   "source": [
    "#df[df['Type 1'] == 'Water']['Defense'].count\n",
    "number_of_Water = (df['Type 1'] == 'Water').sum()\n",
    "number_of_normal = (df['Type 1'] == 'Normal').sum()\n",
    "number_of_total = number_of_Water + number_of_normal\n",
    "P_c1 = number_of_Water/number_of_total\n",
    "P_c2 = number_of_normal/number_of_total\n",
    "print(P_c1)\n",
    "print(P_c2)"
   ]
  },
  {
   "cell_type": "markdown",
   "metadata": {},
   "source": [
    "# P(x|C1) Water Trainning model"
   ]
  },
  {
   "cell_type": "code",
   "execution_count": 263,
   "metadata": {},
   "outputs": [],
   "source": [
    "Defense_matrix_water = np.array(df[df['Type 1'] == 'Water']['Defense']-matrix_mean_water[0])\n",
    "Sp_Def_matrix_water = np.array(df[df['Type 1'] == 'Water']['Sp. Def']-matrix_mean_water[1])\n",
    "combined_water = np.vstack((Defense_matrix_water, Sp_Def_matrix_water)).T\n",
    "#x_matrix_water = np.mat(combined_water[0])\n",
    "#np.dot(x_matrix_water.T,x_matrix_water)\n",
    "x_matrix_total_water = np.zeros([2, 2]) \n",
    "for i in range(number_of_Water): \n",
    "    \n",
    "    x_matrix_water = np.mat(combined_water[i])\n",
    "    x_matrix_total_water = x_matrix_total_water + np.dot(x_matrix_water.T,x_matrix_water)\n",
    "x_matrix_total_water = x_matrix_total_water/number_of_Water\n",
    "x_matrix_total_water\n",
    "inverse_water = np.linalg.inv(x_matrix_total_water)\n"
   ]
  },
  {
   "cell_type": "markdown",
   "metadata": {},
   "source": [
    "# P(x|C2) Normal Trainning model"
   ]
  },
  {
   "cell_type": "code",
   "execution_count": 264,
   "metadata": {},
   "outputs": [],
   "source": [
    "Defense_matrix_normal = np.array(df[df['Type 1'] == 'Normal']['Defense']-matrix_mean_normal[0])\n",
    "Sp_Def_matrix_normal = np.array(df[df['Type 1'] == 'Normal']['Sp. Def']-matrix_mean_normal[1])\n",
    "combined_normal = np.vstack((Defense_matrix_normal, Sp_Def_matrix_normal)).T\n",
    "#x_matrix_normal = np.mat(combined_normal[0])\n",
    "#np.dot(x_matrix.T,x_matrix)\n",
    "x_matrix_total_normal = np.zeros([2, 2]) \n",
    "for i in range(number_of_normal): \n",
    "    \n",
    "    x_matrix_normal = np.mat(combined_normal[i])\n",
    "    x_matrix_total_normal = x_matrix_total_normal + np.dot(x_matrix_normal.T,x_matrix_normal)\n",
    "x_matrix_total_normal = x_matrix_total_normal/number_of_normal\n",
    "x_matrix_total_normal\n",
    "inverse_normal = np.linalg.inv(x_matrix_total_normal)\n"
   ]
  },
  {
   "cell_type": "markdown",
   "metadata": {},
   "source": [
    "# Classification"
   ]
  },
  {
   "cell_type": "code",
   "execution_count": 308,
   "metadata": {},
   "outputs": [],
   "source": [
    "def Classification(x) : \n",
    "    x = np.mat(x)\n",
    "    matrix_water = np.dot(np.dot((x-matrix_mean_water),inverse_water),(x-matrix_mean_water).T)\n",
    "    P_x_C1 = math.exp(-0.5*matrix_water)/((np.linalg.det(x_matrix_total_water)**0.5)*(math.pi))\n",
    "    matrix_normal = np.dot(np.dot((x-matrix_mean_normal),inverse_normal),(x-matrix_mean_normal).T)\n",
    "    P_x_C2 = math.exp(-0.5*matrix_normal)/(((np.linalg.det(x_matrix_total_normal))**0.5)*(math.pi))\n",
    "    \n",
    "    probability_c1_x = P_x_C1*P_c1/((P_x_C2*P_c2)+(P_x_C1*P_c1))\n",
    "    probability_c2_x = P_x_C2*P_c2/((P_x_C2*P_c2)+(P_x_C1*P_c1))\n",
    "    '''\n",
    "    print('matrix_water : ', matrix_water)\n",
    "    print('matrix_normal : ', matrix_normal)\n",
    "    \n",
    "    print('P_x_C1 : ', P_x_C1)\n",
    "    print('P_x_C2 : ', P_x_C2)\n",
    "    \n",
    "    \n",
    "    '''\n",
    "    a = 0\n",
    "    if probability_c1_x > probability_c2_x :\n",
    "        a=a+1\n",
    "        print('water class')\n",
    "    else:\n",
    "        print('fales')\n",
    "    \n",
    "    #print(probability_c1_x)\n",
    "    #print(probability_c2_x)"
   ]
  },
  {
   "cell_type": "code",
   "execution_count": 309,
   "metadata": {},
   "outputs": [
    {
     "name": "stdout",
     "output_type": "stream",
     "text": [
      "water class\n",
      "fales\n",
      "fales\n",
      "fales\n",
      "water class\n",
      "fales\n",
      "water class\n",
      "water class\n",
      "fales\n",
      "water class\n",
      "water class\n",
      "water class\n",
      "fales\n",
      "water class\n",
      "water class\n",
      "fales\n",
      "water class\n",
      "water class\n",
      "water class\n",
      "water class\n",
      "water class\n",
      "water class\n",
      "water class\n",
      "water class\n",
      "water class\n",
      "fales\n",
      "water class\n",
      "fales\n",
      "fales\n",
      "fales\n",
      "water class\n",
      "water class\n",
      "water class\n",
      "fales\n",
      "water class\n",
      "water class\n",
      "water class\n",
      "fales\n",
      "fales\n",
      "water class\n",
      "water class\n",
      "fales\n",
      "water class\n",
      "fales\n",
      "water class\n",
      "water class\n",
      "water class\n",
      "fales\n",
      "fales\n",
      "water class\n",
      "water class\n",
      "fales\n",
      "fales\n",
      "water class\n",
      "water class\n",
      "water class\n",
      "water class\n",
      "[[0. 0.]\n",
      " [0. 0.]]\n"
     ]
    }
   ],
   "source": [
    "#x_test = [73.31884057971014,69.08695652173913]\n",
    "Defense_matrix_water = np.array(df[df['Type 1'] == 'Water']['Defense']-matrix_mean_water[0])\n",
    "Sp_Def_matrix_water = np.array(df[df['Type 1'] == 'Water']['Sp. Def']-matrix_mean_water[1])\n",
    "combined_water = np.vstack((Defense_matrix_water, Sp_Def_matrix_water)).T\n",
    "\n",
    "\n",
    "for i in range(number_of_normal): \n",
    "    Classification(combined_water[i])\n",
    "\n",
    "print(a/number_of_Water)"
   ]
  },
  {
   "cell_type": "code",
   "execution_count": null,
   "metadata": {},
   "outputs": [],
   "source": []
  }
 ],
 "metadata": {
  "kernelspec": {
   "display_name": "Python 3",
   "language": "python",
   "name": "python3"
  },
  "language_info": {
   "codemirror_mode": {
    "name": "ipython",
    "version": 3
   },
   "file_extension": ".py",
   "mimetype": "text/x-python",
   "name": "python",
   "nbconvert_exporter": "python",
   "pygments_lexer": "ipython3",
   "version": "3.6.4"
  }
 },
 "nbformat": 4,
 "nbformat_minor": 2
}
