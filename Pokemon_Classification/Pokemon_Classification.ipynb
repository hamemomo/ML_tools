{
 "cells": [
  {
   "cell_type": "code",
   "execution_count": 139,
   "metadata": {},
   "outputs": [],
   "source": [
    "import numpy as np\n",
    "import pandas as pd\n",
    "import matplotlib as plt\n",
    "import math"
   ]
  },
  {
   "cell_type": "code",
   "execution_count": 140,
   "metadata": {},
   "outputs": [
    {
     "data": {
      "text/html": [
       "<div>\n",
       "<style scoped>\n",
       "    .dataframe tbody tr th:only-of-type {\n",
       "        vertical-align: middle;\n",
       "    }\n",
       "\n",
       "    .dataframe tbody tr th {\n",
       "        vertical-align: top;\n",
       "    }\n",
       "\n",
       "    .dataframe thead th {\n",
       "        text-align: right;\n",
       "    }\n",
       "</style>\n",
       "<table border=\"1\" class=\"dataframe\">\n",
       "  <thead>\n",
       "    <tr style=\"text-align: right;\">\n",
       "      <th></th>\n",
       "      <th>#</th>\n",
       "      <th>Name</th>\n",
       "      <th>Type 1</th>\n",
       "      <th>Type 2</th>\n",
       "      <th>Total</th>\n",
       "      <th>HP</th>\n",
       "      <th>Attack</th>\n",
       "      <th>Defense</th>\n",
       "      <th>Sp. Atk</th>\n",
       "      <th>Sp. Def</th>\n",
       "      <th>Speed</th>\n",
       "      <th>Generation</th>\n",
       "      <th>Legendary</th>\n",
       "    </tr>\n",
       "  </thead>\n",
       "  <tbody>\n",
       "    <tr>\n",
       "      <th>0</th>\n",
       "      <td>1</td>\n",
       "      <td>Bulbasaur</td>\n",
       "      <td>Grass</td>\n",
       "      <td>Poison</td>\n",
       "      <td>318</td>\n",
       "      <td>45</td>\n",
       "      <td>49</td>\n",
       "      <td>49</td>\n",
       "      <td>65</td>\n",
       "      <td>65</td>\n",
       "      <td>45</td>\n",
       "      <td>1</td>\n",
       "      <td>False</td>\n",
       "    </tr>\n",
       "  </tbody>\n",
       "</table>\n",
       "</div>"
      ],
      "text/plain": [
       "   #       Name Type 1  Type 2  Total  HP  Attack  Defense  Sp. Atk  Sp. Def  \\\n",
       "0  1  Bulbasaur  Grass  Poison    318  45      49       49       65       65   \n",
       "\n",
       "   Speed  Generation  Legendary  \n",
       "0     45           1      False  "
      ]
     },
     "execution_count": 140,
     "metadata": {},
     "output_type": "execute_result"
    }
   ],
   "source": [
    "df = pd.read_csv('./Pokemon.csv')\n",
    "df2 =  df.sort_values(\"Type 1\")\n",
    "df.head(1)"
   ]
  },
  {
   "cell_type": "code",
   "execution_count": 141,
   "metadata": {},
   "outputs": [],
   "source": [
    "df2.head()\n",
    "df2 = df[df['Type 1'] =='Water']\n",
    "df_water_train = df2.iloc[0:60]\n",
    "df_water_test = df2.iloc[60:112]\n"
   ]
  },
  {
   "cell_type": "code",
   "execution_count": 142,
   "metadata": {},
   "outputs": [],
   "source": [
    "df3 = df[df['Type 1'] =='Normal']\n",
    "df_Normal_train = df2.iloc[0:50]\n",
    "df_Normal_test = df2.iloc[50:98]"
   ]
  },
  {
   "cell_type": "code",
   "execution_count": 143,
   "metadata": {},
   "outputs": [],
   "source": [
    "test = pd.concat([df_water_test,df_Normal_test],axis=0)"
   ]
  },
  {
   "cell_type": "code",
   "execution_count": 144,
   "metadata": {},
   "outputs": [
    {
     "data": {
      "text/html": [
       "<div>\n",
       "<style scoped>\n",
       "    .dataframe tbody tr th:only-of-type {\n",
       "        vertical-align: middle;\n",
       "    }\n",
       "\n",
       "    .dataframe tbody tr th {\n",
       "        vertical-align: top;\n",
       "    }\n",
       "\n",
       "    .dataframe thead th {\n",
       "        text-align: right;\n",
       "    }\n",
       "</style>\n",
       "<table border=\"1\" class=\"dataframe\">\n",
       "  <thead>\n",
       "    <tr style=\"text-align: right;\">\n",
       "      <th></th>\n",
       "      <th>#</th>\n",
       "      <th>Name</th>\n",
       "      <th>Type 1</th>\n",
       "      <th>Type 2</th>\n",
       "      <th>Total</th>\n",
       "      <th>HP</th>\n",
       "      <th>Attack</th>\n",
       "      <th>Defense</th>\n",
       "      <th>Sp. Atk</th>\n",
       "      <th>Sp. Def</th>\n",
       "      <th>Speed</th>\n",
       "      <th>Generation</th>\n",
       "      <th>Legendary</th>\n",
       "    </tr>\n",
       "  </thead>\n",
       "  <tbody>\n",
       "    <tr>\n",
       "      <th>349</th>\n",
       "      <td>319</td>\n",
       "      <td>SharpedoMega Sharpedo</td>\n",
       "      <td>Water</td>\n",
       "      <td>Dark</td>\n",
       "      <td>560</td>\n",
       "      <td>70</td>\n",
       "      <td>140</td>\n",
       "      <td>70</td>\n",
       "      <td>110</td>\n",
       "      <td>65</td>\n",
       "      <td>105</td>\n",
       "      <td>3</td>\n",
       "      <td>False</td>\n",
       "    </tr>\n",
       "    <tr>\n",
       "      <th>350</th>\n",
       "      <td>320</td>\n",
       "      <td>Wailmer</td>\n",
       "      <td>Water</td>\n",
       "      <td>NaN</td>\n",
       "      <td>400</td>\n",
       "      <td>130</td>\n",
       "      <td>70</td>\n",
       "      <td>35</td>\n",
       "      <td>70</td>\n",
       "      <td>35</td>\n",
       "      <td>60</td>\n",
       "      <td>3</td>\n",
       "      <td>False</td>\n",
       "    </tr>\n",
       "    <tr>\n",
       "      <th>351</th>\n",
       "      <td>321</td>\n",
       "      <td>Wailord</td>\n",
       "      <td>Water</td>\n",
       "      <td>NaN</td>\n",
       "      <td>500</td>\n",
       "      <td>170</td>\n",
       "      <td>90</td>\n",
       "      <td>45</td>\n",
       "      <td>90</td>\n",
       "      <td>45</td>\n",
       "      <td>60</td>\n",
       "      <td>3</td>\n",
       "      <td>False</td>\n",
       "    </tr>\n",
       "    <tr>\n",
       "      <th>371</th>\n",
       "      <td>339</td>\n",
       "      <td>Barboach</td>\n",
       "      <td>Water</td>\n",
       "      <td>Ground</td>\n",
       "      <td>288</td>\n",
       "      <td>50</td>\n",
       "      <td>48</td>\n",
       "      <td>43</td>\n",
       "      <td>46</td>\n",
       "      <td>41</td>\n",
       "      <td>60</td>\n",
       "      <td>3</td>\n",
       "      <td>False</td>\n",
       "    </tr>\n",
       "    <tr>\n",
       "      <th>372</th>\n",
       "      <td>340</td>\n",
       "      <td>Whiscash</td>\n",
       "      <td>Water</td>\n",
       "      <td>Ground</td>\n",
       "      <td>468</td>\n",
       "      <td>110</td>\n",
       "      <td>78</td>\n",
       "      <td>73</td>\n",
       "      <td>76</td>\n",
       "      <td>71</td>\n",
       "      <td>60</td>\n",
       "      <td>3</td>\n",
       "      <td>False</td>\n",
       "    </tr>\n",
       "  </tbody>\n",
       "</table>\n",
       "</div>"
      ],
      "text/plain": [
       "       #                   Name Type 1  Type 2  Total   HP  Attack  Defense  \\\n",
       "349  319  SharpedoMega Sharpedo  Water    Dark    560   70     140       70   \n",
       "350  320                Wailmer  Water     NaN    400  130      70       35   \n",
       "351  321                Wailord  Water     NaN    500  170      90       45   \n",
       "371  339               Barboach  Water  Ground    288   50      48       43   \n",
       "372  340               Whiscash  Water  Ground    468  110      78       73   \n",
       "\n",
       "     Sp. Atk  Sp. Def  Speed  Generation  Legendary  \n",
       "349      110       65    105           3      False  \n",
       "350       70       35     60           3      False  \n",
       "351       90       45     60           3      False  \n",
       "371       46       41     60           3      False  \n",
       "372       76       71     60           3      False  "
      ]
     },
     "execution_count": 144,
     "metadata": {},
     "output_type": "execute_result"
    }
   ],
   "source": [
    "test.head()"
   ]
  },
  {
   "cell_type": "code",
   "execution_count": 145,
   "metadata": {
    "scrolled": true
   },
   "outputs": [
    {
     "name": "stdout",
     "output_type": "stream",
     "text": [
      "<class 'pandas.core.frame.DataFrame'>\n",
      "RangeIndex: 400 entries, 0 to 399\n",
      "Data columns (total 13 columns):\n",
      "#             400 non-null int64\n",
      "Name          400 non-null object\n",
      "Type 1        400 non-null object\n",
      "Type 2        199 non-null object\n",
      "Total         400 non-null int64\n",
      "HP            400 non-null int64\n",
      "Attack        400 non-null int64\n",
      "Defense       400 non-null int64\n",
      "Sp. Atk       400 non-null int64\n",
      "Sp. Def       400 non-null int64\n",
      "Speed         400 non-null int64\n",
      "Generation    400 non-null int64\n",
      "Legendary     400 non-null bool\n",
      "dtypes: bool(1), int64(9), object(3)\n",
      "memory usage: 38.0+ KB\n"
     ]
    }
   ],
   "source": [
    "df = df.iloc[0:400]\n",
    "df.info()"
   ]
  },
  {
   "cell_type": "markdown",
   "metadata": {},
   "source": [
    "Total_mean = df.loc[df['Type 1'] == 'Normal','Total'].mean()\n",
    "HP_mean = df.loc[df['Type 1'] == 'Normal','HP'].mean()\n",
    "Attack_mean = df.loc[df['Type 1'] == 'Normal','Attack'].mean()\n",
    "Defense_mean = df.loc[df['Type 1'] == 'Normal','Defense'].mean()\n",
    "Sp_Atk_mean = df.loc[df['Type 1'] == 'Normal','Sp. Atk'].mean()\n",
    "Sp_Def_mean = df.loc[df['Type 1'] == 'Normal','Sp. Def'].mean()\n",
    "Speed_mean = df.loc[df['Type 1'] == 'Normal','Speed'].mean()"
   ]
  },
  {
   "cell_type": "code",
   "execution_count": 146,
   "metadata": {},
   "outputs": [],
   "source": [
    "import matplotlib.pyplot as plt\n",
    "%matplotlib inline"
   ]
  },
  {
   "cell_type": "code",
   "execution_count": 147,
   "metadata": {},
   "outputs": [
    {
     "data": {
      "text/plain": [
       "[<matplotlib.lines.Line2D at 0x2a68603e710>,\n",
       " <matplotlib.lines.Line2D at 0x2a68603ebe0>]"
      ]
     },
     "execution_count": 147,
     "metadata": {},
     "output_type": "execute_result"
    },
    {
     "data": {
      "image/png": "[encoded data removed]",
      "text/plain": [
       "<matplotlib.figure.Figure at 0x2a686010208>"
      ]
     },
     "metadata": {},
     "output_type": "display_data"
    }
   ],
   "source": [
    "matrix_mean_water = [df.loc[df['Type 1'] == 'Water','Total'].mean(),\n",
    "                     df.loc[df['Type 1'] == 'Water','HP'].mean(),\n",
    "                     df.loc[df['Type 1'] == 'Water','Attack'].mean(),\n",
    "                     df.loc[df['Type 1'] == 'Water','Defense'].mean(),\n",
    "                     df.loc[df['Type 1'] == 'Water','Sp. Atk'].mean(),\n",
    "                     df.loc[df['Type 1'] == 'Water','Sp. Def'].mean(),\n",
    "                     df.loc[df['Type 1'] == 'Water','Speed'].mean()]\n",
    "\n",
    "\n",
    "matrix_mean_normal = [df.loc[df['Type 1'] == 'Normal','Total'].mean(),\n",
    "                      df.loc[df['Type 1'] == 'Normal','HP'].mean(),\n",
    "                      df.loc[df['Type 1'] == 'Normal','Attack'].mean(),\n",
    "                      df.loc[df['Type 1'] == 'Normal','Defense'].mean(),\n",
    "                      df.loc[df['Type 1'] == 'Normal','Sp. Atk'].mean(),\n",
    "                      df.loc[df['Type 1'] == 'Normal','Sp. Def'].mean(),\n",
    "                      df.loc[df['Type 1'] == 'Normal','Speed'].mean(),]\n",
    "\n",
    "\n",
    "\n",
    "\n",
    "\n",
    "plt.plot(df[df['Type 1'] == 'Normal']['Defense'],df[df['Type 1'] == 'Normal']['Sp. Def'],'r.',\n",
    "         df[df['Type 1'] == 'Water']['Defense'],df[df['Type 1'] == 'Water']['Sp. Def'],'b.',\n",
    "       )\n",
    "\n",
    "#plt.plot(matrix_mean_water[0],matrix_mean_water[1],'bd',matrix_mean_normal[0],matrix_mean_normal[1],'rd',markersize=19,)"
   ]
  },
  {
   "cell_type": "code",
   "execution_count": 148,
   "metadata": {},
   "outputs": [
    {
     "name": "stdout",
     "output_type": "stream",
     "text": [
      "water mean [420.4347826086956, 71.26086956521739, 73.65217391304348, 73.31884057971014, 69.57971014492753, 69.08695652173913, 63.53623188405797]\n",
      "Normal mean [387.0175438596491, 78.29824561403508, 68.42105263157895, 56.12280701754386, 55.40350877192982, 61.05263157894737, 67.71929824561404]\n"
     ]
    }
   ],
   "source": [
    "print('water mean',matrix_mean_water)\n",
    "print('Normal mean',matrix_mean_normal)"
   ]
  },
  {
   "cell_type": "code",
   "execution_count": 149,
   "metadata": {},
   "outputs": [
    {
     "name": "stdout",
     "output_type": "stream",
     "text": [
      "0.5454545454545454\n",
      "0.45454545454545453\n"
     ]
    }
   ],
   "source": [
    "#df[df['Type 1'] == 'Water']['Defense'].count\n",
    "number_of_Water = 60\n",
    "number_of_normal = 50\n",
    "number_of_total = number_of_Water + number_of_normal\n",
    "P_c1 = number_of_Water/number_of_total\n",
    "P_c2 = number_of_normal/number_of_total\n",
    "print(P_c1)\n",
    "print(P_c2)"
   ]
  },
  {
   "cell_type": "code",
   "execution_count": 150,
   "metadata": {},
   "outputs": [
    {
     "name": "stdout",
     "output_type": "stream",
     "text": [
      "<class 'pandas.core.frame.DataFrame'>\n",
      "Int64Index: 60 entries, 9 to 348\n",
      "Data columns (total 13 columns):\n",
      "#             60 non-null int64\n",
      "Name          60 non-null object\n",
      "Type 1        60 non-null object\n",
      "Type 2        33 non-null object\n",
      "Total         60 non-null int64\n",
      "HP            60 non-null int64\n",
      "Attack        60 non-null int64\n",
      "Defense       60 non-null int64\n",
      "Sp. Atk       60 non-null int64\n",
      "Sp. Def       60 non-null int64\n",
      "Speed         60 non-null int64\n",
      "Generation    60 non-null int64\n",
      "Legendary     60 non-null bool\n",
      "dtypes: bool(1), int64(9), object(3)\n",
      "memory usage: 6.2+ KB\n"
     ]
    }
   ],
   "source": [
    "df_water_train.info()"
   ]
  },
  {
   "cell_type": "code",
   "execution_count": 151,
   "metadata": {},
   "outputs": [],
   "source": [
    "Total_matrix_water =   np.array(df_water_train['Total']-matrix_mean_water[0])\n",
    "HP_matrix_water =      np.array(df_water_train['HP']-matrix_mean_water[1])\n",
    "Attack_matrix_water =  np.array(df_water_train['Attack']-matrix_mean_water[2])\n",
    "Defense_matrix_water = np.array(df_water_train['Defense']-matrix_mean_water[3])\n",
    "SpAtk_matrix_water =   np.array(df_water_train['Sp. Atk']-matrix_mean_water[4])\n",
    "SpDef_matrix_water =   np.array(df_water_train['Sp. Def']-matrix_mean_water[5])\n",
    "Speed_matrix_water =   np.array(df_water_train['Speed']-matrix_mean_water[6])\n",
    "\n",
    "combined_water = np.vstack((Total_matrix_water, HP_matrix_water,Attack_matrix_water,\n",
    "                            Defense_matrix_water,SpAtk_matrix_water,SpDef_matrix_water,Speed_matrix_water)).T\n",
    "#SpDef_matrix_water\n",
    "#Total_matrix_water"
   ]
  },
  {
   "cell_type": "markdown",
   "metadata": {},
   "source": [
    "# P(x|C1) Water Trainning model"
   ]
  },
  {
   "cell_type": "code",
   "execution_count": 152,
   "metadata": {},
   "outputs": [],
   "source": [
    "Total_matrix_water =   np.array(df_water_train['Total']-matrix_mean_normal[0])\n",
    "HP_matrix_water =      np.array(df_water_train['HP']-matrix_mean_normal[1])\n",
    "Attack_matrix_water =  np.array(df_water_train['Attack']-matrix_mean_normal[2])\n",
    "Defense_matrix_water = np.array(df_water_train['Defense']-matrix_mean_normal[3])\n",
    "SpAtk_matrix_water =   np.array(df_water_train['Sp. Atk']-matrix_mean_normal[4])\n",
    "SpDef_matrix_water =   np.array(df_water_train['Sp. Def']-matrix_mean_normal[5])\n",
    "Speed_matrix_water =   np.array(df_water_train['Speed']-matrix_mean_normal[6])\n",
    "\n",
    "combined_water = np.vstack((Total_matrix_water, HP_matrix_water,Attack_matrix_water,\n",
    "                            Defense_matrix_water,SpAtk_matrix_water,SpDef_matrix_water,Speed_matrix_water)).T\n",
    "\n",
    "\n",
    "#x_matrix_water = np.mat(combined_water[0])\n",
    "#np.dot(x_matrix_water.T,x_matrix_water)\n",
    "x_matrix_total_water = np.zeros([7, 7]) \n",
    "for i in range(number_of_Water): \n",
    "    \n",
    "    x_matrix_water = np.mat(combined_water[i])\n",
    "    x_matrix_total_water = x_matrix_total_water + np.dot(x_matrix_water.T,x_matrix_water)\n",
    "x_matrix_total_water = x_matrix_total_water/number_of_Water\n",
    "x_matrix_total_water\n",
    "inverse_water = np.linalg.inv(x_matrix_total_water)\n"
   ]
  },
  {
   "cell_type": "markdown",
   "metadata": {},
   "source": [
    "# P(x|C2) Normal Trainning model"
   ]
  },
  {
   "cell_type": "code",
   "execution_count": 153,
   "metadata": {},
   "outputs": [],
   "source": [
    "Total_matrix_normal =   np.array(df_Normal_train['Total']-matrix_mean_normal[0])\n",
    "HP_matrix_normal =      np.array(df_Normal_train['HP']-matrix_mean_normal[1])\n",
    "Attack_matrix_normal =  np.array(df_Normal_train['Attack']-matrix_mean_normal[2])\n",
    "Defense_matrix_normal = np.array(df_Normal_train['Defense']-matrix_mean_normal[3])\n",
    "SpAtk_matrix_normal =   np.array(df_Normal_train['Sp. Atk']-matrix_mean_normal[4])\n",
    "SpDef_matrix_normal =   np.array(df_Normal_train['Sp. Def']-matrix_mean_normal[5])\n",
    "Speed_matrix_normal =   np.array(df_Normal_train['Speed']-matrix_mean_normal[6])\n",
    "\n",
    "combined_normal = np.vstack((Total_matrix_normal, HP_matrix_normal,Attack_matrix_normal,\n",
    "                            Defense_matrix_normal,SpAtk_matrix_normal,SpDef_matrix_normal,Speed_matrix_normal)).T\n",
    "\n",
    "#x_matrix_normal = np.mat(combined_normal[0])\n",
    "#np.dot(x_matrix.T,x_matrix)\n",
    "x_matrix_total_normal = np.zeros([7, 7]) \n",
    "for i in range(number_of_normal): \n",
    "    \n",
    "    x_matrix_normal = np.mat(combined_normal[i])\n",
    "    x_matrix_total_normal = x_matrix_total_normal + np.dot(x_matrix_normal.T,x_matrix_normal)\n",
    "x_matrix_total_normal = x_matrix_total_normal/number_of_normal\n",
    "x_matrix_total_normal\n",
    "inverse_normal = np.linalg.inv(x_matrix_total_normal)\n"
   ]
  },
  {
   "cell_type": "code",
   "execution_count": 154,
   "metadata": {},
   "outputs": [],
   "source": [
    "inverse = ((5/11)*(inverse_normal)) + ((6/11)*(inverse_water))"
   ]
  },
  {
   "cell_type": "markdown",
   "metadata": {},
   "source": [
    "# Classification"
   ]
  },
  {
   "cell_type": "code",
   "execution_count": 155,
   "metadata": {},
   "outputs": [
    {
     "ename": "SyntaxError",
     "evalue": "invalid syntax (<ipython-input-155-88e732beff43>, line 15)",
     "output_type": "error",
     "traceback": [
      "\u001b[1;36m  File \u001b[1;32m\"<ipython-input-155-88e732beff43>\"\u001b[1;36m, line \u001b[1;32m15\u001b[0m\n\u001b[1;33m    probability_c1_x = P_x_C1*P_c1/((P_x_C2*P_c2)+(P_x_C1*P_c1))\u001b[0m\n\u001b[1;37m                   ^\u001b[0m\n\u001b[1;31mSyntaxError\u001b[0m\u001b[1;31m:\u001b[0m invalid syntax\n"
     ]
    }
   ],
   "source": [
    "def Classification(x,result,index) : \n",
    "    \n",
    "    \n",
    "    x = np.mat(x)\n",
    "    matrix_water = np.dot(np.dot((x-matrix_mean_water),inverse),(x-matrix_mean_water).T)\n",
    "    e_c1 = math.exp(-0.5*matrix_water)\n",
    "    absdet_c1 = math.sqrt(abs(np.linalg.det(x_matrix_total_water)))\n",
    "    pi = (math.pi)**(7/2)\n",
    "    P_x_C1 = e_c1/(absdet_c1*pi)\n",
    "    \n",
    "    matrix_normal = np.dot(np.dot((x-matrix_mean_normal),inverse),(x-matrix_mean_normal).T)\n",
    "    e_c2= (math.exp(-0.5*matrix_normal))/\\\n",
    "    absdet_c2(math.sqrt(abs(np.linalg.det(x_matrix_total_normal)))*\n",
    "    P_x_C2 = e_c2/(absdet_c2*pi)\n",
    "              \n",
    "    probability_c1_x = P_x_C1*P_c1/((P_x_C2*P_c2)+(P_x_C1*P_c1))\n",
    "    probability_c2_x = P_x_C2*P_c2/((P_x_C2*P_c2)+(P_x_C1*P_c1))\n",
    "    '''\n",
    "    print('matrix_water : ', matrix_water)\n",
    "    print('matrix_normal : ', matrix_normal)\n",
    "    '''\n",
    "    print('P_x_C1 : ', probability_c1_x)\n",
    "    print('P_x_C2 : ', probability_c2_x)   \n",
    "    \n",
    "    \n",
    "    if probability_c1_x > probability_c2_x :\n",
    "        result.append('Water')\n",
    "        print('water class probability : ',probability_c1_x)\n",
    "    else:\n",
    "        result.append('Normal')\n",
    "        print('Normal class probability: ',probability_c2_x)\n",
    "    \n",
    "    return result"
   ]
  },
  {
   "cell_type": "code",
   "execution_count": null,
   "metadata": {},
   "outputs": [],
   "source": [
    "df_water_train['pre']='NaN'"
   ]
  },
  {
   "cell_type": "code",
   "execution_count": null,
   "metadata": {},
   "outputs": [],
   "source": [
    "#x_test = [73.31884057971014,69.08695652173913]\n",
    "Total_matrix_water_test =   np.array(df_water_train['Total'])\n",
    "HP_matrix_water_test =      np.array(df_water_train['HP'])\n",
    "Attack_matrix_water_test =  np.array(df_water_train['Attack'])\n",
    "Defense_matrix_water_test = np.array(df_water_train['Defense'])\n",
    "SpAtk_matrix_water_test =   np.array(df_water_train['Sp. Atk'])\n",
    "SpDef_matrix_water_test =   np.array(df_water_train['Sp. Def'])\n",
    "Speed_matrix_water_test =   np.array(df_water_train['Speed'])\n",
    "\n",
    "combined_water_test = np.vstack((Total_matrix_water_test, HP_matrix_water_test,Attack_matrix_water_test,\n",
    "                            Defense_matrix_water_test,SpAtk_matrix_water_test,SpDef_matrix_water_test,Speed_matrix_water_test)).T\n",
    "\n",
    "result = []\n",
    "\n",
    "for i in range(60): \n",
    "    #result.append(Classification(combined_water[i],df_water_test,i))\n",
    "    re = Classification(combined_water_test[i],result,i)\n",
    "#print(result)\n",
    "#print(result[0])\n",
    "#dff.iloc[:][13] = range(52)\n",
    "#print(result/number_of_Water)"
   ]
  },
  {
   "cell_type": "code",
   "execution_count": null,
   "metadata": {},
   "outputs": [],
   "source": [
    "combined_water_test[0]"
   ]
  },
  {
   "cell_type": "code",
   "execution_count": null,
   "metadata": {},
   "outputs": [],
   "source": [
    "df_water_train['pre'] = re"
   ]
  },
  {
   "cell_type": "code",
   "execution_count": null,
   "metadata": {},
   "outputs": [],
   "source": [
    "df_water_train.head(100)"
   ]
  },
  {
   "cell_type": "code",
   "execution_count": null,
   "metadata": {},
   "outputs": [],
   "source": [
    "(df_water_train['Type 1'] == df_water_train['pre']).sum()"
   ]
  },
  {
   "cell_type": "code",
   "execution_count": null,
   "metadata": {},
   "outputs": [],
   "source": [
    "def Classification_count(x) : \n",
    "    \n",
    "    \n",
    "    x = np.mat(x)\n",
    "    matrix_water = np.dot(np.dot((x-matrix_mean_water),inverse_water),(x-matrix_mean_water).T)\n",
    "    P_x_C1 = math.exp(-0.5*matrix_water)/((np.linalg.det(x_matrix_total_water)**0.5)*(math.pi))\n",
    "    matrix_normal = np.dot(np.dot((x-matrix_mean_normal),inverse_normal),(x-matrix_mean_normal).T)\n",
    "    P_x_C2 = math.exp(-0.5*matrix_normal)/(((np.linalg.det(x_matrix_total_normal))**0.5)*(math.pi))\n",
    "    \n",
    "    probability_c1_x = P_x_C1*P_c1/((P_x_C2*P_c2)+(P_x_C1*P_c1))\n",
    "    probability_c2_x = P_x_C2*P_c2/((P_x_C2*P_c2)+(P_x_C1*P_c1))\n",
    "    \n",
    "    return probability_c1_x , probability_c2_x"
   ]
  },
  {
   "cell_type": "code",
   "execution_count": null,
   "metadata": {},
   "outputs": [],
   "source": []
  },
  {
   "cell_type": "code",
   "execution_count": null,
   "metadata": {},
   "outputs": [],
   "source": [
    "#計算x,y座標對應的高度值 \n",
    "Z = np.zeros([256, 256])\n",
    "# 生成x,y的資料 \n",
    "n = 256 \n",
    "x = np.linspace(0, 175, n) \n",
    "y = np.linspace(0, 140, n) \n",
    "# 把x,y資料生成mesh網格狀的資料，因為等高線的顯示是在網格的基礎上新增上高度值 \n",
    "X, Y = np.meshgrid(x, y) \n",
    "for j in range(n):\n",
    "    for i in range(n):\n",
    "        Z[i][j] = Classification_count([X[i][j],Y[i][j]])[0]\n",
    "    \n",
    "# 填充等高線 \n",
    "plt.contourf(X, Y, Z) \n",
    "\n"
   ]
  },
  {
   "cell_type": "code",
   "execution_count": null,
   "metadata": {},
   "outputs": [],
   "source": [
    "#計算x,y座標對應的高度值 \n",
    "Z = np.zeros([256, 256])\n",
    "# 生成x,y的資料 \n",
    "n = 256 \n",
    "x = np.linspace(0, 195, n) \n",
    "y = np.linspace(0, 140, n) \n",
    "# 把x,y資料生成mesh網格狀的資料，因為等高線的顯示是在網格的基礎上新增上高度值 \n",
    "X, Y = np.meshgrid(x, y) \n",
    "for j in range(n):\n",
    "    for i in range(n):\n",
    "        Z[i][j] = Classification_count([X[i][j],Y[i][j]])[1]\n",
    "    \n"
   ]
  },
  {
   "cell_type": "code",
   "execution_count": null,
   "metadata": {},
   "outputs": [],
   "source": [
    "plt.contour(X, Y, Z,20) \n",
    "matrix_mean_water = [df.loc[df['Type 1'] == 'Water','Defense'].mean(),df.loc[df['Type 1'] == 'Water','Sp. Def'].mean()]\n",
    "matrix_mean_normal= [df.loc[df['Type 1'] == 'Normal','Defense'].mean(),df.loc[df['Type 1'] == 'Normal','Sp. Def'].mean()]\n",
    "\n",
    "plt.plot(df[df['Type 1'] == 'Normal']['Defense'],df[df['Type 1'] == 'Normal']['Sp. Def'],'r.',\n",
    "         df[df['Type 1'] == 'Water']['Defense'],df[df['Type 1'] == 'Water']['Sp. Def'],'b.',\n",
    "       )\n",
    "\n",
    "plt.plot(matrix_mean_water[0],matrix_mean_water[1],'bd',\n",
    "         matrix_mean_normal[0],matrix_mean_normal[1],'rd',markersize=19,\n",
    "        )"
   ]
  },
  {
   "cell_type": "code",
   "execution_count": null,
   "metadata": {},
   "outputs": [],
   "source": []
  }
 ],
 "metadata": {
  "kernelspec": {
   "display_name": "Python 3",
   "language": "python",
   "name": "python3"
  },
  "language_info": {
   "codemirror_mode": {
    "name": "ipython",
    "version": 3
   },
   "file_extension": ".py",
   "mimetype": "text/x-python",
   "name": "python",
   "nbconvert_exporter": "python",
   "pygments_lexer": "ipython3",
   "version": "3.6.4"
  }
 },
 "nbformat": 4,
 "nbformat_minor": 2
}
