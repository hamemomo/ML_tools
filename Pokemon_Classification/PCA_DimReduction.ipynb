{
 "cells": [
  {
   "cell_type": "code",
   "execution_count": 54,
   "metadata": {},
   "outputs": [],
   "source": [
    "import numpy as np\n",
    "import pandas as pd\n",
    "import matplotlib.pyplot as plt\n",
    "%matplotlib inline\n",
    "import math"
   ]
  },
  {
   "cell_type": "code",
   "execution_count": 104,
   "metadata": {},
   "outputs": [
    {
     "name": "stdout",
     "output_type": "stream",
     "text": [
      "<class 'pandas.core.frame.DataFrame'>\n",
      "RangeIndex: 800 entries, 0 to 799\n",
      "Data columns (total 13 columns):\n",
      "#             800 non-null int64\n",
      "Name          800 non-null object\n",
      "Type 1        800 non-null object\n",
      "Type 2        414 non-null object\n",
      "Total         800 non-null int64\n",
      "HP            800 non-null int64\n",
      "Attack        800 non-null int64\n",
      "Defense       800 non-null int64\n",
      "Sp. Atk       800 non-null int64\n",
      "Sp. Def       800 non-null int64\n",
      "Speed         800 non-null int64\n",
      "Generation    800 non-null int64\n",
      "Legendary     800 non-null bool\n",
      "dtypes: bool(1), int64(9), object(3)\n",
      "memory usage: 75.9+ KB\n"
     ]
    }
   ],
   "source": [
    "df = pd.read_csv('./Pokemon.csv')\n",
    "df2 =  df.sort_values(\"Type 1\")\n",
    "df.info()"
   ]
  },
  {
   "cell_type": "code",
   "execution_count": 56,
   "metadata": {},
   "outputs": [],
   "source": [
    "number_of_Water = 50\n",
    "number_of_normal = 50\n",
    "\n",
    "total_train = number_of_Water + number_of_normal\n",
    "mask_water = df['Type 1'] =='Water'\n",
    "mask_normal= df['Type 1'] =='Normal'\n",
    "\n",
    "total = df[mask_water | mask_normal]\n"
   ]
  },
  {
   "cell_type": "code",
   "execution_count": 57,
   "metadata": {},
   "outputs": [],
   "source": [
    "matrix_mean = [total['HP'].mean(),\n",
    "               total['Attack'].mean(),\n",
    "               total['Defense'].mean(),\n",
    "               total['Sp. Atk'].mean(),\n",
    "               total['Sp. Def'].mean(),\n",
    "               total['Speed'].mean()]"
   ]
  },
  {
   "cell_type": "code",
   "execution_count": 97,
   "metadata": {},
   "outputs": [],
   "source": [
    "HP_matrix =      np.array(total['HP'])\n",
    "Attack_matrix =  np.array(total['Attack'])\n",
    "Defense_matrix = np.array(total['Defense'])\n",
    "SpAtk_matrix =   np.array(total['Sp. Atk'])\n",
    "SpDef_matrix =   np.array(total['Sp. Def'])\n",
    "Speed_matrix =   np.array(total['Speed'])\n",
    "\n",
    "sum = np.zeros([6,6])\n",
    "\n",
    "\n",
    "\n",
    "total_data = np.vstack((HP_matrix,\n",
    "                        Attack_matrix,\n",
    "                        Defense_matrix,\n",
    "                        SpAtk_matrix,\n",
    "                        SpDef_matrix,\n",
    "                        Speed_matrix)).T\n"
   ]
  },
  {
   "cell_type": "code",
   "execution_count": 98,
   "metadata": {},
   "outputs": [],
   "source": [
    "w,h = np.linalg.eig(np.cov(total_data.T))"
   ]
  },
  {
   "cell_type": "code",
   "execution_count": 99,
   "metadata": {},
   "outputs": [
    {
     "data": {
      "text/plain": [
       "array([2281.24051217,  961.75273197,  563.09229294,  478.58489653,\n",
       "        203.00639172,  301.16673812])"
      ]
     },
     "execution_count": 99,
     "metadata": {},
     "output_type": "execute_result"
    }
   ],
   "source": [
    "w"
   ]
  },
  {
   "cell_type": "code",
   "execution_count": 100,
   "metadata": {},
   "outputs": [
    {
     "data": {
      "text/plain": [
       "array([[-0.39537644, -0.74652147, -0.33046285, -0.31370776, -0.27680707,\n",
       "         0.04629006],\n",
       "       [-0.45571409,  0.38245439, -0.15008681, -0.59702372,  0.49823057,\n",
       "         0.13731801],\n",
       "       [-0.40340947,  0.27623874,  0.50678577, -0.21155115, -0.58986861,\n",
       "        -0.33379975],\n",
       "       [-0.47915373,  0.04010765,  0.1949865 ,  0.4597324 , -0.05742882,\n",
       "         0.71842285],\n",
       "       [-0.44034356, -0.22876458,  0.15148774,  0.4287557 ,  0.4859149 ,\n",
       "        -0.5575581 ],\n",
       "       [-0.22309683,  0.4076575 , -0.74193542,  0.3243623 , -0.29629007,\n",
       "        -0.20143558]])"
      ]
     },
     "execution_count": 100,
     "metadata": {},
     "output_type": "execute_result"
    }
   ],
   "source": [
    "h"
   ]
  },
  {
   "cell_type": "code",
   "execution_count": 101,
   "metadata": {},
   "outputs": [],
   "source": [
    "import matplotlib.pyplot as plt\n",
    "%matplotlib inline"
   ]
  },
  {
   "cell_type": "code",
   "execution_count": 109,
   "metadata": {},
   "outputs": [
    {
     "data": {
      "text/plain": [
       "[<matplotlib.lines.Line2D at 0x1cc8d672400>]"
      ]
     },
     "execution_count": 109,
     "metadata": {},
     "output_type": "execute_result"
    },
    {
     "data": {
      "image/png": "[encoded data removed]",
      "text/plain": [
       "<matplotlib.figure.Figure at 0x1cc8d6221d0>"
      ]
     },
     "metadata": {},
     "output_type": "display_data"
    }
   ],
   "source": [
    "w1 = h[5]\n",
    "w2 = h[0]\n",
    "w1 =  np.array(w1).reshape(6,1).T\n",
    "w2 =  np.array(w2).reshape(6,1).T\n",
    "w1_plot = []\n",
    "w2_plot = []\n",
    "\n",
    "for y in total_data:\n",
    "\n",
    "    w1_plot.append(np.dot(w1,y))\n",
    "    w2_plot.append(np.dot(w2,y))\n",
    "plt.plot(w1_plot,w2_plot,'r.')"
   ]
  },
  {
   "cell_type": "code",
   "execution_count": 67,
   "metadata": {},
   "outputs": [],
   "source": [
    "import matplotlib.pyplot as plt\n",
    "\n",
    "from sklearn import decomposition\n",
    "from numpy.random import RandomState\n",
    "from keras.datasets import mnist\n",
    "from keras.utils import np_utils\n",
    "n_components = 6"
   ]
  },
  {
   "cell_type": "code",
   "execution_count": 68,
   "metadata": {},
   "outputs": [],
   "source": [
    "estimators = [\n",
    "    ('Eigenfaces - PCA using randomized SVD',\n",
    "         decomposition.PCA(n_components=6,whiten=True)),\n",
    "\n",
    "    ('Non-negative components - NMF',\n",
    "         decomposition.NMF(n_components=6, init='nndsvda', tol=5e-3))\n",
    "]"
   ]
  },
  {
   "cell_type": "code",
   "execution_count": 82,
   "metadata": {},
   "outputs": [
    {
     "name": "stdout",
     "output_type": "stream",
     "text": [
      "Extracting the top 6 Eigenfaces - PCA using randomized SVD...\n",
      "(210, 6)\n",
      "[[ 0.39537644  0.45571409  0.40340947  0.47915373  0.44034356  0.22309683]\n",
      " [ 0.74652147 -0.38245439 -0.27623874 -0.04010765  0.22876458 -0.4076575 ]\n",
      " [-0.33046285 -0.15008681  0.50678577  0.1949865   0.15148774 -0.74193542]\n",
      " [-0.31370776 -0.59702372 -0.21155115  0.4597324   0.4287557   0.3243623 ]\n",
      " [ 0.04629006  0.13731801 -0.33379975  0.71842285 -0.5575581  -0.20143558]\n",
      " [ 0.27680707 -0.49823057  0.58986861  0.05742882 -0.4859149   0.29629007]]\n",
      "Extracting the top 6 Non-negative components - NMF...\n",
      "(210, 6)\n",
      "[[ 13.31024637  51.81209478  16.4983078    0.          63.21738593\n",
      "    0.        ]\n",
      " [  0.         203.08486838 104.69055665  63.06375047   0.\n",
      "  226.26858916]\n",
      " [132.88927672 289.48350649 147.09853848  20.23670453   0.\n",
      "    0.        ]\n",
      " [ 52.95073537  37.95690659  46.66532515  90.02407348  25.91632049\n",
      "   32.57531819]\n",
      " [ 37.74172169  63.07868152  42.42712273  37.57256965  73.97775992\n",
      "   53.62652131]\n",
      " [ 73.77986289  56.97479434  60.92798268  65.94428678  56.71207854\n",
      "   61.58303   ]]\n"
     ]
    }
   ],
   "source": [
    "for name, estimator in estimators:\n",
    "    print(\"Extracting the top %d %s...\" % (n_components, name))\n",
    "    print(total_data.shape)\n",
    "    estimator.fit(total_data)\n",
    "    components_ = estimator.components_\n",
    "    print(components_)"
   ]
  },
  {
   "cell_type": "code",
   "execution_count": 78,
   "metadata": {},
   "outputs": [
    {
     "data": {
      "text/plain": [
       "array([[ 13.31024637,  51.81209478,  16.4983078 ,   0.        ,\n",
       "         63.21738593,   0.        ],\n",
       "       [  0.        , 203.08486838, 104.69055665,  63.06375047,\n",
       "          0.        , 226.26858916],\n",
       "       [132.88927672, 289.48350649, 147.09853848,  20.23670453,\n",
       "          0.        ,   0.        ],\n",
       "       [ 52.95073537,  37.95690659,  46.66532515,  90.02407348,\n",
       "         25.91632049,  32.57531819],\n",
       "       [ 37.74172169,  63.07868152,  42.42712273,  37.57256965,\n",
       "         73.97775992,  53.62652131],\n",
       "       [ 73.77986289,  56.97479434,  60.92798268,  65.94428678,\n",
       "         56.71207854,  61.58303   ]])"
      ]
     },
     "execution_count": 78,
     "metadata": {},
     "output_type": "execute_result"
    }
   ],
   "source": [
    "components_"
   ]
  },
  {
   "cell_type": "code",
   "execution_count": 119,
   "metadata": {},
   "outputs": [],
   "source": [
    "w,h = np.linalg.eig(np.cov(total_data.T))"
   ]
  },
  {
   "cell_type": "code",
   "execution_count": 122,
   "metadata": {},
   "outputs": [
    {
     "data": {
      "text/plain": [
       "array([[-0.39537644, -0.74652147, -0.33046285, -0.31370776, -0.27680707,\n",
       "         0.04629006],\n",
       "       [-0.45571409,  0.38245439, -0.15008681, -0.59702372,  0.49823057,\n",
       "         0.13731801],\n",
       "       [-0.40340947,  0.27623874,  0.50678577, -0.21155115, -0.58986861,\n",
       "        -0.33379975],\n",
       "       [-0.47915373,  0.04010765,  0.1949865 ,  0.4597324 , -0.05742882,\n",
       "         0.71842285],\n",
       "       [-0.44034356, -0.22876458,  0.15148774,  0.4287557 ,  0.4859149 ,\n",
       "        -0.5575581 ],\n",
       "       [-0.22309683,  0.4076575 , -0.74193542,  0.3243623 , -0.29629007,\n",
       "        -0.20143558]])"
      ]
     },
     "execution_count": 122,
     "metadata": {},
     "output_type": "execute_result"
    }
   ],
   "source": [
    "h"
   ]
  },
  {
   "cell_type": "code",
   "execution_count": 123,
   "metadata": {},
   "outputs": [],
   "source": [
    "h1 =h[0].reshape(6,1).astype('float32')"
   ]
  },
  {
   "cell_type": "code",
   "execution_count": 127,
   "metadata": {},
   "outputs": [],
   "source": [
    "d = (x-matrix_mean).reshape(6,1).astype('float32')"
   ]
  },
  {
   "cell_type": "code",
   "execution_count": 124,
   "metadata": {},
   "outputs": [
    {
     "data": {
      "text/plain": [
       "array([[-0.39537644],\n",
       "       [-0.7465215 ],\n",
       "       [-0.33046284],\n",
       "       [-0.31370777],\n",
       "       [-0.27680707],\n",
       "       [ 0.04629006]], dtype=float32)"
      ]
     },
     "execution_count": 124,
     "metadata": {},
     "output_type": "execute_result"
    }
   ],
   "source": [
    "h1"
   ]
  },
  {
   "cell_type": "code",
   "execution_count": 125,
   "metadata": {},
   "outputs": [
    {
     "name": "stdout",
     "output_type": "stream",
     "text": [
      "8.633999893795853\n",
      "6.359905822609683\n",
      "5.154625819735475\n",
      "-15.066902816091018\n",
      "9.35346671294604\n",
      "2.935429385800421\n",
      "0.6121766328396157\n",
      "-31.216133273804598\n",
      "27.035365300788513\n",
      "27.39712993678282\n",
      "18.908775449766765\n",
      "14.892262539613768\n",
      "-37.71934476203997\n",
      "-51.295241622970636\n",
      "14.27874737282027\n",
      "9.658206303249065\n",
      "-4.301758919024554\n",
      "-9.846408202510002\n",
      "15.440585280271824\n",
      "5.044447261979592\n",
      "5.865010793195316\n",
      "33.54371224408548\n",
      "18.4596163982809\n",
      "-15.659324161451506\n",
      "-34.6996873493673\n",
      "-63.11647570270726\n",
      "9.552635269046435\n",
      "28.78882098136848\n",
      "24.168279911797274\n",
      "5.666647068202796\n",
      "1.0461059986315915\n",
      "-0.5951443049680307\n",
      "-20.039536181948613\n",
      "29.51755399626343\n",
      "24.897012926692227\n",
      "-13.4273704614878\n",
      "-62.339396716195765\n",
      "16.95536775574371\n",
      "24.82458043588964\n",
      "-17.833132567388223\n",
      "-24.944826489742184\n",
      "20.921841329609382\n",
      "11.50556967373262\n",
      "4.710308933677705\n",
      "-0.8343403498077429\n",
      "28.05181462319419\n",
      "10.593190600450605\n",
      "29.924502128706862\n",
      "45.872209495873065\n",
      "-21.774177434950754\n",
      "3.2715676995364187\n",
      "13.680793154905995\n",
      "-40.66053199900799\n",
      "-12.924225184966442\n",
      "-8.338545388859881\n",
      "8.16198005087762\n",
      "5.239568598126029\n",
      "3.4554077049649754\n",
      "12.9538697357346\n",
      "5.763522126874818\n",
      "5.045147422685707\n",
      "-9.741430123826747\n",
      "-9.53769142441805\n",
      "-29.651907055728177\n",
      "-31.50549875961032\n",
      "-1.1484575944892068\n",
      "-15.409704277606615\n",
      "-5.740509519524666\n",
      "20.789528186992158\n",
      "-2.874785559608865\n",
      "-13.014011476315112\n",
      "-15.250165902404603\n",
      "-8.591387548867864\n",
      "-17.404915524350418\n",
      "13.8366551311812\n",
      "8.44523522949642\n",
      "9.734303441331807\n",
      "3.705531586854905\n",
      "3.3567095560584637\n",
      "-12.27523677143242\n",
      "18.916332956434047\n",
      "2.326052099553621\n",
      "-16.620658040623407\n",
      "-0.7863348882597743\n",
      "10.253533362428094\n",
      "8.414396846918436\n",
      "-71.70357084603495\n",
      "-6.76789410424065\n",
      "9.17783216125821\n",
      "8.16618443464882\n",
      "-2.5334160150818263\n",
      "15.13057778429557\n",
      "10.901766247337745\n",
      "8.486499733549515\n",
      "6.035590629765455\n",
      "2.3391577741084895\n",
      "-2.3452065702226044\n",
      "19.155066790182502\n",
      "20.528669954820963\n",
      "-5.3318860078961645\n",
      "-18.03100560788998\n",
      "-0.5960036002609073\n",
      "1.2002839548667623\n",
      "-20.6305498313483\n",
      "-16.11351984612801\n",
      "-19.80995270178498\n",
      "-18.52407985187643\n",
      "1.7380263181489113\n",
      "3.2219837395303674\n",
      "-0.47444911612659846\n",
      "3.138772118569218\n",
      "-3.6087443320162165\n",
      "4.41132776295175\n",
      "-41.69556526907286\n",
      "-60.73407763910617\n",
      "1.0537079861422396\n",
      "18.28108426542041\n",
      "20.28395676790605\n",
      "2.464823151417516\n",
      "-20.87078901041725\n",
      "5.78102391114814\n",
      "-2.2067954830044636\n",
      "38.181689514856146\n",
      "-6.3602178967847856\n",
      "-0.7945084416862418\n",
      "38.17394567902976\n",
      "-4.470181789466293\n",
      "-0.5175267951396094\n",
      "-20.10708903360255\n",
      "-5.44738184372364\n",
      "17.590043343930105\n",
      "-16.133432866715292\n",
      "-4.956813413344086\n",
      "-3.484081476603254\n",
      "-5.614105571329677\n",
      "-14.162802871139686\n",
      "15.722116533442108\n",
      "15.29218559483608\n",
      "22.57020888914471\n",
      "-0.24689831884347324\n",
      "6.452116880875528\n",
      "-2.5172462077193836\n",
      "-4.7336705645699775\n",
      "-9.808864330172286\n",
      "-25.619318528875638\n",
      "19.157525523094062\n",
      "19.020801230953715\n",
      "28.990077692251774\n",
      "54.55601344020248\n",
      "9.575927647806077\n",
      "8.108713520427404\n",
      "-4.71739250406662\n",
      "-25.890194230261244\n",
      "-3.7180043192886707\n",
      "10.349311400953551\n",
      "9.830621449427422\n",
      "22.612765812091\n",
      "-13.29925939215294\n",
      "-37.37470450620745\n",
      "-14.01950357850162\n",
      "27.47287695198172\n",
      "-2.6427248695147227\n",
      "-6.33915772517169\n",
      "-10.03559058082865\n",
      "-7.652991253508185\n",
      "-13.776732958251628\n",
      "-25.65193231183853\n",
      "11.119997159021507\n",
      "16.082767809134385\n",
      "22.876503006548145\n",
      "23.09053719108659\n",
      "30.929604252399486\n",
      "3.4843810578756393\n",
      "-7.261168022432607\n",
      "2.246690965383795\n",
      "4.032507840829674\n",
      "9.027904528907351\n",
      "-10.863440052354798\n",
      "-8.878164058926908\n",
      "1.342938962268551\n",
      "-7.359706638923946\n",
      "-13.848506580386937\n",
      "-1.2288692166985369\n",
      "-4.293938220827721\n",
      "-13.010112558517383\n",
      "6.545103841097164\n",
      "12.171272406192253\n",
      "-0.5926386012368452\n",
      "-5.312859457068854\n",
      "11.572514933188971\n",
      "15.525169927515655\n",
      "3.9083441360257627\n",
      "-11.18094086151524\n",
      "-38.90758546098132\n",
      "27.665350533763693\n",
      "15.54312610814421\n",
      "16.679359043455676\n",
      "-32.64303532068537\n",
      "-32.64303532068537\n",
      "-15.82300037043256\n",
      "11.987580086393884\n",
      "3.528955809367841\n",
      "-4.507651283238667\n",
      "-3.7573320039450344\n",
      "9.54959871291992\n",
      "2.491443565664752\n",
      "7.870388990206054\n",
      "19.59623950189605\n",
      "3.1251454595875625\n",
      "-24.69972519161327\n"
     ]
    }
   ],
   "source": [
    "i = 0\n",
    "for x in total_data :\n",
    "    print(np.dot(x-matrix_mean,h[1]))"
   ]
  },
  {
   "cell_type": "code",
   "execution_count": 112,
   "metadata": {},
   "outputs": [
    {
     "data": {
      "text/plain": [
       "-24.69972519161327"
      ]
     },
     "execution_count": 112,
     "metadata": {},
     "output_type": "execute_result"
    }
   ],
   "source": [
    "a"
   ]
  },
  {
   "cell_type": "code",
   "execution_count": null,
   "metadata": {},
   "outputs": [],
   "source": []
  }
 ],
 "metadata": {
  "kernelspec": {
   "display_name": "Python 3",
   "language": "python",
   "name": "python3"
  },
  "language_info": {
   "codemirror_mode": {
    "name": "ipython",
    "version": 3
   },
   "file_extension": ".py",
   "mimetype": "text/x-python",
   "name": "python",
   "nbconvert_exporter": "python",
   "pygments_lexer": "ipython3",
   "version": "3.6.4"
  }
 },
 "nbformat": 4,
 "nbformat_minor": 2
}
