{
 "cells": [
  {
   "cell_type": "code",
   "execution_count": 61,
   "metadata": {},
   "outputs": [],
   "source": [
    "import numpy as np\n",
    "import pandas as pd\n",
    "import matplotlib.pyplot as plt\n",
    "%matplotlib inline\n",
    "import math\n",
    "import matplotlib.pyplot as plt\n",
    "\n",
    "from sklearn import decomposition\n",
    "from numpy.random import RandomState\n",
    "from keras.datasets import mnist\n",
    "from keras.utils import np_utils\n",
    "n_components = 6"
   ]
  },
  {
   "cell_type": "code",
   "execution_count": 62,
   "metadata": {},
   "outputs": [
    {
     "name": "stdout",
     "output_type": "stream",
     "text": [
      "<class 'pandas.core.frame.DataFrame'>\n",
      "RangeIndex: 800 entries, 0 to 799\n",
      "Data columns (total 13 columns):\n",
      "#             800 non-null int64\n",
      "Name          800 non-null object\n",
      "Type 1        800 non-null object\n",
      "Type 2        414 non-null object\n",
      "Total         800 non-null int64\n",
      "HP            800 non-null int64\n",
      "Attack        800 non-null int64\n",
      "Defense       800 non-null int64\n",
      "Sp. Atk       800 non-null int64\n",
      "Sp. Def       800 non-null int64\n",
      "Speed         800 non-null int64\n",
      "Generation    800 non-null int64\n",
      "Legendary     800 non-null bool\n",
      "dtypes: bool(1), int64(9), object(3)\n",
      "memory usage: 75.9+ KB\n"
     ]
    }
   ],
   "source": [
    "df = pd.read_csv('./Pokemon.csv')\n",
    "df2 =  df.sort_values(\"Type 1\")\n",
    "df.info()"
   ]
  },
  {
   "cell_type": "code",
   "execution_count": 63,
   "metadata": {},
   "outputs": [],
   "source": [
    "number_of_Water = 50\n",
    "number_of_normal = 50\n",
    "\n",
    "total_train = number_of_Water + number_of_normal\n",
    "mask_water = df['Type 1'] =='Water'\n",
    "mask_normal= df['Type 1'] =='Normal'\n",
    "\n",
    "total = df[mask_water | mask_normal]\n"
   ]
  },
  {
   "cell_type": "code",
   "execution_count": 64,
   "metadata": {},
   "outputs": [],
   "source": [
    "matrix_mean = [total['HP'].mean(),\n",
    "               total['Attack'].mean(),\n",
    "               total['Defense'].mean(),\n",
    "               total['Sp. Atk'].mean(),\n",
    "               total['Sp. Def'].mean(),\n",
    "               total['Speed'].mean()]"
   ]
  },
  {
   "cell_type": "code",
   "execution_count": 65,
   "metadata": {},
   "outputs": [],
   "source": [
    "HP_matrix =      np.array(total['HP']-total['HP'].mean())\n",
    "Attack_matrix =  np.array(total['Attack']-total['Attack'].mean())\n",
    "Defense_matrix = np.array(total['Defense']- total['Defense'].mean())\n",
    "SpAtk_matrix =   np.array(total['Sp. Atk']-total['Sp. Atk'].mean())\n",
    "SpDef_matrix =   np.array(total['Sp. Def']-total['Sp. Def'].mean())\n",
    "Speed_matrix =   np.array(total['Speed']- total['Speed'].mean())\n",
    "\n",
    "total_data = np.vstack((HP_matrix,\n",
    "                        Attack_matrix,\n",
    "                        Defense_matrix,\n",
    "                        SpAtk_matrix,\n",
    "                        SpDef_matrix,\n",
    "                        Speed_matrix)).T\n"
   ]
  },
  {
   "cell_type": "code",
   "execution_count": 72,
   "metadata": {},
   "outputs": [],
   "source": [
    "estimators = [\n",
    "    ('Eigenfaces - PCA using randomized SVD',\n",
    "         decomposition.PCA(n_components=6,whiten=True)),\n",
    "\n",
    "    ('Non-negative components - NMF',\n",
    "         decomposition.NMF(n_components=6, init='nndsvda', tol=5e-3))\n",
    "]"
   ]
  },
  {
   "cell_type": "code",
   "execution_count": 73,
   "metadata": {},
   "outputs": [
    {
     "name": "stdout",
     "output_type": "stream",
     "text": [
      "Extracting the top 6 Eigenfaces - PCA using randomized SVD...\n",
      "(210, 6)\n",
      "[[ 0.39537644  0.45571409  0.40340947  0.47915373  0.44034356  0.22309683]\n",
      " [ 0.74652147 -0.38245439 -0.27623874 -0.04010765  0.22876458 -0.4076575 ]\n",
      " [-0.33046285 -0.15008681  0.50678577  0.1949865   0.15148774 -0.74193542]\n",
      " [-0.31370776 -0.59702372 -0.21155115  0.4597324   0.4287557   0.3243623 ]\n",
      " [ 0.04629006  0.13731801 -0.33379975  0.71842285 -0.5575581  -0.20143558]\n",
      " [ 0.27680707 -0.49823057  0.58986861  0.05742882 -0.4859149   0.29629007]]\n",
      "Extracting the top 6 Non-negative components - NMF...\n",
      "(210, 6)\n",
      "[[ 13.31024637  51.81209478  16.4983078    0.          63.21738593\n",
      "    0.        ]\n",
      " [  0.         203.08486838 104.69055665  63.06375047   0.\n",
      "  226.26858916]\n",
      " [132.88927672 289.48350649 147.09853848  20.23670453   0.\n",
      "    0.        ]\n",
      " [ 52.95073537  37.95690659  46.66532515  90.02407348  25.91632049\n",
      "   32.57531819]\n",
      " [ 37.74172169  63.07868152  42.42712273  37.57256965  73.97775992\n",
      "   53.62652131]\n",
      " [ 73.77986289  56.97479434  60.92798268  65.94428678  56.71207854\n",
      "   61.58303   ]]\n"
     ]
    }
   ],
   "source": [
    "for name, estimator in estimators:\n",
    "    print(\"Extracting the top %d %s...\" % (n_components, name))\n",
    "    print(total_data.shape)\n",
    "    estimator.fit(total_data)\n",
    "    components_ = estimator.components_\n",
    "    print(components_)"
   ]
  },
  {
   "cell_type": "code",
   "execution_count": 111,
   "metadata": {},
   "outputs": [],
   "source": [
    "w,h = np.linalg.eig(np.cov(total_data.T))"
   ]
  },
  {
   "cell_type": "code",
   "execution_count": 112,
   "metadata": {},
   "outputs": [
    {
     "data": {
      "text/plain": [
       "(6, 6)"
      ]
     },
     "execution_count": 112,
     "metadata": {},
     "output_type": "execute_result"
    }
   ],
   "source": [
    "h.shape"
   ]
  },
  {
   "cell_type": "code",
   "execution_count": 126,
   "metadata": {},
   "outputs": [],
   "source": [
    "c = np.dot(h,total_data.T)"
   ]
  },
  {
   "cell_type": "code",
   "execution_count": 127,
   "metadata": {},
   "outputs": [
    {
     "data": {
      "text/plain": [
       "(6, 210)"
      ]
     },
     "execution_count": 127,
     "metadata": {},
     "output_type": "execute_result"
    }
   ],
   "source": [
    "c.shape"
   ]
  },
  {
   "cell_type": "code",
   "execution_count": 132,
   "metadata": {},
   "outputs": [],
   "source": [
    "result = np.dot(h,c)"
   ]
  },
  {
   "cell_type": "code",
   "execution_count": 134,
   "metadata": {},
   "outputs": [
    {
     "data": {
      "text/plain": [
       "(6, 210)"
      ]
     },
     "execution_count": 134,
     "metadata": {},
     "output_type": "execute_result"
    }
   ],
   "source": [
    "result.shape"
   ]
  },
  {
   "cell_type": "code",
   "execution_count": 144,
   "metadata": {},
   "outputs": [
    {
     "data": {
      "text/plain": [
       "array([[ 37.63624438,  51.24701618,  68.66955063, ...,  60.57843149,\n",
       "         46.35389046,  81.00463476],\n",
       "       [ 23.2167725 ,  27.7277347 ,  36.09240898, ...,  15.73711921,\n",
       "         24.17076422,  32.85176662],\n",
       "       [ 27.14370048,  34.90844689,  44.4356534 , ...,  40.8559956 ,\n",
       "         25.50819121,  12.02940347],\n",
       "       [ 27.83398707,  38.08611803,  50.91387154, ...,  54.35437232,\n",
       "         35.0214086 ,  66.67698489],\n",
       "       [ 92.8155977 , 115.92761133, 147.82619132, ..., 102.50667933,\n",
       "         93.16549417, 149.63669264],\n",
       "       [ 69.48559632,  91.2992494 , 122.5826186 , ..., 138.94375569,\n",
       "         71.6387801 ,  96.40199133]])"
      ]
     },
     "execution_count": 144,
     "metadata": {},
     "output_type": "execute_result"
    }
   ],
   "source": [
    "result"
   ]
  },
  {
   "cell_type": "code",
   "execution_count": 145,
   "metadata": {},
   "outputs": [
    {
     "data": {
      "text/plain": [
       "array([[ 44,  48,  65,  50,  64,  43],\n",
       "       [ 59,  63,  80,  65,  80,  58],\n",
       "       [ 79,  83, 100,  85, 105,  78],\n",
       "       ...,\n",
       "       [ 75,  80,  60,  65,  90, 102],\n",
       "       [ 50,  53,  62,  58,  63,  44],\n",
       "       [ 71,  73,  88, 120,  89,  59]], dtype=int64)"
      ]
     },
     "execution_count": 145,
     "metadata": {},
     "output_type": "execute_result"
    }
   ],
   "source": [
    "total_data"
   ]
  },
  {
   "cell_type": "code",
   "execution_count": null,
   "metadata": {},
   "outputs": [],
   "source": []
  }
 ],
 "metadata": {
  "kernelspec": {
   "display_name": "Python 3",
   "language": "python",
   "name": "python3"
  },
  "language_info": {
   "codemirror_mode": {
    "name": "ipython",
    "version": 3
   },
   "file_extension": ".py",
   "mimetype": "text/x-python",
   "name": "python",
   "nbconvert_exporter": "python",
   "pygments_lexer": "ipython3",
   "version": "3.6.4"
  }
 },
 "nbformat": 4,
 "nbformat_minor": 2
}
