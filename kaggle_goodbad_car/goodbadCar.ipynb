{
 "cells": [
  {
   "cell_type": "code",
   "execution_count": 5,
   "metadata": {},
   "outputs": [],
   "source": [
    "import numpy as np\n",
    "import pandas as pd\n",
    "from sklearn.model_selection import train_test_split\n",
    "from sklearn import metrics, cross_validation\n",
    "from sklearn.linear_model import LogisticRegression as logreg\n",
    "from sklearn.model_selection import cross_val_score\n",
    "from sklearn.metrics import confusion_matrix\n",
    "from sklearn.metrics import roc_curve\n",
    "import matplotlib.pyplot as plt"
   ]
  },
  {
   "cell_type": "code",
   "execution_count": 6,
   "metadata": {},
   "outputs": [],
   "source": [
    "def recategorize(data,columnname):\n",
    "    # only when a feature shared by more than 5% of the totally record, we will retain it\n",
    "    counts = data[columnname].value_counts()\n",
    "    nameSet = set(counts[counts>= 0.01*len(data.index)].index.values)\n",
    "    #print(\"----132---\")\n",
    "    #print(counts)\n",
    "    #print(counts[counts>= 0.01*len(data.index)].index.values)\n",
    "    # at least 5% of all the data\n",
    "    data.loc[:,columnname] = data[columnname].apply(lambda x:'OTHER'if x not in nameSet else x)\n",
    "    return data"
   ]
  },
  {
   "cell_type": "code",
   "execution_count": 7,
   "metadata": {},
   "outputs": [
    {
     "name": "stdout",
     "output_type": "stream",
     "text": [
      "72983\n",
      "<class 'pandas.core.frame.DataFrame'>\n",
      "RangeIndex: 72983 entries, 0 to 72982\n",
      "Data columns (total 34 columns):\n",
      "RefId                                72983 non-null int64\n",
      "IsBadBuy                             72983 non-null int64\n",
      "PurchDate                            72983 non-null object\n",
      "Auction                              72983 non-null object\n",
      "VehYear                              72983 non-null int64\n",
      "VehicleAge                           72983 non-null int64\n",
      "Make                                 72983 non-null object\n",
      "Model                                72983 non-null object\n",
      "Trim                                 70623 non-null object\n",
      "SubModel                             72975 non-null object\n",
      "Color                                72975 non-null object\n",
      "Transmission                         72974 non-null object\n",
      "WheelTypeID                          69814 non-null float64\n",
      "WheelType                            69809 non-null object\n",
      "VehOdo                               72983 non-null int64\n",
      "Nationality                          72978 non-null object\n",
      "Size                                 72978 non-null object\n",
      "TopThreeAmericanName                 72978 non-null object\n",
      "MMRAcquisitionAuctionAveragePrice    72965 non-null float64\n",
      "MMRAcquisitionAuctionCleanPrice      72965 non-null float64\n",
      "MMRAcquisitionRetailAveragePrice     72965 non-null float64\n",
      "MMRAcquisitonRetailCleanPrice        72965 non-null float64\n",
      "MMRCurrentAuctionAveragePrice        72668 non-null float64\n",
      "MMRCurrentAuctionCleanPrice          72668 non-null float64\n",
      "MMRCurrentRetailAveragePrice         72668 non-null float64\n",
      "MMRCurrentRetailCleanPrice           72668 non-null float64\n",
      "PRIMEUNIT                            3419 non-null object\n",
      "AUCGUART                             3419 non-null object\n",
      "BYRNO                                72983 non-null int64\n",
      "VNZIP1                               72983 non-null int64\n",
      "VNST                                 72983 non-null object\n",
      "VehBCost                             72983 non-null float64\n",
      "IsOnlineSale                         72983 non-null int64\n",
      "WarrantyCost                         72983 non-null int64\n",
      "dtypes: float64(10), int64(9), object(15)\n",
      "memory usage: 18.9+ MB\n"
     ]
    }
   ],
   "source": [
    "# read in the data\n",
    "# the data format is \"dataframe\"\n",
    "data = pd.read_csv(\"training.csv\")\n",
    "#data.head()\n",
    "print(len(data.index)) # number of data (cars)\n",
    "\n",
    "data.info()\n",
    "#如果有一個missing 則去掉此物件\n",
    "data2 = data.dropna(axis =0, how = 'any', subset = ['Color',\n",
    "                                                    'Transmission',\n",
    "                                                    'Nationality',\n",
    "                                                    'Size',\n",
    "                                                    'TopThreeAmericanName',\n",
    "                                                    'MMRAcquisitionAuctionAveragePrice',\n",
    "                                                    'MMRAcquisitionAuctionCleanPrice',\n",
    "                                                    'MMRAcquisitionRetailAveragePrice',\n",
    "                                                    'MMRAcquisitonRetailCleanPrice',\n",
    "                                                    'MMRCurrentAuctionAveragePrice',\n",
    "                                                    'MMRCurrentAuctionCleanPrice',\n",
    "                                                    'MMRCurrentRetailAveragePrice',\n",
    "                                                    'MMRCurrentRetailCleanPrice'])"
   ]
  },
  {
   "cell_type": "code",
   "execution_count": 12,
   "metadata": {},
   "outputs": [
    {
     "data": {
      "image/png": "[encoded data removed]",
      "text/plain": [
       "<matplotlib.figure.Figure at 0x1f40c340080>"
      ]
     },
     "metadata": {},
     "output_type": "display_data"
    },
    {
     "name": "stderr",
     "output_type": "stream",
     "text": [
      "C:\\Users\\User\\Anaconda3\\lib\\site-packages\\pandas\\core\\indexing.py:537: SettingWithCopyWarning: \n",
      "A value is trying to be set on a copy of a slice from a DataFrame.\n",
      "Try using .loc[row_indexer,col_indexer] = value instead\n",
      "\n",
      "See the caveats in the documentation: http://pandas.pydata.org/pandas-docs/stable/indexing.html#indexing-view-versus-copy\n",
      "  self.obj[item] = s\n"
     ]
    },
    {
     "name": "stdout",
     "output_type": "stream",
     "text": [
      "<class 'pandas.core.frame.DataFrame'>\n",
      "Int64Index: 72658 entries, 0 to 72982\n",
      "Data columns (total 34 columns):\n",
      "RefId                                72658 non-null int64\n",
      "IsBadBuy                             72658 non-null int64\n",
      "PurchDate                            72658 non-null object\n",
      "Auction                              72658 non-null object\n",
      "VehYear                              72658 non-null int64\n",
      "VehicleAge                           72658 non-null int64\n",
      "Make                                 72658 non-null object\n",
      "Model                                72658 non-null object\n",
      "Trim                                 70301 non-null object\n",
      "SubModel                             72658 non-null object\n",
      "Color                                72658 non-null object\n",
      "Transmission                         72658 non-null object\n",
      "WheelTypeID                          69499 non-null float64\n",
      "WheelType                            69494 non-null object\n",
      "VehOdo                               72658 non-null int64\n",
      "Nationality                          72658 non-null object\n",
      "Size                                 72658 non-null object\n",
      "TopThreeAmericanName                 72658 non-null object\n",
      "MMRAcquisitionAuctionAveragePrice    72658 non-null float64\n",
      "MMRAcquisitionAuctionCleanPrice      72658 non-null float64\n",
      "MMRAcquisitionRetailAveragePrice     72658 non-null float64\n",
      "MMRAcquisitonRetailCleanPrice        72658 non-null float64\n",
      "MMRCurrentAuctionAveragePrice        72658 non-null float64\n",
      "MMRCurrentAuctionCleanPrice          72658 non-null float64\n",
      "MMRCurrentRetailAveragePrice         72658 non-null float64\n",
      "MMRCurrentRetailCleanPrice           72658 non-null float64\n",
      "PRIMEUNIT                            3405 non-null object\n",
      "AUCGUART                             3405 non-null object\n",
      "BYRNO                                72658 non-null int64\n",
      "VNZIP1                               72658 non-null int64\n",
      "VNST                                 72658 non-null object\n",
      "VehBCost                             72658 non-null float64\n",
      "IsOnlineSale                         72658 non-null int64\n",
      "WarrantyCost                         72658 non-null int64\n",
      "dtypes: float64(10), int64(9), object(15)\n",
      "memory usage: 21.9+ MB\n",
      "<class 'pandas.core.frame.DataFrame'>\n",
      "Int64Index: 72658 entries, 0 to 72982\n",
      "Data columns (total 25 columns):\n",
      "IsBadBuy                             72658 non-null int64\n",
      "Auction                              72658 non-null object\n",
      "VehicleAge                           72658 non-null int64\n",
      "Make                                 72658 non-null object\n",
      "Model                                72658 non-null object\n",
      "SubModel                             72658 non-null object\n",
      "Color                                72658 non-null object\n",
      "Transmission                         72658 non-null object\n",
      "WheelType                            69494 non-null object\n",
      "VehOdo                               72658 non-null int64\n",
      "Nationality                          72658 non-null object\n",
      "Size                                 72658 non-null object\n",
      "TopThreeAmericanName                 72658 non-null object\n",
      "MMRAcquisitionAuctionAveragePrice    72658 non-null float64\n",
      "MMRAcquisitionAuctionCleanPrice      72658 non-null float64\n",
      "MMRAcquisitionRetailAveragePrice     72658 non-null float64\n",
      "MMRAcquisitonRetailCleanPrice        72658 non-null float64\n",
      "MMRCurrentAuctionAveragePrice        72658 non-null float64\n",
      "MMRCurrentAuctionCleanPrice          72658 non-null float64\n",
      "MMRCurrentRetailAveragePrice         72658 non-null float64\n",
      "MMRCurrentRetailCleanPrice           72658 non-null float64\n",
      "VNST                                 72658 non-null object\n",
      "VehBCost                             72658 non-null float64\n",
      "IsOnlineSale                         72658 non-null int64\n",
      "WarrantyCost                         72658 non-null int64\n",
      "dtypes: float64(9), int64(5), object(11)\n",
      "memory usage: 16.9+ MB\n"
     ]
    },
    {
     "data": {
      "image/png": "[encoded data removed]",
      "text/plain": [
       "<matplotlib.figure.Figure at 0x1f40c3e2208>"
      ]
     },
     "metadata": {},
     "output_type": "display_data"
    }
   ],
   "source": [
    "data2.IsBadBuy.hist()\n",
    "plt.show()\n",
    "#data2.Make.hist()\n",
    "data2.Make.value_counts().plot(kind='bar')\n",
    "#plt.show()\n",
    "\n",
    "data2 = recategorize(data2, 'Make')\n",
    "data2.Make.value_counts().plot(kind='bar')\n",
    "\n",
    "data2 = recategorize(data2, 'Color')\n",
    "data2.Color.value_counts().plot(kind='bar')\n",
    "\n",
    "data.Transmission.value_counts().plot(kind='bar')\n",
    "\n",
    "data.Nationality.value_counts().plot(kind='bar')\n",
    "\n",
    "data.Size.value_counts().plot(kind='bar')\n",
    "\n",
    "data.TopThreeAmericanName .value_counts().plot(kind='bar')\n",
    "data2 = recategorize(data2, 'VNST')\n",
    "data2.VNST.value_counts().plot(kind='bar')\n",
    "data2.info()\n",
    "data2_cleaned = data2.drop([\"RefId\",\n",
    "                            \"PurchDate\",\n",
    "                            \"VehYear\",\n",
    "                            \"WheelTypeID\",\n",
    "                            \"BYRNO\",\n",
    "                            \"VNZIP1\",\n",
    "                            \"PRIMEUNIT\",\n",
    "                            \"AUCGUART\",\n",
    "                            \"Trim\"],\n",
    "                            axis=1)\n",
    "data2_cleaned.info()"
   ]
  },
  {
   "cell_type": "code",
   "execution_count": 9,
   "metadata": {},
   "outputs": [],
   "source": [
    "dataFinal = pd.get_dummies(data2_cleaned)\n",
    "len(list(dataFinal))\n",
    "dataFinal.head()\n",
    "Y = dataFinal.loc[:,\"IsBadBuy\"]\n",
    "X = dataFinal.drop(\"IsBadBuy\",1)\n",
    "X.head()\n",
    "from sklearn.preprocessing import StandardScaler as SC\n",
    "sc = SC()\n",
    "Xnew = sc.fit_transform(X)\n",
    "\n",
    "from sklearn.linear_model import LogisticRegression as LR\n",
    "from sklearn.model_selection import train_test_split\n",
    "X_train, X_test, Y_train, Y_test = train_test_split(Xnew, Y)"
   ]
  },
  {
   "cell_type": "code",
   "execution_count": 10,
   "metadata": {},
   "outputs": [
    {
     "name": "stdout",
     "output_type": "stream",
     "text": [
      "0.6404230317273796\n",
      "0.23716275021758051\n"
     ]
    },
    {
     "data": {
      "text/plain": [
       "array([0, 1], dtype=int64)"
      ]
     },
     "execution_count": 10,
     "metadata": {},
     "output_type": "execute_result"
    }
   ],
   "source": [
    "lr = LR(C=1.) # create a model, set the parameters (hyperparameter)\n",
    "lr.fit(X_train, Y_train) # train the model\n",
    "\n",
    "\n",
    "lr.score(X_test, Y_test) # prediction performance, accuracy\n",
    "from sklearn.metrics import precision_score,recall_score\n",
    "\n",
    "\n",
    "precision = precision_score(Y_test, lr.predict(X_test),pos_label=1)\n",
    "recall = recall_score(Y_test, lr.predict(X_test),pos_label=1)\n",
    "print(precision)\n",
    "print(recall)\n",
    "lr.classes_\n"
   ]
  },
  {
   "cell_type": "code",
   "execution_count": 11,
   "metadata": {},
   "outputs": [
    {
     "data": {
      "image/png": "[encoded data removed]",
      "text/plain": [
       "<matplotlib.figure.Figure at 0x1f46a831cf8>"
      ]
     },
     "metadata": {},
     "output_type": "display_data"
    }
   ],
   "source": [
    "\n",
    "# TPR = TP/P\n",
    "# FPR = FP/N\n",
    "from sklearn.metrics import roc_curve\n",
    "fpr, tpr, thresholds = roc_curve(Y_test, lr.predict_proba(X_test)[:,1],pos_label=1)\n",
    "\n",
    "import matplotlib.pyplot as plt\n",
    "plt.figure()\n",
    "plt.plot(fpr, tpr, color='darkorange')\n",
    "plt.plot([0, 1], [0, 1], color='navy', linestyle='--')\n",
    "plt.xlim([0.0, 1.0])\n",
    "plt.ylim([0.0, 1.05])\n",
    "plt.xlabel('False Postive Rate, FPR')\n",
    "plt.ylabel('True Positive Rate, TPR')\n",
    "plt.title('Receiver operating characteristic example')\n",
    "plt.show()"
   ]
  },
  {
   "cell_type": "code",
   "execution_count": null,
   "metadata": {},
   "outputs": [],
   "source": []
  },
  {
   "cell_type": "code",
   "execution_count": null,
   "metadata": {},
   "outputs": [],
   "source": []
  }
 ],
 "metadata": {
  "kernelspec": {
   "display_name": "Python 3",
   "language": "python",
   "name": "python3"
  },
  "language_info": {
   "codemirror_mode": {
    "name": "ipython",
    "version": 3
   },
   "file_extension": ".py",
   "mimetype": "text/x-python",
   "name": "python",
   "nbconvert_exporter": "python",
   "pygments_lexer": "ipython3",
   "version": "3.6.4"
  }
 },
 "nbformat": 4,
 "nbformat_minor": 2
}
