{
 "cells": [
  {
   "cell_type": "code",
   "execution_count": 225,
   "metadata": {},
   "outputs": [],
   "source": [
    "import numpy as np\n",
    "import pandas as pd\n",
    "from sklearn.model_selection import train_test_split\n",
    "from sklearn import metrics, cross_validation\n",
    "from sklearn.linear_model import LogisticRegression as logreg\n",
    "from sklearn.model_selection import cross_val_score\n",
    "from sklearn.metrics import confusion_matrix\n",
    "from sklearn.metrics import roc_curve\n",
    "import matplotlib.pyplot as plt\n",
    "\n",
    "from keras.utils import np_utils\n",
    "np.random.seed(10)\n",
    "from keras.datasets import mnist\n",
    "import matplotlib.pyplot as plt\n",
    "from keras.models import Sequential\n",
    "from keras.layers import Dense\n",
    "from keras.layers import Dropout\n",
    "import keras"
   ]
  },
  {
   "cell_type": "code",
   "execution_count": 226,
   "metadata": {},
   "outputs": [],
   "source": [
    "def recategorize(data,columnname):\n",
    "    \n",
    "    counts = data[columnname].value_counts()\n",
    "    nameSet = set(counts[counts>= 0.01*len(data.index)].index.values)\n",
    "    \n",
    "    data.loc[:,columnname] = data[columnname].apply(lambda x:'OTHER'if x not in nameSet else x)\n",
    "    return data"
   ]
  },
  {
   "cell_type": "code",
   "execution_count": 227,
   "metadata": {},
   "outputs": [
    {
     "name": "stdout",
     "output_type": "stream",
     "text": [
      "72983\n",
      "<class 'pandas.core.frame.DataFrame'>\n",
      "RangeIndex: 72983 entries, 0 to 72982\n",
      "Data columns (total 34 columns):\n",
      "RefId                                72983 non-null int64\n",
      "IsBadBuy                             72983 non-null int64\n",
      "PurchDate                            72983 non-null object\n",
      "Auction                              72983 non-null object\n",
      "VehYear                              72983 non-null int64\n",
      "VehicleAge                           72983 non-null int64\n",
      "Make                                 72983 non-null object\n",
      "Model                                72983 non-null object\n",
      "Trim                                 70623 non-null object\n",
      "SubModel                             72975 non-null object\n",
      "Color                                72975 non-null object\n",
      "Transmission                         72974 non-null object\n",
      "WheelTypeID                          69814 non-null float64\n",
      "WheelType                            69809 non-null object\n",
      "VehOdo                               72983 non-null int64\n",
      "Nationality                          72978 non-null object\n",
      "Size                                 72978 non-null object\n",
      "TopThreeAmericanName                 72978 non-null object\n",
      "MMRAcquisitionAuctionAveragePrice    72965 non-null float64\n",
      "MMRAcquisitionAuctionCleanPrice      72965 non-null float64\n",
      "MMRAcquisitionRetailAveragePrice     72965 non-null float64\n",
      "MMRAcquisitonRetailCleanPrice        72965 non-null float64\n",
      "MMRCurrentAuctionAveragePrice        72668 non-null float64\n",
      "MMRCurrentAuctionCleanPrice          72668 non-null float64\n",
      "MMRCurrentRetailAveragePrice         72668 non-null float64\n",
      "MMRCurrentRetailCleanPrice           72668 non-null float64\n",
      "PRIMEUNIT                            3419 non-null object\n",
      "AUCGUART                             3419 non-null object\n",
      "BYRNO                                72983 non-null int64\n",
      "VNZIP1                               72983 non-null int64\n",
      "VNST                                 72983 non-null object\n",
      "VehBCost                             72983 non-null float64\n",
      "IsOnlineSale                         72983 non-null int64\n",
      "WarrantyCost                         72983 non-null int64\n",
      "dtypes: float64(10), int64(9), object(15)\n",
      "memory usage: 18.9+ MB\n"
     ]
    },
    {
     "data": {
      "text/html": [
       "<div>\n",
       "<style scoped>\n",
       "    .dataframe tbody tr th:only-of-type {\n",
       "        vertical-align: middle;\n",
       "    }\n",
       "\n",
       "    .dataframe tbody tr th {\n",
       "        vertical-align: top;\n",
       "    }\n",
       "\n",
       "    .dataframe thead th {\n",
       "        text-align: right;\n",
       "    }\n",
       "</style>\n",
       "<table border=\"1\" class=\"dataframe\">\n",
       "  <thead>\n",
       "    <tr style=\"text-align: right;\">\n",
       "      <th></th>\n",
       "      <th>RefId</th>\n",
       "      <th>IsBadBuy</th>\n",
       "      <th>PurchDate</th>\n",
       "      <th>Auction</th>\n",
       "      <th>VehYear</th>\n",
       "      <th>VehicleAge</th>\n",
       "      <th>Make</th>\n",
       "      <th>Model</th>\n",
       "      <th>Trim</th>\n",
       "      <th>SubModel</th>\n",
       "      <th>...</th>\n",
       "      <th>MMRCurrentRetailAveragePrice</th>\n",
       "      <th>MMRCurrentRetailCleanPrice</th>\n",
       "      <th>PRIMEUNIT</th>\n",
       "      <th>AUCGUART</th>\n",
       "      <th>BYRNO</th>\n",
       "      <th>VNZIP1</th>\n",
       "      <th>VNST</th>\n",
       "      <th>VehBCost</th>\n",
       "      <th>IsOnlineSale</th>\n",
       "      <th>WarrantyCost</th>\n",
       "    </tr>\n",
       "  </thead>\n",
       "  <tbody>\n",
       "    <tr>\n",
       "      <th>0</th>\n",
       "      <td>1</td>\n",
       "      <td>0</td>\n",
       "      <td>12/7/2009</td>\n",
       "      <td>ADESA</td>\n",
       "      <td>2006</td>\n",
       "      <td>3</td>\n",
       "      <td>MAZDA</td>\n",
       "      <td>MAZDA3</td>\n",
       "      <td>i</td>\n",
       "      <td>4D SEDAN I</td>\n",
       "      <td>...</td>\n",
       "      <td>11597.0</td>\n",
       "      <td>12409.0</td>\n",
       "      <td>NaN</td>\n",
       "      <td>NaN</td>\n",
       "      <td>21973</td>\n",
       "      <td>33619</td>\n",
       "      <td>FL</td>\n",
       "      <td>7100.0</td>\n",
       "      <td>0</td>\n",
       "      <td>1113</td>\n",
       "    </tr>\n",
       "    <tr>\n",
       "      <th>1</th>\n",
       "      <td>2</td>\n",
       "      <td>0</td>\n",
       "      <td>12/7/2009</td>\n",
       "      <td>ADESA</td>\n",
       "      <td>2004</td>\n",
       "      <td>5</td>\n",
       "      <td>DODGE</td>\n",
       "      <td>1500 RAM PICKUP 2WD</td>\n",
       "      <td>ST</td>\n",
       "      <td>QUAD CAB 4.7L SLT</td>\n",
       "      <td>...</td>\n",
       "      <td>11374.0</td>\n",
       "      <td>12791.0</td>\n",
       "      <td>NaN</td>\n",
       "      <td>NaN</td>\n",
       "      <td>19638</td>\n",
       "      <td>33619</td>\n",
       "      <td>FL</td>\n",
       "      <td>7600.0</td>\n",
       "      <td>0</td>\n",
       "      <td>1053</td>\n",
       "    </tr>\n",
       "    <tr>\n",
       "      <th>2</th>\n",
       "      <td>3</td>\n",
       "      <td>0</td>\n",
       "      <td>12/7/2009</td>\n",
       "      <td>ADESA</td>\n",
       "      <td>2005</td>\n",
       "      <td>4</td>\n",
       "      <td>DODGE</td>\n",
       "      <td>STRATUS V6</td>\n",
       "      <td>SXT</td>\n",
       "      <td>4D SEDAN SXT FFV</td>\n",
       "      <td>...</td>\n",
       "      <td>7146.0</td>\n",
       "      <td>8702.0</td>\n",
       "      <td>NaN</td>\n",
       "      <td>NaN</td>\n",
       "      <td>19638</td>\n",
       "      <td>33619</td>\n",
       "      <td>FL</td>\n",
       "      <td>4900.0</td>\n",
       "      <td>0</td>\n",
       "      <td>1389</td>\n",
       "    </tr>\n",
       "    <tr>\n",
       "      <th>3</th>\n",
       "      <td>4</td>\n",
       "      <td>0</td>\n",
       "      <td>12/7/2009</td>\n",
       "      <td>ADESA</td>\n",
       "      <td>2004</td>\n",
       "      <td>5</td>\n",
       "      <td>DODGE</td>\n",
       "      <td>NEON</td>\n",
       "      <td>SXT</td>\n",
       "      <td>4D SEDAN</td>\n",
       "      <td>...</td>\n",
       "      <td>4375.0</td>\n",
       "      <td>5518.0</td>\n",
       "      <td>NaN</td>\n",
       "      <td>NaN</td>\n",
       "      <td>19638</td>\n",
       "      <td>33619</td>\n",
       "      <td>FL</td>\n",
       "      <td>4100.0</td>\n",
       "      <td>0</td>\n",
       "      <td>630</td>\n",
       "    </tr>\n",
       "    <tr>\n",
       "      <th>4</th>\n",
       "      <td>5</td>\n",
       "      <td>0</td>\n",
       "      <td>12/7/2009</td>\n",
       "      <td>ADESA</td>\n",
       "      <td>2005</td>\n",
       "      <td>4</td>\n",
       "      <td>FORD</td>\n",
       "      <td>FOCUS</td>\n",
       "      <td>ZX3</td>\n",
       "      <td>2D COUPE ZX3</td>\n",
       "      <td>...</td>\n",
       "      <td>6739.0</td>\n",
       "      <td>7911.0</td>\n",
       "      <td>NaN</td>\n",
       "      <td>NaN</td>\n",
       "      <td>19638</td>\n",
       "      <td>33619</td>\n",
       "      <td>FL</td>\n",
       "      <td>4000.0</td>\n",
       "      <td>0</td>\n",
       "      <td>1020</td>\n",
       "    </tr>\n",
       "  </tbody>\n",
       "</table>\n",
       "<p>5 rows × 34 columns</p>\n",
       "</div>"
      ],
      "text/plain": [
       "   RefId  IsBadBuy  PurchDate Auction  VehYear  VehicleAge   Make  \\\n",
       "0      1         0  12/7/2009   ADESA     2006           3  MAZDA   \n",
       "1      2         0  12/7/2009   ADESA     2004           5  DODGE   \n",
       "2      3         0  12/7/2009   ADESA     2005           4  DODGE   \n",
       "3      4         0  12/7/2009   ADESA     2004           5  DODGE   \n",
       "4      5         0  12/7/2009   ADESA     2005           4   FORD   \n",
       "\n",
       "                 Model Trim           SubModel      ...       \\\n",
       "0               MAZDA3    i         4D SEDAN I      ...        \n",
       "1  1500 RAM PICKUP 2WD   ST  QUAD CAB 4.7L SLT      ...        \n",
       "2           STRATUS V6  SXT   4D SEDAN SXT FFV      ...        \n",
       "3                 NEON  SXT           4D SEDAN      ...        \n",
       "4                FOCUS  ZX3       2D COUPE ZX3      ...        \n",
       "\n",
       "  MMRCurrentRetailAveragePrice MMRCurrentRetailCleanPrice  PRIMEUNIT AUCGUART  \\\n",
       "0                      11597.0                    12409.0        NaN      NaN   \n",
       "1                      11374.0                    12791.0        NaN      NaN   \n",
       "2                       7146.0                     8702.0        NaN      NaN   \n",
       "3                       4375.0                     5518.0        NaN      NaN   \n",
       "4                       6739.0                     7911.0        NaN      NaN   \n",
       "\n",
       "   BYRNO VNZIP1 VNST VehBCost  IsOnlineSale  WarrantyCost  \n",
       "0  21973  33619   FL   7100.0             0          1113  \n",
       "1  19638  33619   FL   7600.0             0          1053  \n",
       "2  19638  33619   FL   4900.0             0          1389  \n",
       "3  19638  33619   FL   4100.0             0           630  \n",
       "4  19638  33619   FL   4000.0             0          1020  \n",
       "\n",
       "[5 rows x 34 columns]"
      ]
     },
     "execution_count": 227,
     "metadata": {},
     "output_type": "execute_result"
    }
   ],
   "source": [
    "\n",
    "data = pd.read_csv(\"training.csv\")\n",
    "\n",
    "print(len(data.index)) # number of data (cars)\n",
    "\n",
    "data.info()\n",
    "#如果有一個missing 則去掉此物件\n",
    "data2 = data.dropna(axis =0, how = 'any', subset = ['Color',\n",
    "                                                    'Transmission',\n",
    "                                                    'Nationality',\n",
    "                                                    'Size',\n",
    "                                                    'TopThreeAmericanName',\n",
    "                                                    'MMRAcquisitionAuctionAveragePrice',\n",
    "                                                    'MMRAcquisitionAuctionCleanPrice',\n",
    "                                                    'MMRAcquisitionRetailAveragePrice',\n",
    "                                                    'MMRAcquisitonRetailCleanPrice',\n",
    "                                                    'MMRCurrentAuctionAveragePrice',\n",
    "                                                    'MMRCurrentAuctionCleanPrice',\n",
    "                                                    'MMRCurrentRetailAveragePrice',\n",
    "                                                    'MMRCurrentRetailCleanPrice'])\n",
    "data.head()"
   ]
  },
  {
   "cell_type": "code",
   "execution_count": 228,
   "metadata": {},
   "outputs": [
    {
     "name": "stderr",
     "output_type": "stream",
     "text": [
      "C:\\Users\\User\\Anaconda3\\lib\\site-packages\\pandas\\core\\indexing.py:537: SettingWithCopyWarning: \n",
      "A value is trying to be set on a copy of a slice from a DataFrame.\n",
      "Try using .loc[row_indexer,col_indexer] = value instead\n",
      "\n",
      "See the caveats in the documentation: http://pandas.pydata.org/pandas-docs/stable/indexing.html#indexing-view-versus-copy\n",
      "  self.obj[item] = s\n"
     ]
    }
   ],
   "source": [
    "for i in range(len(data2.columns)):\n",
    "    data2 = recategorize(data2, str(data2.columns[i]))"
   ]
  },
  {
   "cell_type": "code",
   "execution_count": 229,
   "metadata": {},
   "outputs": [
    {
     "data": {
      "text/plain": [
       "array(['MAZDA', 'DODGE', 'FORD', 'MITSUBISHI', 'KIA', 'OTHER', 'NISSAN',\n",
       "       'CHEVROLET', 'SATURN', 'CHRYSLER', 'MERCURY', 'HYUNDAI', 'TOYOTA',\n",
       "       'PONTIAC', 'SUZUKI', 'JEEP'], dtype=object)"
      ]
     },
     "execution_count": 229,
     "metadata": {},
     "output_type": "execute_result"
    }
   ],
   "source": [
    "data2['Make'].unique()"
   ]
  },
  {
   "cell_type": "code",
   "execution_count": 230,
   "metadata": {},
   "outputs": [
    {
     "data": {
      "image/png": "[encoded data removed]",
      "text/plain": [
       "<matplotlib.figure.Figure at 0x1688f7e8f98>"
      ]
     },
     "metadata": {},
     "output_type": "display_data"
    }
   ],
   "source": [
    "data2.IsBadBuy.hist()\n",
    "plt.show()\n",
    "#data2.Make.hist()\n",
    "#data2.Make.value_counts().plot(kind='bar')\n",
    "#plt.show()\n"
   ]
  },
  {
   "cell_type": "code",
   "execution_count": 231,
   "metadata": {},
   "outputs": [
    {
     "data": {
      "text/plain": [
       "<matplotlib.axes._subplots.AxesSubplot at 0x1688b6c15c0>"
      ]
     },
     "execution_count": 231,
     "metadata": {},
     "output_type": "execute_result"
    },
    {
     "data": {
      "image/png": "[encoded data removed]",
      "text/plain": [
       "<matplotlib.figure.Figure at 0x1688fd11b38>"
      ]
     },
     "metadata": {},
     "output_type": "display_data"
    }
   ],
   "source": [
    "#data2 = recategorize(data2, 'Make')\n",
    "data2.Make.value_counts().plot(kind='bar')"
   ]
  },
  {
   "cell_type": "code",
   "execution_count": 232,
   "metadata": {},
   "outputs": [
    {
     "data": {
      "text/plain": [
       "<matplotlib.axes._subplots.AxesSubplot at 0x1688fc58128>"
      ]
     },
     "execution_count": 232,
     "metadata": {},
     "output_type": "execute_result"
    },
    {
     "data": {
      "image/png": "[encoded data removed]",
      "text/plain": [
       "<matplotlib.figure.Figure at 0x1688fc6b2b0>"
      ]
     },
     "metadata": {},
     "output_type": "display_data"
    }
   ],
   "source": [
    "#data2 = recategorize(data2, 'Color')\n",
    "data2.Color.value_counts().plot(kind='bar')"
   ]
  },
  {
   "cell_type": "code",
   "execution_count": 233,
   "metadata": {},
   "outputs": [
    {
     "data": {
      "text/plain": [
       "<matplotlib.axes._subplots.AxesSubplot at 0x1688fc5db00>"
      ]
     },
     "execution_count": 233,
     "metadata": {},
     "output_type": "execute_result"
    },
    {
     "data": {
      "image/png": "[encoded data removed]",
      "text/plain": [
       "<matplotlib.figure.Figure at 0x1689574c198>"
      ]
     },
     "metadata": {},
     "output_type": "display_data"
    }
   ],
   "source": [
    "data2.Transmission.value_counts().plot(kind='bar')"
   ]
  },
  {
   "cell_type": "code",
   "execution_count": 234,
   "metadata": {},
   "outputs": [
    {
     "data": {
      "text/plain": [
       "<matplotlib.axes._subplots.AxesSubplot at 0x168957abeb8>"
      ]
     },
     "execution_count": 234,
     "metadata": {},
     "output_type": "execute_result"
    },
    {
     "data": {
      "image/png": "[encoded data removed]",
      "text/plain": [
       "<matplotlib.figure.Figure at 0x1688fbf05c0>"
      ]
     },
     "metadata": {},
     "output_type": "display_data"
    }
   ],
   "source": [
    "data2.Nationality.value_counts().plot(kind='bar')"
   ]
  },
  {
   "cell_type": "code",
   "execution_count": 235,
   "metadata": {},
   "outputs": [
    {
     "data": {
      "text/plain": [
       "<matplotlib.axes._subplots.AxesSubplot at 0x168958048d0>"
      ]
     },
     "execution_count": 235,
     "metadata": {},
     "output_type": "execute_result"
    },
    {
     "data": {
      "image/png": "[encoded data removed]",
      "text/plain": [
       "<matplotlib.figure.Figure at 0x168957a3a20>"
      ]
     },
     "metadata": {},
     "output_type": "display_data"
    }
   ],
   "source": [
    "data2.Size.value_counts().plot(kind='bar')"
   ]
  },
  {
   "cell_type": "code",
   "execution_count": 236,
   "metadata": {},
   "outputs": [
    {
     "data": {
      "text/plain": [
       "<matplotlib.axes._subplots.AxesSubplot at 0x1688fc95080>"
      ]
     },
     "execution_count": 236,
     "metadata": {},
     "output_type": "execute_result"
    },
    {
     "data": {
      "image/png": "[encoded data removed]",
      "text/plain": [
       "<matplotlib.figure.Figure at 0x16895833550>"
      ]
     },
     "metadata": {},
     "output_type": "display_data"
    }
   ],
   "source": [
    "data2.TopThreeAmericanName.value_counts().plot(kind='bar')"
   ]
  },
  {
   "cell_type": "code",
   "execution_count": 237,
   "metadata": {},
   "outputs": [
    {
     "name": "stderr",
     "output_type": "stream",
     "text": [
      "C:\\Users\\User\\Anaconda3\\lib\\site-packages\\pandas\\core\\indexing.py:537: SettingWithCopyWarning: \n",
      "A value is trying to be set on a copy of a slice from a DataFrame.\n",
      "Try using .loc[row_indexer,col_indexer] = value instead\n",
      "\n",
      "See the caveats in the documentation: http://pandas.pydata.org/pandas-docs/stable/indexing.html#indexing-view-versus-copy\n",
      "  self.obj[item] = s\n"
     ]
    },
    {
     "data": {
      "text/plain": [
       "<matplotlib.axes._subplots.AxesSubplot at 0x16895254fd0>"
      ]
     },
     "execution_count": 237,
     "metadata": {},
     "output_type": "execute_result"
    },
    {
     "data": {
      "image/png": "[encoded data removed]",
      "text/plain": [
       "<matplotlib.figure.Figure at 0x1688c3bdbe0>"
      ]
     },
     "metadata": {},
     "output_type": "display_data"
    }
   ],
   "source": [
    "data2 = recategorize(data2, 'VNST')\n",
    "data2.VNST.value_counts().plot(kind='bar')"
   ]
  },
  {
   "cell_type": "code",
   "execution_count": 238,
   "metadata": {},
   "outputs": [
    {
     "name": "stdout",
     "output_type": "stream",
     "text": [
      "<class 'pandas.core.frame.DataFrame'>\n",
      "Int64Index: 72658 entries, 0 to 72982\n",
      "Data columns (total 34 columns):\n",
      "RefId                                72658 non-null object\n",
      "IsBadBuy                             72658 non-null int64\n",
      "PurchDate                            72658 non-null object\n",
      "Auction                              72658 non-null object\n",
      "VehYear                              72658 non-null object\n",
      "VehicleAge                           72658 non-null object\n",
      "Make                                 72658 non-null object\n",
      "Model                                72658 non-null object\n",
      "Trim                                 72658 non-null object\n",
      "SubModel                             72658 non-null object\n",
      "Color                                72658 non-null object\n",
      "Transmission                         72658 non-null object\n",
      "WheelTypeID                          72658 non-null object\n",
      "WheelType                            72658 non-null object\n",
      "VehOdo                               72658 non-null object\n",
      "Nationality                          72658 non-null object\n",
      "Size                                 72658 non-null object\n",
      "TopThreeAmericanName                 72658 non-null object\n",
      "MMRAcquisitionAuctionAveragePrice    72658 non-null object\n",
      "MMRAcquisitionAuctionCleanPrice      72658 non-null object\n",
      "MMRAcquisitionRetailAveragePrice     72658 non-null object\n",
      "MMRAcquisitonRetailCleanPrice        72658 non-null object\n",
      "MMRCurrentAuctionAveragePrice        72658 non-null object\n",
      "MMRCurrentAuctionCleanPrice          72658 non-null object\n",
      "MMRCurrentRetailAveragePrice         72658 non-null object\n",
      "MMRCurrentRetailCleanPrice           72658 non-null object\n",
      "PRIMEUNIT                            72658 non-null object\n",
      "AUCGUART                             72658 non-null object\n",
      "BYRNO                                72658 non-null object\n",
      "VNZIP1                               72658 non-null object\n",
      "VNST                                 72658 non-null object\n",
      "VehBCost                             72658 non-null object\n",
      "IsOnlineSale                         72658 non-null int64\n",
      "WarrantyCost                         72658 non-null object\n",
      "dtypes: int64(2), object(32)\n",
      "memory usage: 19.4+ MB\n"
     ]
    }
   ],
   "source": [
    "data2.info()\n",
    "data2_cleaned = data2.drop([\"RefId\",\"PurchDate\",\"VehYear\",\"WheelTypeID\",\"BYRNO\",\"VNZIP1\",\"PRIMEUNIT\",\"AUCGUART\",\"Trim\"],axis=1)"
   ]
  },
  {
   "cell_type": "code",
   "execution_count": 239,
   "metadata": {},
   "outputs": [
    {
     "name": "stdout",
     "output_type": "stream",
     "text": [
      "<class 'pandas.core.frame.DataFrame'>\n",
      "Int64Index: 72658 entries, 0 to 72982\n",
      "Data columns (total 25 columns):\n",
      "IsBadBuy                             72658 non-null int64\n",
      "Auction                              72658 non-null object\n",
      "VehicleAge                           72658 non-null object\n",
      "Make                                 72658 non-null object\n",
      "Model                                72658 non-null object\n",
      "SubModel                             72658 non-null object\n",
      "Color                                72658 non-null object\n",
      "Transmission                         72658 non-null object\n",
      "WheelType                            72658 non-null object\n",
      "VehOdo                               72658 non-null object\n",
      "Nationality                          72658 non-null object\n",
      "Size                                 72658 non-null object\n",
      "TopThreeAmericanName                 72658 non-null object\n",
      "MMRAcquisitionAuctionAveragePrice    72658 non-null object\n",
      "MMRAcquisitionAuctionCleanPrice      72658 non-null object\n",
      "MMRAcquisitionRetailAveragePrice     72658 non-null object\n",
      "MMRAcquisitonRetailCleanPrice        72658 non-null object\n",
      "MMRCurrentAuctionAveragePrice        72658 non-null object\n",
      "MMRCurrentAuctionCleanPrice          72658 non-null object\n",
      "MMRCurrentRetailAveragePrice         72658 non-null object\n",
      "MMRCurrentRetailCleanPrice           72658 non-null object\n",
      "VNST                                 72658 non-null object\n",
      "VehBCost                             72658 non-null object\n",
      "IsOnlineSale                         72658 non-null int64\n",
      "WarrantyCost                         72658 non-null object\n",
      "dtypes: int64(2), object(23)\n",
      "memory usage: 14.4+ MB\n"
     ]
    }
   ],
   "source": [
    "data2_cleaned.info()"
   ]
  },
  {
   "cell_type": "code",
   "execution_count": 250,
   "metadata": {},
   "outputs": [
    {
     "name": "stdout",
     "output_type": "stream",
     "text": [
      "<class 'pandas.core.frame.DataFrame'>\n",
      "Int64Index: 72658 entries, 0 to 72982\n",
      "Columns: 166 entries, IsBadBuy to WarrantyCost_OTHER\n",
      "dtypes: int64(2), uint8(164)\n",
      "memory usage: 13.0 MB\n"
     ]
    }
   ],
   "source": [
    "dataFinal = pd.get_dummies(data2_cleaned)\n",
    "len(list(dataFinal))\n",
    "dataFinal.head()\n",
    "Y = dataFinal.loc[:,\"IsBadBuy\"]\n",
    "X = dataFinal.drop(\"IsBadBuy\",1)\n",
    "#X.head()\n",
    "dataFinal.info()"
   ]
  },
  {
   "cell_type": "code",
   "execution_count": 251,
   "metadata": {},
   "outputs": [],
   "source": [
    "from sklearn.preprocessing import StandardScaler as SC\n",
    "sc = SC()\n",
    "Xnew = sc.fit_transform(X)\n",
    "X = np.array(X)\n",
    "Y = np.array(Y)\n",
    "from sklearn.linear_model import LogisticRegression as LR\n",
    "from sklearn.model_selection import train_test_split\n",
    "X_train_ori, X_test_ori, Y_train_ori, Y_test_ori = train_test_split(X, Y)\n",
    "X_train, X_test, Y_train, Y_test = train_test_split(Xnew, Y)\n",
    "\n",
    "\n",
    "Y_train_ori_onehot = np_utils.to_categorical(Y_train_ori)\n",
    "Y_test_ori_onehot = np_utils.to_categorical(Y_test_ori)\n",
    "Y_train_onehot = np_utils.to_categorical(Y_train)\n",
    "Y_test_onehot = np_utils.to_categorical(Y_test)\n",
    "\n"
   ]
  },
  {
   "cell_type": "code",
   "execution_count": 252,
   "metadata": {},
   "outputs": [
    {
     "data": {
      "text/plain": [
       "(54493, 165)"
      ]
     },
     "execution_count": 252,
     "metadata": {},
     "output_type": "execute_result"
    }
   ],
   "source": [
    "X_train_ori.shape"
   ]
  },
  {
   "cell_type": "code",
   "execution_count": 247,
   "metadata": {},
   "outputs": [
    {
     "name": "stderr",
     "output_type": "stream",
     "text": [
      "W0214 13:29:31.955197  5804 nn_ops.py:4224] Large dropout rate: 0.6 (>0.5). In TensorFlow 2.x, dropout() uses dropout rate instead of keep_prob. Please ensure that this is intended.\n"
     ]
    },
    {
     "name": "stdout",
     "output_type": "stream",
     "text": [
      "Train on 38145 samples, validate on 16348 samples\n",
      "Epoch 1/20\n",
      " - 15s - loss: 0.3789 - acc: 0.8759 - val_loss: 0.3284 - val_acc: 0.8751\n",
      "Epoch 2/20\n",
      " - 14s - loss: 0.3267 - acc: 0.8915 - val_loss: 0.3200 - val_acc: 0.8912\n",
      "Epoch 3/20\n",
      " - 15s - loss: 0.3168 - acc: 0.8994 - val_loss: 0.3167 - val_acc: 0.8932\n",
      "Epoch 4/20\n",
      " - 17s - loss: 0.3127 - acc: 0.9007 - val_loss: 0.3156 - val_acc: 0.8948\n",
      "Epoch 5/20\n",
      " - 17s - loss: 0.3094 - acc: 0.9014 - val_loss: 0.3159 - val_acc: 0.8950\n",
      "Epoch 6/20\n",
      " - 17s - loss: 0.3059 - acc: 0.9018 - val_loss: 0.3168 - val_acc: 0.8953\n",
      "Epoch 7/20\n",
      " - 16s - loss: 0.2996 - acc: 0.9024 - val_loss: 0.3188 - val_acc: 0.8948\n",
      "Epoch 8/20\n",
      " - 16s - loss: 0.2922 - acc: 0.9033 - val_loss: 0.3205 - val_acc: 0.8955\n",
      "Epoch 9/20\n",
      " - 18s - loss: 0.2848 - acc: 0.9038 - val_loss: 0.3283 - val_acc: 0.8949\n",
      "Epoch 10/20\n",
      " - 16s - loss: 0.2767 - acc: 0.9044 - val_loss: 0.3367 - val_acc: 0.8923\n",
      "Epoch 11/20\n",
      " - 18s - loss: 0.2648 - acc: 0.9070 - val_loss: 0.3501 - val_acc: 0.8926\n",
      "Epoch 12/20\n",
      " - 18s - loss: 0.2574 - acc: 0.9077 - val_loss: 0.3612 - val_acc: 0.8940\n",
      "Epoch 13/20\n",
      " - 17s - loss: 0.2452 - acc: 0.9095 - val_loss: 0.3722 - val_acc: 0.8840\n",
      "Epoch 14/20\n",
      " - 17s - loss: 0.2293 - acc: 0.9140 - val_loss: 0.3874 - val_acc: 0.8802\n",
      "Epoch 15/20\n",
      " - 17s - loss: 0.2165 - acc: 0.9169 - val_loss: 0.4105 - val_acc: 0.8782\n",
      "Epoch 16/20\n",
      " - 16s - loss: 0.2056 - acc: 0.9230 - val_loss: 0.4353 - val_acc: 0.8783\n",
      "Epoch 17/20\n",
      " - 17s - loss: 0.1945 - acc: 0.9252 - val_loss: 0.4615 - val_acc: 0.8565\n",
      "Epoch 18/20\n",
      " - 17s - loss: 0.1834 - acc: 0.9286 - val_loss: 0.4933 - val_acc: 0.8511\n",
      "Epoch 19/20\n",
      " - 15s - loss: 0.1685 - acc: 0.9345 - val_loss: 0.5265 - val_acc: 0.8619\n",
      "Epoch 20/20\n",
      " - 14s - loss: 0.1572 - acc: 0.9393 - val_loss: 0.5955 - val_acc: 0.8664\n",
      "18165/18165 [==============================] - 1s 79us/step\n",
      "\n",
      "準確率= 0.8700798238436118\n"
     ]
    }
   ],
   "source": [
    "#acc = []\n",
    "\n",
    "#for i in range(5,50):\n",
    "model = Sequential()\n",
    "    #輸入層：7, 隱藏層：50，輸出層：2\n",
    "model.add(Dense(units=i, \n",
    "                input_dim=165,\n",
    "                kernel_initializer='normal',\n",
    "                activation='relu'))\n",
    "\n",
    "model.add(Dense(units=370,\n",
    "                kernel_initializer='normal',\n",
    "                activation='relu'))\n",
    "    \n",
    "model.add(Dropout(0.3))\n",
    "\n",
    "\n",
    "model.add(Dense(units=165,\n",
    "                kernel_initializer='normal',\n",
    "                activation='relu'))\n",
    "    \n",
    "model.add(Dropout(0.2))\n",
    "\n",
    "\n",
    "model.add(Dense(units=45,\n",
    "                kernel_initializer='normal',\n",
    "                activation='relu'))\n",
    "    \n",
    "model.add(Dropout(0.6))\n",
    "\n",
    "\n",
    "\n",
    "    \n",
    "model.add(Dense(units=2,\n",
    "                kernel_initializer='normal',\n",
    "                activation='softmax'))\n",
    "    #定義訓練方式\n",
    "adam = keras.optimizers.Adam(lr=0.0001, beta_1=0.99, beta_2=0.999, amsgrad=False)\n",
    "model.compile(loss='categorical_crossentropy',\n",
    "              optimizer=adam, metrics=['accuracy'])\n",
    "train_history =model.fit(x=X_train_ori,\n",
    "                         y=Y_train_ori_onehot,\n",
    "                         validation_split=0.3, \n",
    "                         epochs=20,\n",
    "                         batch_size=30,\n",
    "                         verbose=2)\n",
    "\n",
    "    #評估準確率\n",
    "scores = model.evaluate(X_test_ori, Y_test_ori_onehot)\n",
    "print('\\n準確率=',scores[1])\n",
    "#acc.append(scores[1])"
   ]
  },
  {
   "cell_type": "code",
   "execution_count": null,
   "metadata": {},
   "outputs": [],
   "source": [
    "X_train, X_test, Y_train, Y_test"
   ]
  },
  {
   "cell_type": "code",
   "execution_count": 248,
   "metadata": {},
   "outputs": [
    {
     "name": "stderr",
     "output_type": "stream",
     "text": [
      "W0214 13:35:01.651357  5804 nn_ops.py:4224] Large dropout rate: 0.6 (>0.5). In TensorFlow 2.x, dropout() uses dropout rate instead of keep_prob. Please ensure that this is intended.\n"
     ]
    },
    {
     "name": "stdout",
     "output_type": "stream",
     "text": [
      "Train on 38145 samples, validate on 16348 samples\n",
      "Epoch 1/1500\n",
      " - 12s - loss: 0.3465 - acc: 0.8889 - val_loss: 0.3137 - val_acc: 0.9011\n",
      "Epoch 2/1500\n",
      " - 9s - loss: 0.3219 - acc: 0.8941 - val_loss: 0.3109 - val_acc: 0.8999\n",
      "Epoch 3/1500\n",
      " - 10s - loss: 0.3146 - acc: 0.8960 - val_loss: 0.3077 - val_acc: 0.9000\n",
      "Epoch 4/1500\n",
      " - 10s - loss: 0.3090 - acc: 0.8970 - val_loss: 0.3133 - val_acc: 0.8986\n",
      "Epoch 5/1500\n",
      " - 11s - loss: 0.3037 - acc: 0.8981 - val_loss: 0.3074 - val_acc: 0.8986\n",
      "Epoch 6/1500\n",
      " - 10s - loss: 0.2965 - acc: 0.8986 - val_loss: 0.3188 - val_acc: 0.8993\n",
      "Epoch 7/1500\n",
      " - 10s - loss: 0.2919 - acc: 0.8999 - val_loss: 0.3204 - val_acc: 0.8996\n",
      "Epoch 8/1500\n",
      " - 10s - loss: 0.2837 - acc: 0.9016 - val_loss: 0.3282 - val_acc: 0.8990\n",
      "Epoch 9/1500\n",
      " - 10s - loss: 0.2772 - acc: 0.9023 - val_loss: 0.3408 - val_acc: 0.9000\n",
      "Epoch 10/1500\n",
      " - 11s - loss: 0.2716 - acc: 0.9040 - val_loss: 0.3390 - val_acc: 0.8962\n",
      "Epoch 11/1500\n",
      " - 10s - loss: 0.2620 - acc: 0.9051 - val_loss: 0.3592 - val_acc: 0.8996\n",
      "Epoch 12/1500\n",
      " - 9s - loss: 0.2533 - acc: 0.9056 - val_loss: 0.4263 - val_acc: 0.8958\n",
      "Epoch 13/1500\n",
      " - 9s - loss: 0.2479 - acc: 0.9075 - val_loss: 0.3748 - val_acc: 0.8972\n",
      "Epoch 14/1500\n",
      " - 11s - loss: 0.2369 - acc: 0.9086 - val_loss: 0.4063 - val_acc: 0.8893\n",
      "Epoch 15/1500\n",
      " - 11s - loss: 0.2301 - acc: 0.9124 - val_loss: 0.4098 - val_acc: 0.8960\n",
      "Epoch 16/1500\n"
     ]
    },
    {
     "ename": "KeyboardInterrupt",
     "evalue": "",
     "output_type": "error",
     "traceback": [
      "\u001b[1;31m---------------------------------------------------------------------------\u001b[0m",
      "\u001b[1;31mKeyboardInterrupt\u001b[0m                         Traceback (most recent call last)",
      "\u001b[1;32m<ipython-input-248-cacc8631d883>\u001b[0m in \u001b[0;36m<module>\u001b[1;34m()\u001b[0m\n\u001b[0;32m     43\u001b[0m                          \u001b[0mepochs\u001b[0m\u001b[1;33m=\u001b[0m\u001b[1;36m1500\u001b[0m\u001b[1;33m,\u001b[0m\u001b[1;33m\u001b[0m\u001b[0m\n\u001b[0;32m     44\u001b[0m                          \u001b[0mbatch_size\u001b[0m\u001b[1;33m=\u001b[0m\u001b[1;36m30\u001b[0m\u001b[1;33m,\u001b[0m\u001b[1;33m\u001b[0m\u001b[0m\n\u001b[1;32m---> 45\u001b[1;33m                          verbose=2)\n\u001b[0m\u001b[0;32m     46\u001b[0m \u001b[1;33m\u001b[0m\u001b[0m\n\u001b[0;32m     47\u001b[0m     \u001b[1;31m#評估準確率\u001b[0m\u001b[1;33m\u001b[0m\u001b[1;33m\u001b[0m\u001b[0m\n",
      "\u001b[1;32m~\\Anaconda3\\lib\\site-packages\\keras\\engine\\training.py\u001b[0m in \u001b[0;36mfit\u001b[1;34m(self, x, y, batch_size, epochs, verbose, callbacks, validation_split, validation_data, shuffle, class_weight, sample_weight, initial_epoch, steps_per_epoch, validation_steps, **kwargs)\u001b[0m\n\u001b[0;32m   1037\u001b[0m                                         \u001b[0minitial_epoch\u001b[0m\u001b[1;33m=\u001b[0m\u001b[0minitial_epoch\u001b[0m\u001b[1;33m,\u001b[0m\u001b[1;33m\u001b[0m\u001b[0m\n\u001b[0;32m   1038\u001b[0m                                         \u001b[0msteps_per_epoch\u001b[0m\u001b[1;33m=\u001b[0m\u001b[0msteps_per_epoch\u001b[0m\u001b[1;33m,\u001b[0m\u001b[1;33m\u001b[0m\u001b[0m\n\u001b[1;32m-> 1039\u001b[1;33m                                         validation_steps=validation_steps)\n\u001b[0m\u001b[0;32m   1040\u001b[0m \u001b[1;33m\u001b[0m\u001b[0m\n\u001b[0;32m   1041\u001b[0m     def evaluate(self, x=None, y=None,\n",
      "\u001b[1;32m~\\Anaconda3\\lib\\site-packages\\keras\\engine\\training_arrays.py\u001b[0m in \u001b[0;36mfit_loop\u001b[1;34m(model, f, ins, out_labels, batch_size, epochs, verbose, callbacks, val_f, val_ins, shuffle, callback_metrics, initial_epoch, steps_per_epoch, validation_steps)\u001b[0m\n\u001b[0;32m    197\u001b[0m                     \u001b[0mins_batch\u001b[0m\u001b[1;33m[\u001b[0m\u001b[0mi\u001b[0m\u001b[1;33m]\u001b[0m \u001b[1;33m=\u001b[0m \u001b[0mins_batch\u001b[0m\u001b[1;33m[\u001b[0m\u001b[0mi\u001b[0m\u001b[1;33m]\u001b[0m\u001b[1;33m.\u001b[0m\u001b[0mtoarray\u001b[0m\u001b[1;33m(\u001b[0m\u001b[1;33m)\u001b[0m\u001b[1;33m\u001b[0m\u001b[0m\n\u001b[0;32m    198\u001b[0m \u001b[1;33m\u001b[0m\u001b[0m\n\u001b[1;32m--> 199\u001b[1;33m                 \u001b[0mouts\u001b[0m \u001b[1;33m=\u001b[0m \u001b[0mf\u001b[0m\u001b[1;33m(\u001b[0m\u001b[0mins_batch\u001b[0m\u001b[1;33m)\u001b[0m\u001b[1;33m\u001b[0m\u001b[0m\n\u001b[0m\u001b[0;32m    200\u001b[0m                 \u001b[0mouts\u001b[0m \u001b[1;33m=\u001b[0m \u001b[0mto_list\u001b[0m\u001b[1;33m(\u001b[0m\u001b[0mouts\u001b[0m\u001b[1;33m)\u001b[0m\u001b[1;33m\u001b[0m\u001b[0m\n\u001b[0;32m    201\u001b[0m                 \u001b[1;32mfor\u001b[0m \u001b[0ml\u001b[0m\u001b[1;33m,\u001b[0m \u001b[0mo\u001b[0m \u001b[1;32min\u001b[0m \u001b[0mzip\u001b[0m\u001b[1;33m(\u001b[0m\u001b[0mout_labels\u001b[0m\u001b[1;33m,\u001b[0m \u001b[0mouts\u001b[0m\u001b[1;33m)\u001b[0m\u001b[1;33m:\u001b[0m\u001b[1;33m\u001b[0m\u001b[0m\n",
      "\u001b[1;32m~\\Anaconda3\\lib\\site-packages\\keras\\backend\\tensorflow_backend.py\u001b[0m in \u001b[0;36m__call__\u001b[1;34m(self, inputs)\u001b[0m\n\u001b[0;32m   2713\u001b[0m                 \u001b[1;32mreturn\u001b[0m \u001b[0mself\u001b[0m\u001b[1;33m.\u001b[0m\u001b[0m_legacy_call\u001b[0m\u001b[1;33m(\u001b[0m\u001b[0minputs\u001b[0m\u001b[1;33m)\u001b[0m\u001b[1;33m\u001b[0m\u001b[0m\n\u001b[0;32m   2714\u001b[0m \u001b[1;33m\u001b[0m\u001b[0m\n\u001b[1;32m-> 2715\u001b[1;33m             \u001b[1;32mreturn\u001b[0m \u001b[0mself\u001b[0m\u001b[1;33m.\u001b[0m\u001b[0m_call\u001b[0m\u001b[1;33m(\u001b[0m\u001b[0minputs\u001b[0m\u001b[1;33m)\u001b[0m\u001b[1;33m\u001b[0m\u001b[0m\n\u001b[0m\u001b[0;32m   2716\u001b[0m         \u001b[1;32melse\u001b[0m\u001b[1;33m:\u001b[0m\u001b[1;33m\u001b[0m\u001b[0m\n\u001b[0;32m   2717\u001b[0m             \u001b[1;32mif\u001b[0m \u001b[0mpy_any\u001b[0m\u001b[1;33m(\u001b[0m\u001b[0mis_tensor\u001b[0m\u001b[1;33m(\u001b[0m\u001b[0mx\u001b[0m\u001b[1;33m)\u001b[0m \u001b[1;32mfor\u001b[0m \u001b[0mx\u001b[0m \u001b[1;32min\u001b[0m \u001b[0minputs\u001b[0m\u001b[1;33m)\u001b[0m\u001b[1;33m:\u001b[0m\u001b[1;33m\u001b[0m\u001b[0m\n",
      "\u001b[1;32m~\\Anaconda3\\lib\\site-packages\\keras\\backend\\tensorflow_backend.py\u001b[0m in \u001b[0;36m_call\u001b[1;34m(self, inputs)\u001b[0m\n\u001b[0;32m   2673\u001b[0m             \u001b[0mfetched\u001b[0m \u001b[1;33m=\u001b[0m \u001b[0mself\u001b[0m\u001b[1;33m.\u001b[0m\u001b[0m_callable_fn\u001b[0m\u001b[1;33m(\u001b[0m\u001b[1;33m*\u001b[0m\u001b[0marray_vals\u001b[0m\u001b[1;33m,\u001b[0m \u001b[0mrun_metadata\u001b[0m\u001b[1;33m=\u001b[0m\u001b[0mself\u001b[0m\u001b[1;33m.\u001b[0m\u001b[0mrun_metadata\u001b[0m\u001b[1;33m)\u001b[0m\u001b[1;33m\u001b[0m\u001b[0m\n\u001b[0;32m   2674\u001b[0m         \u001b[1;32melse\u001b[0m\u001b[1;33m:\u001b[0m\u001b[1;33m\u001b[0m\u001b[0m\n\u001b[1;32m-> 2675\u001b[1;33m             \u001b[0mfetched\u001b[0m \u001b[1;33m=\u001b[0m \u001b[0mself\u001b[0m\u001b[1;33m.\u001b[0m\u001b[0m_callable_fn\u001b[0m\u001b[1;33m(\u001b[0m\u001b[1;33m*\u001b[0m\u001b[0marray_vals\u001b[0m\u001b[1;33m)\u001b[0m\u001b[1;33m\u001b[0m\u001b[0m\n\u001b[0m\u001b[0;32m   2676\u001b[0m         \u001b[1;32mreturn\u001b[0m \u001b[0mfetched\u001b[0m\u001b[1;33m[\u001b[0m\u001b[1;33m:\u001b[0m\u001b[0mlen\u001b[0m\u001b[1;33m(\u001b[0m\u001b[0mself\u001b[0m\u001b[1;33m.\u001b[0m\u001b[0moutputs\u001b[0m\u001b[1;33m)\u001b[0m\u001b[1;33m]\u001b[0m\u001b[1;33m\u001b[0m\u001b[0m\n\u001b[0;32m   2677\u001b[0m \u001b[1;33m\u001b[0m\u001b[0m\n",
      "\u001b[1;32m~\\Anaconda3\\lib\\site-packages\\tensorflow\\python\\client\\session.py\u001b[0m in \u001b[0;36m__call__\u001b[1;34m(self, *args, **kwargs)\u001b[0m\n\u001b[0;32m   1456\u001b[0m         ret = tf_session.TF_SessionRunCallable(self._session._session,\n\u001b[0;32m   1457\u001b[0m                                                \u001b[0mself\u001b[0m\u001b[1;33m.\u001b[0m\u001b[0m_handle\u001b[0m\u001b[1;33m,\u001b[0m \u001b[0margs\u001b[0m\u001b[1;33m,\u001b[0m\u001b[1;33m\u001b[0m\u001b[0m\n\u001b[1;32m-> 1458\u001b[1;33m                                                run_metadata_ptr)\n\u001b[0m\u001b[0;32m   1459\u001b[0m         \u001b[1;32mif\u001b[0m \u001b[0mrun_metadata\u001b[0m\u001b[1;33m:\u001b[0m\u001b[1;33m\u001b[0m\u001b[0m\n\u001b[0;32m   1460\u001b[0m           \u001b[0mproto_data\u001b[0m \u001b[1;33m=\u001b[0m \u001b[0mtf_session\u001b[0m\u001b[1;33m.\u001b[0m\u001b[0mTF_GetBuffer\u001b[0m\u001b[1;33m(\u001b[0m\u001b[0mrun_metadata_ptr\u001b[0m\u001b[1;33m)\u001b[0m\u001b[1;33m\u001b[0m\u001b[0m\n",
      "\u001b[1;31mKeyboardInterrupt\u001b[0m: "
     ]
    }
   ],
   "source": [
    "#acc = []\n",
    "i = 260\n",
    "#for i in range(5,50):\n",
    "model = Sequential()\n",
    "    #輸入層：7, 隱藏層：50，輸出層：2\n",
    "model.add(Dense(units=i, \n",
    "                input_dim=165,\n",
    "                kernel_initializer='normal',\n",
    "                activation='relu'))\n",
    "\n",
    "model.add(Dense(units=370,\n",
    "                kernel_initializer='normal',\n",
    "                activation='relu'))\n",
    "    \n",
    "model.add(Dropout(0.3))\n",
    "\n",
    "\n",
    "model.add(Dense(units=165,\n",
    "                kernel_initializer='normal',\n",
    "                activation='relu'))\n",
    "    \n",
    "model.add(Dropout(0.2))\n",
    "\n",
    "\n",
    "model.add(Dense(units=45,\n",
    "                kernel_initializer='normal',\n",
    "                activation='relu'))\n",
    "    \n",
    "model.add(Dropout(0.6))\n",
    "\n",
    "\n",
    "\n",
    "    \n",
    "model.add(Dense(units=2,\n",
    "                kernel_initializer='normal',\n",
    "                activation='softmax'))\n",
    "    #定義訓練方式\n",
    "model.compile(loss='categorical_crossentropy',\n",
    "                optimizer='adam', metrics=['accuracy'])\n",
    "train_history =model.fit(x=X_train,\n",
    "                         y=Y_train_onehot,\n",
    "                         validation_split=0.3, \n",
    "                         epochs=1500,\n",
    "                         batch_size=30,\n",
    "                         verbose=2)\n",
    "\n",
    "    #評估準確率\n",
    "scores = model.evaluate(X_test, Y_test_onehot)\n",
    "print('\\n準確率=',scores[1])\n",
    "#acc.append(scores[1])"
   ]
  },
  {
   "cell_type": "code",
   "execution_count": null,
   "metadata": {},
   "outputs": [],
   "source": []
  },
  {
   "cell_type": "code",
   "execution_count": null,
   "metadata": {},
   "outputs": [],
   "source": []
  },
  {
   "cell_type": "code",
   "execution_count": null,
   "metadata": {},
   "outputs": [],
   "source": []
  },
  {
   "cell_type": "code",
   "execution_count": null,
   "metadata": {},
   "outputs": [],
   "source": []
  },
  {
   "cell_type": "code",
   "execution_count": null,
   "metadata": {},
   "outputs": [],
   "source": []
  },
  {
   "cell_type": "code",
   "execution_count": null,
   "metadata": {},
   "outputs": [],
   "source": []
  },
  {
   "cell_type": "code",
   "execution_count": null,
   "metadata": {},
   "outputs": [],
   "source": []
  },
  {
   "cell_type": "code",
   "execution_count": null,
   "metadata": {},
   "outputs": [],
   "source": [
    "data2_cleaned.head()"
   ]
  },
  {
   "cell_type": "code",
   "execution_count": null,
   "metadata": {},
   "outputs": [],
   "source": [
    "for i in range(len(dataFinal.columns)):\n",
    "    print(dataFinal.columns[i])"
   ]
  },
  {
   "cell_type": "code",
   "execution_count": null,
   "metadata": {},
   "outputs": [],
   "source": [
    "#dataFinal[dataFinal['Make_FORD']==1]"
   ]
  },
  {
   "cell_type": "code",
   "execution_count": null,
   "metadata": {},
   "outputs": [],
   "source": [
    "lr = LR(C=1.) # create a model, set the parameters (hyperparameter)\n",
    "lr.fit(X_train, Y_train) # train the model\n",
    "\n",
    "\n",
    "lr.score(X_test, Y_test) # prediction performance, accuracy\n",
    "from sklearn.metrics import precision_score,recall_score\n",
    "\n",
    "\n",
    "precision = precision_score(Y_test, lr.predict(X_test),pos_label=1)\n",
    "recall = recall_score(Y_test, lr.predict(X_test),pos_label=1)\n",
    "print(precision)\n",
    "print(recall)\n",
    "lr.classes_\n"
   ]
  },
  {
   "cell_type": "code",
   "execution_count": null,
   "metadata": {},
   "outputs": [],
   "source": [
    "\n",
    "# TPR = TP/P\n",
    "# FPR = FP/N\n",
    "from sklearn.metrics import roc_curve\n",
    "fpr, tpr, thresholds = roc_curve(Y_test, lr.predict_proba(X_test)[:,1],pos_label=1)\n",
    "\n",
    "import matplotlib.pyplot as plt\n",
    "plt.figure()\n",
    "plt.plot(fpr, tpr, color='darkorange')\n",
    "plt.plot([0, 1], [0, 1], color='navy', linestyle='--')\n",
    "plt.xlim([0.0, 1.0])\n",
    "plt.ylim([0.0, 1.05])\n",
    "plt.xlabel('False Postive Rate, FPR')\n",
    "plt.ylabel('True Positive Rate, TPR')\n",
    "plt.title('Receiver operating characteristic example')\n",
    "plt.show()"
   ]
  },
  {
   "cell_type": "code",
   "execution_count": null,
   "metadata": {},
   "outputs": [],
   "source": []
  },
  {
   "cell_type": "code",
   "execution_count": null,
   "metadata": {},
   "outputs": [],
   "source": []
  }
 ],
 "metadata": {
  "kernelspec": {
   "display_name": "Python 3",
   "language": "python",
   "name": "python3"
  },
  "language_info": {
   "codemirror_mode": {
    "name": "ipython",
    "version": 3
   },
   "file_extension": ".py",
   "mimetype": "text/x-python",
   "name": "python",
   "nbconvert_exporter": "python",
   "pygments_lexer": "ipython3",
   "version": "3.6.4"
  }
 },
 "nbformat": 4,
 "nbformat_minor": 2
}
