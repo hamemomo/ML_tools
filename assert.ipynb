{
 "cells": [
  {
   "cell_type": "code",
   "execution_count": 182,
   "metadata": {},
   "outputs": [
    {
     "name": "stdout",
     "output_type": "stream",
     "text": [
      "[1] 2094128397832\n",
      "[2] 2094128397960\n",
      "[3] 2094128398152\n"
     ]
    }
   ],
   "source": [
    "def extend_list(val, l=[]):\n",
    "    l.append(val)\n",
    "    print(l, id(l))\n",
    "    return l\n",
    "\n",
    "def test_extend_list():\n",
    "    # 1\n",
    "    assert extend_list(1) == [1]\n",
    "    # 2\n",
    "    assert extend_list(2,[]) == [2]\n",
    "    # 3\n",
    "    assert extend_list(3,[])== [3]\n",
    "if __name__ == '__main__':\n",
    "    test_extend_list()"
   ]
  },
  {
   "cell_type": "code",
   "execution_count": null,
   "metadata": {},
   "outputs": [],
   "source": [
    "def extend_list(val, l=[]):\n",
    "    print('---------------------')\n",
    "    print(l, id(l))\n",
    "    l.append(val)\n",
    "    print(l, id(l))\n",
    "    return l\n",
    "\n",
    "\n",
    "list1 = extend_list(10)\n",
    "list2 = extend_list(123, [])\n",
    "list3 = extend_list('a')\n",
    "\n",
    "print(list1)\n",
    "print(list2)\n",
    "print(list3)"
   ]
  },
  {
   "cell_type": "code",
   "execution_count": null,
   "metadata": {},
   "outputs": [],
   "source": []
  },
  {
   "cell_type": "code",
   "execution_count": null,
   "metadata": {},
   "outputs": [],
   "source": []
  },
  {
   "cell_type": "code",
   "execution_count": null,
   "metadata": {},
   "outputs": [],
   "source": []
  },
  {
   "cell_type": "code",
   "execution_count": 289,
   "metadata": {},
   "outputs": [],
   "source": [
    "class list_resouce(object):\n",
    "    def __init__(self):\n",
    "        \n",
    "        print(\"__init__ method\")\n",
    "        print('creat',id(self))\n",
    "        \n",
    "    def extend_list(self,val,l=[]):\n",
    "        self.l = l\n",
    "        self.l.append(val)\n",
    "        print(\"running in extend_list adress\",self.l, id(self.l))\n",
    "        return self.l\n",
    "        \n",
    "    def test_extend_list(self):\n",
    "        print(\"running in test_extend_list\")\n",
    "        assert self.extend_list(1) == [1]\n",
    "        self.show_default_list()\n",
    "        self.clear_list()\n",
    "        \n",
    "        assert self.extend_list(2,[]) == [2]\n",
    "        self.show_default_list()\n",
    "        self.clear_list()\n",
    "        \n",
    "        assert self.extend_list(3,[])== [3]\n",
    "        self.show_default_list()\n",
    "        self.clear_list()\n",
    "    \n",
    "    def show_default_list(self):\n",
    "        print('default list',id(self.l))\n",
    "        \n",
    "    def clear_list(self):\n",
    "        self.l.clear()\n",
    "        \n",
    "\n",
    "    def __del__(self):\n",
    "        \n",
    "        print(\"__def__method\")"
   ]
  },
  {
   "cell_type": "code",
   "execution_count": 290,
   "metadata": {},
   "outputs": [
    {
     "name": "stdout",
     "output_type": "stream",
     "text": [
      "__init__ method\n",
      "creat empty list 2094136028352\n",
      "__def__method\n",
      "running in test_extend_list\n",
      "running in extend_list adress [1] 2094129532360\n",
      "default list 2094129532360\n",
      "running in extend_list adress [2] 2094128566600\n",
      "default list 2094128566600\n",
      "running in extend_list adress [3] 2094127829064\n",
      "default list 2094127829064\n",
      "default list 2094127829064\n"
     ]
    }
   ],
   "source": [
    "run = list_resouce()\n",
    "\n",
    "run.test_extend_list()\n",
    "run.show_default_list()"
   ]
  },
  {
   "cell_type": "code",
   "execution_count": null,
   "metadata": {},
   "outputs": [],
   "source": []
  }
 ],
 "metadata": {
  "kernelspec": {
   "display_name": "Python 3",
   "language": "python",
   "name": "python3"
  },
  "language_info": {
   "codemirror_mode": {
    "name": "ipython",
    "version": 3
   },
   "file_extension": ".py",
   "mimetype": "text/x-python",
   "name": "python",
   "nbconvert_exporter": "python",
   "pygments_lexer": "ipython3",
   "version": "3.6.4"
  }
 },
 "nbformat": 4,
 "nbformat_minor": 2
}
