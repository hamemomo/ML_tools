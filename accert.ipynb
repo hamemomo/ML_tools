{
 "cells": [
  {
   "cell_type": "code",
   "execution_count": 19,
   "metadata": {},
   "outputs": [],
   "source": [
    "def extend_list(val,l=[]):\n",
    "    l = []\n",
    "    l.append(val)\n",
    "    return l\n",
    "\n",
    "def test_extend_list():\n",
    "    # 1\n",
    "    assert extend_list(1) == [1]\n",
    "    # 2\n",
    "    assert extend_list(2,[]) == [2]\n",
    "    # 3\n",
    "    assert extend_list(3)== [3]\n",
    "if __name__ == '__main__':\n",
    "    test_extend_list()"
   ]
  },
  {
   "cell_type": "code",
   "execution_count": 20,
   "metadata": {},
   "outputs": [],
   "source": [
    "if __name__ == '__main__':\n",
    "    test_extend_list()"
   ]
  },
  {
   "cell_type": "code",
   "execution_count": null,
   "metadata": {},
   "outputs": [],
   "source": []
  }
 ],
 "metadata": {
  "kernelspec": {
   "display_name": "Python 3",
   "language": "python",
   "name": "python3"
  },
  "language_info": {
   "codemirror_mode": {
    "name": "ipython",
    "version": 3
   },
   "file_extension": ".py",
   "mimetype": "text/x-python",
   "name": "python",
   "nbconvert_exporter": "python",
   "pygments_lexer": "ipython3",
   "version": "3.6.4"
  }
 },
 "nbformat": 4,
 "nbformat_minor": 2
}
